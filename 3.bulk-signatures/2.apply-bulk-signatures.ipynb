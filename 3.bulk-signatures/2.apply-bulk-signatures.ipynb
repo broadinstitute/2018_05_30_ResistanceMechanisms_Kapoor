{
 "cells": [
  {
   "cell_type": "markdown",
   "metadata": {},
   "source": [
    "# Apply Signature Analysis to Cell Morphology Features\n",
    "\n",
    "Gregory Way, 2020\n",
    "\n",
    "Here, I apply [`singscore`](https://bioconductor.org/packages/devel/bioc/vignettes/singscore/inst/doc/singscore.html) ([Foroutan et al. 2018](https://doi.org/10.1186/s12859-018-2435-4)) to our Cell Painting profiles.\n",
    "This notebook largely follows the [package vignette](https://bioconductor.org/packages/devel/bioc/vignettes/singscore/inst/doc/singscore.html).\n",
    "\n",
    "To review how I derived these signatures see `1.derive-bulk-signatures.ipynb`."
   ]
  },
  {
   "cell_type": "code",
   "execution_count": 1,
   "metadata": {},
   "outputs": [],
   "source": [
    "suppressPackageStartupMessages(library(dplyr))\n",
    "suppressPackageStartupMessages(library(singscore))\n",
    "\n",
    "source(file.path(\"utils\", \"singscore_utils.R\"))"
   ]
  },
  {
   "cell_type": "code",
   "execution_count": 2,
   "metadata": {},
   "outputs": [],
   "source": [
    "seed <- 1234\n",
    "num_permutations <- 1000\n",
    "datasets <- c(\n",
    "    \"cloneAE\",\n",
    "    \"ixazomib\",\n",
    "    \"cb5083\"\n",
    ")\n",
    "\n",
    "data_dir <- \"data\"\n",
    "data_file <- file.path(data_dir, \"bulk_profiles_analytical_set.csv.gz\")\n",
    "\n",
    "input_results_dir <- file.path(\"results\", \"signatures\")\n",
    "signature_file <- file.path(input_results_dir, \"signature_summary_full_bulk_signature.tsv\")\n",
    "tukey_file <- file.path(input_results_dir, \"tukey_results_full_bulk_signature.tsv.gz\")\n",
    "\n",
    "output_dir <- file.path(\"results\", \"singscore\")\n",
    "output_results_file <- file.path(output_dir, \"full_bulk_signature_singscore_results.tsv.gz\")"
   ]
  },
  {
   "cell_type": "code",
   "execution_count": 3,
   "metadata": {},
   "outputs": [],
   "source": [
    "set.seed(seed)"
   ]
  },
  {
   "cell_type": "code",
   "execution_count": 4,
   "metadata": {},
   "outputs": [
    {
     "name": "stdout",
     "output_type": "stream",
     "text": [
      "[1]  612 3547\n"
     ]
    },
    {
     "data": {
      "text/html": [
       "<table>\n",
       "<caption>A tibble: 4 × 3547</caption>\n",
       "<thead>\n",
       "\t<tr><th scope=col>Metadata_Plate</th><th scope=col>Metadata_Well</th><th scope=col>Metadata_batch</th><th scope=col>Metadata_clone_number</th><th scope=col>Metadata_plate_map_name</th><th scope=col>Metadata_treatment</th><th scope=col>Metadata_dataset</th><th scope=col>Metadata_clone_type</th><th scope=col>Metadata_clone_type_indicator</th><th scope=col>Metadata_model_split</th><th scope=col>⋯</th><th scope=col>Nuclei_Texture_Variance_RNA_10_02</th><th scope=col>Nuclei_Texture_Variance_RNA_10_03</th><th scope=col>Nuclei_Texture_Variance_RNA_20_00</th><th scope=col>Nuclei_Texture_Variance_RNA_20_01</th><th scope=col>Nuclei_Texture_Variance_RNA_20_02</th><th scope=col>Nuclei_Texture_Variance_RNA_20_03</th><th scope=col>Nuclei_Texture_Variance_RNA_5_00</th><th scope=col>Nuclei_Texture_Variance_RNA_5_01</th><th scope=col>Nuclei_Texture_Variance_RNA_5_02</th><th scope=col>Nuclei_Texture_Variance_RNA_5_03</th></tr>\n",
       "\t<tr><th scope=col>&lt;chr&gt;</th><th scope=col>&lt;chr&gt;</th><th scope=col>&lt;chr&gt;</th><th scope=col>&lt;chr&gt;</th><th scope=col>&lt;chr&gt;</th><th scope=col>&lt;chr&gt;</th><th scope=col>&lt;chr&gt;</th><th scope=col>&lt;chr&gt;</th><th scope=col>&lt;chr&gt;</th><th scope=col>&lt;chr&gt;</th><th scope=col>⋯</th><th scope=col>&lt;dbl&gt;</th><th scope=col>&lt;dbl&gt;</th><th scope=col>&lt;dbl&gt;</th><th scope=col>&lt;dbl&gt;</th><th scope=col>&lt;dbl&gt;</th><th scope=col>&lt;dbl&gt;</th><th scope=col>&lt;dbl&gt;</th><th scope=col>&lt;dbl&gt;</th><th scope=col>&lt;dbl&gt;</th><th scope=col>&lt;dbl&gt;</th></tr>\n",
       "</thead>\n",
       "<tbody>\n",
       "\t<tr><td>HCT116bortezomib</td><td>B03</td><td>2019_02_15_Batch1_20X</td><td>WT_parental</td><td>PlateMap_HCT116bortezomib</td><td>0.1% DMSO</td><td>cloneAE</td><td>sensitive</td><td>0</td><td>training</td><td>⋯</td><td>-0.7936480</td><td>-0.7971384</td><td>-0.8497648</td><td>-0.8422521</td><td>-0.8371976</td><td>-0.8360676</td><td>-0.7911125</td><td>-0.7921908</td><td>-0.7929302</td><td>-0.7948077</td></tr>\n",
       "\t<tr><td>HCT116bortezomib</td><td>B04</td><td>2019_02_15_Batch1_20X</td><td>WT_parental</td><td>PlateMap_HCT116bortezomib</td><td>0.1% DMSO</td><td>cloneAE</td><td>sensitive</td><td>0</td><td>training</td><td>⋯</td><td>-0.6146661</td><td>-0.6211401</td><td>-0.6681232</td><td>-0.6482634</td><td>-0.6645153</td><td>-0.6630872</td><td>-0.6084365</td><td>-0.6124887</td><td>-0.6099403</td><td>-0.6126431</td></tr>\n",
       "\t<tr><td>HCT116bortezomib</td><td>B05</td><td>2019_02_15_Batch1_20X</td><td>WT_parental</td><td>PlateMap_HCT116bortezomib</td><td>0.1% DMSO</td><td>cloneAE</td><td>sensitive</td><td>0</td><td>training</td><td>⋯</td><td>-0.7211521</td><td>-0.7261770</td><td>-0.7334183</td><td>-0.7047708</td><td>-0.7273677</td><td>-0.7210842</td><td>-0.7165588</td><td>-0.7199086</td><td>-0.7220983</td><td>-0.7216850</td></tr>\n",
       "\t<tr><td>HCT116bortezomib</td><td>B06</td><td>2019_02_15_Batch1_20X</td><td>CloneA     </td><td>PlateMap_HCT116bortezomib</td><td>0.1% DMSO</td><td>cloneAE</td><td>resistant</td><td>1</td><td>training</td><td>⋯</td><td>-0.9428608</td><td>-0.9424811</td><td>-0.9696387</td><td>-0.9835661</td><td>-0.9495513</td><td>-0.9579973</td><td>-0.9454605</td><td>-0.9447918</td><td>-0.9505914</td><td>-0.9474764</td></tr>\n",
       "</tbody>\n",
       "</table>\n"
      ],
      "text/latex": [
       "A tibble: 4 × 3547\n",
       "\\begin{tabular}{lllllllllllllllllllll}\n",
       " Metadata\\_Plate & Metadata\\_Well & Metadata\\_batch & Metadata\\_clone\\_number & Metadata\\_plate\\_map\\_name & Metadata\\_treatment & Metadata\\_dataset & Metadata\\_clone\\_type & Metadata\\_clone\\_type\\_indicator & Metadata\\_model\\_split & ⋯ & Nuclei\\_Texture\\_Variance\\_RNA\\_10\\_02 & Nuclei\\_Texture\\_Variance\\_RNA\\_10\\_03 & Nuclei\\_Texture\\_Variance\\_RNA\\_20\\_00 & Nuclei\\_Texture\\_Variance\\_RNA\\_20\\_01 & Nuclei\\_Texture\\_Variance\\_RNA\\_20\\_02 & Nuclei\\_Texture\\_Variance\\_RNA\\_20\\_03 & Nuclei\\_Texture\\_Variance\\_RNA\\_5\\_00 & Nuclei\\_Texture\\_Variance\\_RNA\\_5\\_01 & Nuclei\\_Texture\\_Variance\\_RNA\\_5\\_02 & Nuclei\\_Texture\\_Variance\\_RNA\\_5\\_03\\\\\n",
       " <chr> & <chr> & <chr> & <chr> & <chr> & <chr> & <chr> & <chr> & <chr> & <chr> & ⋯ & <dbl> & <dbl> & <dbl> & <dbl> & <dbl> & <dbl> & <dbl> & <dbl> & <dbl> & <dbl>\\\\\n",
       "\\hline\n",
       "\t HCT116bortezomib & B03 & 2019\\_02\\_15\\_Batch1\\_20X & WT\\_parental & PlateMap\\_HCT116bortezomib & 0.1\\% DMSO & cloneAE & sensitive & 0 & training & ⋯ & -0.7936480 & -0.7971384 & -0.8497648 & -0.8422521 & -0.8371976 & -0.8360676 & -0.7911125 & -0.7921908 & -0.7929302 & -0.7948077\\\\\n",
       "\t HCT116bortezomib & B04 & 2019\\_02\\_15\\_Batch1\\_20X & WT\\_parental & PlateMap\\_HCT116bortezomib & 0.1\\% DMSO & cloneAE & sensitive & 0 & training & ⋯ & -0.6146661 & -0.6211401 & -0.6681232 & -0.6482634 & -0.6645153 & -0.6630872 & -0.6084365 & -0.6124887 & -0.6099403 & -0.6126431\\\\\n",
       "\t HCT116bortezomib & B05 & 2019\\_02\\_15\\_Batch1\\_20X & WT\\_parental & PlateMap\\_HCT116bortezomib & 0.1\\% DMSO & cloneAE & sensitive & 0 & training & ⋯ & -0.7211521 & -0.7261770 & -0.7334183 & -0.7047708 & -0.7273677 & -0.7210842 & -0.7165588 & -0.7199086 & -0.7220983 & -0.7216850\\\\\n",
       "\t HCT116bortezomib & B06 & 2019\\_02\\_15\\_Batch1\\_20X & CloneA      & PlateMap\\_HCT116bortezomib & 0.1\\% DMSO & cloneAE & resistant & 1 & training & ⋯ & -0.9428608 & -0.9424811 & -0.9696387 & -0.9835661 & -0.9495513 & -0.9579973 & -0.9454605 & -0.9447918 & -0.9505914 & -0.9474764\\\\\n",
       "\\end{tabular}\n"
      ],
      "text/markdown": [
       "\n",
       "A tibble: 4 × 3547\n",
       "\n",
       "| Metadata_Plate &lt;chr&gt; | Metadata_Well &lt;chr&gt; | Metadata_batch &lt;chr&gt; | Metadata_clone_number &lt;chr&gt; | Metadata_plate_map_name &lt;chr&gt; | Metadata_treatment &lt;chr&gt; | Metadata_dataset &lt;chr&gt; | Metadata_clone_type &lt;chr&gt; | Metadata_clone_type_indicator &lt;chr&gt; | Metadata_model_split &lt;chr&gt; | ⋯ ⋯ | Nuclei_Texture_Variance_RNA_10_02 &lt;dbl&gt; | Nuclei_Texture_Variance_RNA_10_03 &lt;dbl&gt; | Nuclei_Texture_Variance_RNA_20_00 &lt;dbl&gt; | Nuclei_Texture_Variance_RNA_20_01 &lt;dbl&gt; | Nuclei_Texture_Variance_RNA_20_02 &lt;dbl&gt; | Nuclei_Texture_Variance_RNA_20_03 &lt;dbl&gt; | Nuclei_Texture_Variance_RNA_5_00 &lt;dbl&gt; | Nuclei_Texture_Variance_RNA_5_01 &lt;dbl&gt; | Nuclei_Texture_Variance_RNA_5_02 &lt;dbl&gt; | Nuclei_Texture_Variance_RNA_5_03 &lt;dbl&gt; |\n",
       "|---|---|---|---|---|---|---|---|---|---|---|---|---|---|---|---|---|---|---|---|---|\n",
       "| HCT116bortezomib | B03 | 2019_02_15_Batch1_20X | WT_parental | PlateMap_HCT116bortezomib | 0.1% DMSO | cloneAE | sensitive | 0 | training | ⋯ | -0.7936480 | -0.7971384 | -0.8497648 | -0.8422521 | -0.8371976 | -0.8360676 | -0.7911125 | -0.7921908 | -0.7929302 | -0.7948077 |\n",
       "| HCT116bortezomib | B04 | 2019_02_15_Batch1_20X | WT_parental | PlateMap_HCT116bortezomib | 0.1% DMSO | cloneAE | sensitive | 0 | training | ⋯ | -0.6146661 | -0.6211401 | -0.6681232 | -0.6482634 | -0.6645153 | -0.6630872 | -0.6084365 | -0.6124887 | -0.6099403 | -0.6126431 |\n",
       "| HCT116bortezomib | B05 | 2019_02_15_Batch1_20X | WT_parental | PlateMap_HCT116bortezomib | 0.1% DMSO | cloneAE | sensitive | 0 | training | ⋯ | -0.7211521 | -0.7261770 | -0.7334183 | -0.7047708 | -0.7273677 | -0.7210842 | -0.7165588 | -0.7199086 | -0.7220983 | -0.7216850 |\n",
       "| HCT116bortezomib | B06 | 2019_02_15_Batch1_20X | CloneA      | PlateMap_HCT116bortezomib | 0.1% DMSO | cloneAE | resistant | 1 | training | ⋯ | -0.9428608 | -0.9424811 | -0.9696387 | -0.9835661 | -0.9495513 | -0.9579973 | -0.9454605 | -0.9447918 | -0.9505914 | -0.9474764 |\n",
       "\n"
      ],
      "text/plain": [
       "  Metadata_Plate   Metadata_Well Metadata_batch        Metadata_clone_number\n",
       "1 HCT116bortezomib B03           2019_02_15_Batch1_20X WT_parental          \n",
       "2 HCT116bortezomib B04           2019_02_15_Batch1_20X WT_parental          \n",
       "3 HCT116bortezomib B05           2019_02_15_Batch1_20X WT_parental          \n",
       "4 HCT116bortezomib B06           2019_02_15_Batch1_20X CloneA               \n",
       "  Metadata_plate_map_name   Metadata_treatment Metadata_dataset\n",
       "1 PlateMap_HCT116bortezomib 0.1% DMSO          cloneAE         \n",
       "2 PlateMap_HCT116bortezomib 0.1% DMSO          cloneAE         \n",
       "3 PlateMap_HCT116bortezomib 0.1% DMSO          cloneAE         \n",
       "4 PlateMap_HCT116bortezomib 0.1% DMSO          cloneAE         \n",
       "  Metadata_clone_type Metadata_clone_type_indicator Metadata_model_split ⋯\n",
       "1 sensitive           0                             training             ⋯\n",
       "2 sensitive           0                             training             ⋯\n",
       "3 sensitive           0                             training             ⋯\n",
       "4 resistant           1                             training             ⋯\n",
       "  Nuclei_Texture_Variance_RNA_10_02 Nuclei_Texture_Variance_RNA_10_03\n",
       "1 -0.7936480                        -0.7971384                       \n",
       "2 -0.6146661                        -0.6211401                       \n",
       "3 -0.7211521                        -0.7261770                       \n",
       "4 -0.9428608                        -0.9424811                       \n",
       "  Nuclei_Texture_Variance_RNA_20_00 Nuclei_Texture_Variance_RNA_20_01\n",
       "1 -0.8497648                        -0.8422521                       \n",
       "2 -0.6681232                        -0.6482634                       \n",
       "3 -0.7334183                        -0.7047708                       \n",
       "4 -0.9696387                        -0.9835661                       \n",
       "  Nuclei_Texture_Variance_RNA_20_02 Nuclei_Texture_Variance_RNA_20_03\n",
       "1 -0.8371976                        -0.8360676                       \n",
       "2 -0.6645153                        -0.6630872                       \n",
       "3 -0.7273677                        -0.7210842                       \n",
       "4 -0.9495513                        -0.9579973                       \n",
       "  Nuclei_Texture_Variance_RNA_5_00 Nuclei_Texture_Variance_RNA_5_01\n",
       "1 -0.7911125                       -0.7921908                      \n",
       "2 -0.6084365                       -0.6124887                      \n",
       "3 -0.7165588                       -0.7199086                      \n",
       "4 -0.9454605                       -0.9447918                      \n",
       "  Nuclei_Texture_Variance_RNA_5_02 Nuclei_Texture_Variance_RNA_5_03\n",
       "1 -0.7929302                       -0.7948077                      \n",
       "2 -0.6099403                       -0.6126431                      \n",
       "3 -0.7220983                       -0.7216850                      \n",
       "4 -0.9505914                       -0.9474764                      "
      ]
     },
     "metadata": {},
     "output_type": "display_data"
    }
   ],
   "source": [
    "# Load profiles\n",
    "bulk_col_types <- readr::cols(\n",
    "    .default = readr::col_double(),\n",
    "    Metadata_Plate = readr::col_character(),\n",
    "    Metadata_Well = readr::col_character(),\n",
    "    Metadata_batch = readr::col_character(),\n",
    "    Metadata_clone_number = readr::col_character(),\n",
    "    Metadata_plate_map_name = readr::col_character(),\n",
    "    Metadata_treatment = readr::col_character(),\n",
    "    Metadata_dataset = readr::col_character(),\n",
    "    Metadata_clone_type = readr::col_character(),\n",
    "    Metadata_clone_type_indicator = readr::col_character(),\n",
    "    Metadata_model_split = readr::col_character(),\n",
    "    Metadata_cell_density = readr::col_character(),\n",
    "    Metadata_plate_filename = readr::col_character(),\n",
    "    Metadata_treatment_time = readr::col_character(),\n",
    "    Metadata_unique_sample_name = readr::col_character(),\n",
    "    Metadata_time_to_adhere = readr::col_character()\n",
    ")\n",
    "\n",
    "bulk_df <- readr::read_csv(data_file, col_types = bulk_col_types)\n",
    "\n",
    "print(dim(bulk_df))\n",
    "head(bulk_df, 4)"
   ]
  },
  {
   "cell_type": "code",
   "execution_count": 5,
   "metadata": {},
   "outputs": [
    {
     "name": "stdout",
     "output_type": "stream",
     "text": [
      "[1] 186   6\n"
     ]
    },
    {
     "data": {
      "text/html": [
       "<table>\n",
       "<caption>A tibble: 4 × 6</caption>\n",
       "<thead>\n",
       "\t<tr><th scope=col>signature_features</th><th scope=col>plate_exclude</th><th scope=col>batch_exclude</th><th scope=col>non_specific_exclude</th><th scope=col>final_signature</th><th scope=col>dataset</th></tr>\n",
       "\t<tr><th scope=col>&lt;chr&gt;</th><th scope=col>&lt;lgl&gt;</th><th scope=col>&lt;lgl&gt;</th><th scope=col>&lt;lgl&gt;</th><th scope=col>&lt;lgl&gt;</th><th scope=col>&lt;chr&gt;</th></tr>\n",
       "</thead>\n",
       "<tbody>\n",
       "\t<tr><td>Cytoplasm_Correlation_Costes_RNA_Mito       </td><td>FALSE</td><td> TRUE</td><td>FALSE</td><td>FALSE</td><td>cloneAE</td></tr>\n",
       "\t<tr><td>Cytoplasm_Correlation_Manders_DNA_ER        </td><td>FALSE</td><td> TRUE</td><td>FALSE</td><td>FALSE</td><td>cloneAE</td></tr>\n",
       "\t<tr><td>Nuclei_RadialDistribution_MeanFrac_Mito_4of4</td><td>FALSE</td><td>FALSE</td><td>FALSE</td><td> TRUE</td><td>cloneAE</td></tr>\n",
       "\t<tr><td>Cytoplasm_Granularity_3_Mito                </td><td>FALSE</td><td> TRUE</td><td>FALSE</td><td>FALSE</td><td>cloneAE</td></tr>\n",
       "</tbody>\n",
       "</table>\n"
      ],
      "text/latex": [
       "A tibble: 4 × 6\n",
       "\\begin{tabular}{llllll}\n",
       " signature\\_features & plate\\_exclude & batch\\_exclude & non\\_specific\\_exclude & final\\_signature & dataset\\\\\n",
       " <chr> & <lgl> & <lgl> & <lgl> & <lgl> & <chr>\\\\\n",
       "\\hline\n",
       "\t Cytoplasm\\_Correlation\\_Costes\\_RNA\\_Mito        & FALSE &  TRUE & FALSE & FALSE & cloneAE\\\\\n",
       "\t Cytoplasm\\_Correlation\\_Manders\\_DNA\\_ER         & FALSE &  TRUE & FALSE & FALSE & cloneAE\\\\\n",
       "\t Nuclei\\_RadialDistribution\\_MeanFrac\\_Mito\\_4of4 & FALSE & FALSE & FALSE &  TRUE & cloneAE\\\\\n",
       "\t Cytoplasm\\_Granularity\\_3\\_Mito                 & FALSE &  TRUE & FALSE & FALSE & cloneAE\\\\\n",
       "\\end{tabular}\n"
      ],
      "text/markdown": [
       "\n",
       "A tibble: 4 × 6\n",
       "\n",
       "| signature_features &lt;chr&gt; | plate_exclude &lt;lgl&gt; | batch_exclude &lt;lgl&gt; | non_specific_exclude &lt;lgl&gt; | final_signature &lt;lgl&gt; | dataset &lt;chr&gt; |\n",
       "|---|---|---|---|---|---|\n",
       "| Cytoplasm_Correlation_Costes_RNA_Mito        | FALSE |  TRUE | FALSE | FALSE | cloneAE |\n",
       "| Cytoplasm_Correlation_Manders_DNA_ER         | FALSE |  TRUE | FALSE | FALSE | cloneAE |\n",
       "| Nuclei_RadialDistribution_MeanFrac_Mito_4of4 | FALSE | FALSE | FALSE |  TRUE | cloneAE |\n",
       "| Cytoplasm_Granularity_3_Mito                 | FALSE |  TRUE | FALSE | FALSE | cloneAE |\n",
       "\n"
      ],
      "text/plain": [
       "  signature_features                           plate_exclude batch_exclude\n",
       "1 Cytoplasm_Correlation_Costes_RNA_Mito        FALSE          TRUE        \n",
       "2 Cytoplasm_Correlation_Manders_DNA_ER         FALSE          TRUE        \n",
       "3 Nuclei_RadialDistribution_MeanFrac_Mito_4of4 FALSE         FALSE        \n",
       "4 Cytoplasm_Granularity_3_Mito                 FALSE          TRUE        \n",
       "  non_specific_exclude final_signature dataset\n",
       "1 FALSE                FALSE           cloneAE\n",
       "2 FALSE                FALSE           cloneAE\n",
       "3 FALSE                 TRUE           cloneAE\n",
       "4 FALSE                FALSE           cloneAE"
      ]
     },
     "metadata": {},
     "output_type": "display_data"
    }
   ],
   "source": [
    "# Load signatures\n",
    "sig_col_types <- readr::cols(\n",
    "    signature_features = readr::col_character(),\n",
    "    plate_exclude = readr::col_logical(),\n",
    "    batch_exclude = readr::col_logical(),\n",
    "    non_specific_exclude = readr::col_logical(),\n",
    "    final_signature = readr::col_logical(),\n",
    "    dataset = readr::col_character()\n",
    ")\n",
    "\n",
    "signature_df <- readr::read_tsv(signature_file, col_types = sig_col_types)\n",
    "\n",
    "print(dim(signature_df))\n",
    "head(signature_df, 4)"
   ]
  },
  {
   "cell_type": "code",
   "execution_count": 6,
   "metadata": {},
   "outputs": [
    {
     "name": "stdout",
     "output_type": "stream",
     "text": [
      "[1] 23288     9\n"
     ]
    },
    {
     "data": {
      "text/html": [
       "<table>\n",
       "<caption>A tibble: 4 × 9</caption>\n",
       "<thead>\n",
       "\t<tr><th scope=col>term</th><th scope=col>comparison</th><th scope=col>estimate</th><th scope=col>conf.low</th><th scope=col>conf.high</th><th scope=col>adj.p.value</th><th scope=col>feature</th><th scope=col>neg_log_adj_p</th><th scope=col>dataset</th></tr>\n",
       "\t<tr><th scope=col>&lt;chr&gt;</th><th scope=col>&lt;chr&gt;</th><th scope=col>&lt;dbl&gt;</th><th scope=col>&lt;dbl&gt;</th><th scope=col>&lt;dbl&gt;</th><th scope=col>&lt;dbl&gt;</th><th scope=col>&lt;chr&gt;</th><th scope=col>&lt;dbl&gt;</th><th scope=col>&lt;chr&gt;</th></tr>\n",
       "</thead>\n",
       "<tbody>\n",
       "\t<tr><td>Metadata_clone_type_indicator</td><td>1-0                                    </td><td>-0.07805113</td><td>-0.07805113</td><td>-0.07805113</td><td>0</td><td>Cytoplasm_Correlation_Costes_RNA_Mito</td><td>Inf</td><td>cloneAE</td></tr>\n",
       "\t<tr><td>Metadata_batch               </td><td>2019_03_20_Batch2-2019_02_15_Batch1_20X</td><td> 0.36668143</td><td> 0.36668143</td><td> 0.36668143</td><td>0</td><td>Cytoplasm_Correlation_Costes_RNA_Mito</td><td>Inf</td><td>cloneAE</td></tr>\n",
       "\t<tr><td>Metadata_batch               </td><td>2020_07_02_Batch8-2019_02_15_Batch1_20X</td><td>-0.15710637</td><td>-0.15710637</td><td>-0.15710637</td><td>0</td><td>Cytoplasm_Correlation_Costes_RNA_Mito</td><td>Inf</td><td>cloneAE</td></tr>\n",
       "\t<tr><td>Metadata_batch               </td><td>2020_07_02_Batch8-2019_03_20_Batch2    </td><td>-0.52378780</td><td>-0.52378780</td><td>-0.52378780</td><td>0</td><td>Cytoplasm_Correlation_Costes_RNA_Mito</td><td>Inf</td><td>cloneAE</td></tr>\n",
       "</tbody>\n",
       "</table>\n"
      ],
      "text/latex": [
       "A tibble: 4 × 9\n",
       "\\begin{tabular}{lllllllll}\n",
       " term & comparison & estimate & conf.low & conf.high & adj.p.value & feature & neg\\_log\\_adj\\_p & dataset\\\\\n",
       " <chr> & <chr> & <dbl> & <dbl> & <dbl> & <dbl> & <chr> & <dbl> & <chr>\\\\\n",
       "\\hline\n",
       "\t Metadata\\_clone\\_type\\_indicator & 1-0                                     & -0.07805113 & -0.07805113 & -0.07805113 & 0 & Cytoplasm\\_Correlation\\_Costes\\_RNA\\_Mito & Inf & cloneAE\\\\\n",
       "\t Metadata\\_batch                & 2019\\_03\\_20\\_Batch2-2019\\_02\\_15\\_Batch1\\_20X &  0.36668143 &  0.36668143 &  0.36668143 & 0 & Cytoplasm\\_Correlation\\_Costes\\_RNA\\_Mito & Inf & cloneAE\\\\\n",
       "\t Metadata\\_batch                & 2020\\_07\\_02\\_Batch8-2019\\_02\\_15\\_Batch1\\_20X & -0.15710637 & -0.15710637 & -0.15710637 & 0 & Cytoplasm\\_Correlation\\_Costes\\_RNA\\_Mito & Inf & cloneAE\\\\\n",
       "\t Metadata\\_batch                & 2020\\_07\\_02\\_Batch8-2019\\_03\\_20\\_Batch2     & -0.52378780 & -0.52378780 & -0.52378780 & 0 & Cytoplasm\\_Correlation\\_Costes\\_RNA\\_Mito & Inf & cloneAE\\\\\n",
       "\\end{tabular}\n"
      ],
      "text/markdown": [
       "\n",
       "A tibble: 4 × 9\n",
       "\n",
       "| term &lt;chr&gt; | comparison &lt;chr&gt; | estimate &lt;dbl&gt; | conf.low &lt;dbl&gt; | conf.high &lt;dbl&gt; | adj.p.value &lt;dbl&gt; | feature &lt;chr&gt; | neg_log_adj_p &lt;dbl&gt; | dataset &lt;chr&gt; |\n",
       "|---|---|---|---|---|---|---|---|---|\n",
       "| Metadata_clone_type_indicator | 1-0                                     | -0.07805113 | -0.07805113 | -0.07805113 | 0 | Cytoplasm_Correlation_Costes_RNA_Mito | Inf | cloneAE |\n",
       "| Metadata_batch                | 2019_03_20_Batch2-2019_02_15_Batch1_20X |  0.36668143 |  0.36668143 |  0.36668143 | 0 | Cytoplasm_Correlation_Costes_RNA_Mito | Inf | cloneAE |\n",
       "| Metadata_batch                | 2020_07_02_Batch8-2019_02_15_Batch1_20X | -0.15710637 | -0.15710637 | -0.15710637 | 0 | Cytoplasm_Correlation_Costes_RNA_Mito | Inf | cloneAE |\n",
       "| Metadata_batch                | 2020_07_02_Batch8-2019_03_20_Batch2     | -0.52378780 | -0.52378780 | -0.52378780 | 0 | Cytoplasm_Correlation_Costes_RNA_Mito | Inf | cloneAE |\n",
       "\n"
      ],
      "text/plain": [
       "  term                          comparison                             \n",
       "1 Metadata_clone_type_indicator 1-0                                    \n",
       "2 Metadata_batch                2019_03_20_Batch2-2019_02_15_Batch1_20X\n",
       "3 Metadata_batch                2020_07_02_Batch8-2019_02_15_Batch1_20X\n",
       "4 Metadata_batch                2020_07_02_Batch8-2019_03_20_Batch2    \n",
       "  estimate    conf.low    conf.high   adj.p.value\n",
       "1 -0.07805113 -0.07805113 -0.07805113 0          \n",
       "2  0.36668143  0.36668143  0.36668143 0          \n",
       "3 -0.15710637 -0.15710637 -0.15710637 0          \n",
       "4 -0.52378780 -0.52378780 -0.52378780 0          \n",
       "  feature                               neg_log_adj_p dataset\n",
       "1 Cytoplasm_Correlation_Costes_RNA_Mito Inf           cloneAE\n",
       "2 Cytoplasm_Correlation_Costes_RNA_Mito Inf           cloneAE\n",
       "3 Cytoplasm_Correlation_Costes_RNA_Mito Inf           cloneAE\n",
       "4 Cytoplasm_Correlation_Costes_RNA_Mito Inf           cloneAE"
      ]
     },
     "metadata": {},
     "output_type": "display_data"
    }
   ],
   "source": [
    "# Load Tukey results (to determine if feature is \"up\" or \"down\")\n",
    "tukey_cols <- readr::cols(\n",
    "    term = readr::col_character(),\n",
    "    comparison = readr::col_character(),\n",
    "    estimate = readr::col_double(),\n",
    "    conf.low = readr::col_double(),\n",
    "    conf.high = readr::col_double(),\n",
    "    adj.p.value = readr::col_double(),\n",
    "    feature = readr::col_character(),\n",
    "    neg_log_adj_p = readr::col_double(),\n",
    "    dataset = readr::col_character()\n",
    ")\n",
    "\n",
    "tukey_df <- readr::read_tsv(tukey_file, col_types = tukey_cols)\n",
    "\n",
    "print(dim(tukey_df))\n",
    "head(tukey_df, 4)"
   ]
  },
  {
   "cell_type": "markdown",
   "metadata": {},
   "source": [
    "## Process signature\n",
    "\n",
    "Each signature contains features that are \"up\" and features that are \"down\".\n",
    "An \"up\" feature has higher values in resistant clones, while a \"down\" feature has lower values in resistant clones.\n",
    "We determine if the feature is up or down based on the tukey estimate comparison."
   ]
  },
  {
   "cell_type": "code",
   "execution_count": 7,
   "metadata": {},
   "outputs": [],
   "source": [
    "signature_features <- list()\n",
    "for (dataset in datasets) {\n",
    "    # Subset data to process dataset-specific signature\n",
    "    signature_subset_df <- signature_df %>%\n",
    "        dplyr::filter(dataset == !!dataset, final_signature)\n",
    "    \n",
    "    tukey_subset_df <- tukey_df %>%\n",
    "        dplyr::filter(\n",
    "            dataset == !!dataset,\n",
    "            term == \"Metadata_clone_type_indicator\",\n",
    "            feature %in% signature_subset_df$signature_features\n",
    "        )\n",
    "    \n",
    "    # Ensure that the comparison is always resistant vs. senstive\n",
    "    # and never the other way around!\n",
    "    stopifnot(length(table(tukey_subset_df$comparison)) == 1)\n",
    "    \n",
    "    # Determine feature direction\n",
    "    up_features <- tukey_subset_df %>% dplyr::filter(estimate > 0) %>% dplyr::pull(feature)\n",
    "    down_features <- tukey_subset_df %>% dplyr::filter(estimate < 0) %>% dplyr::pull(feature)\n",
    "    \n",
    "    # Store signature for downstream analyses\n",
    "    signature_features[[dataset]] <- list(\"up\" = up_features, \"down\" = down_features)\n",
    "}"
   ]
  },
  {
   "cell_type": "code",
   "execution_count": 8,
   "metadata": {},
   "outputs": [
    {
     "name": "stdout",
     "output_type": "stream",
     "text": [
      "[1] \"cloneAE\"\n",
      "[1] 11\n",
      "[1] 8\n",
      "[1] \"ixazomib\"\n",
      "[1] 12\n",
      "[1] 17\n",
      "[1] \"cb5083\"\n",
      "[1] 58\n",
      "[1] 39\n"
     ]
    }
   ],
   "source": [
    "# Print signature size info\n",
    "for (dataset in datasets) {\n",
    "    print(dataset)\n",
    "    print(length(signature_features[[dataset]][[\"up\"]]))\n",
    "    print(length(signature_features[[dataset]][[\"down\"]]))\n",
    "}"
   ]
  },
  {
   "cell_type": "markdown",
   "metadata": {},
   "source": [
    "## Apply singscore\n",
    "\n",
    "Apply the algorithm to each dataset using each signature.\n",
    "\n",
    "This means that I apply signatures to training, testing, and validation sets.\n",
    "The testing and validation sets were not used to build the signature.\n",
    "The validation set comes from an entirely different plate.\n",
    "This also means that I apply the signature derived from one experiment to all other drug resistant experiments."
   ]
  },
  {
   "cell_type": "code",
   "execution_count": 9,
   "metadata": {},
   "outputs": [
    {
     "name": "stderr",
     "output_type": "stream",
     "text": [
      "Warning message:\n",
      "“'tidy.numeric' is deprecated.\n",
      "See help(\"Deprecated\")”Warning message:\n",
      "“`data_frame()` is deprecated as of tibble 1.1.0.\n",
      "Please use `tibble()` instead.\n",
      "\u001b[90mThis warning is displayed once every 8 hours.\u001b[39m\n",
      "\u001b[90mCall `lifecycle::last_warnings()` to see where this warning was generated.\u001b[39m”Warning message:\n",
      "“'tidy.numeric' is deprecated.\n",
      "See help(\"Deprecated\")”Warning message:\n",
      "“'tidy.numeric' is deprecated.\n",
      "See help(\"Deprecated\")”Warning message:\n",
      "“'tidy.numeric' is deprecated.\n",
      "See help(\"Deprecated\")”Warning message:\n",
      "“'tidy.numeric' is deprecated.\n",
      "See help(\"Deprecated\")”Warning message:\n",
      "“'tidy.numeric' is deprecated.\n",
      "See help(\"Deprecated\")”Warning message:\n",
      "“'tidy.numeric' is deprecated.\n",
      "See help(\"Deprecated\")”Warning message:\n",
      "“'tidy.numeric' is deprecated.\n",
      "See help(\"Deprecated\")”Warning message:\n",
      "“'tidy.numeric' is deprecated.\n",
      "See help(\"Deprecated\")”"
     ]
    }
   ],
   "source": [
    "sing_score_results <- list()\n",
    "for (dataset in datasets) {\n",
    "    \n",
    "    bulk_subset_df <- bulk_df %>% dplyr::filter(Metadata_dataset == !!dataset)\n",
    "    sing_score_results[[dataset]] <- list()\n",
    "    \n",
    "    for (signature in datasets) {\n",
    "        signature_info <- signature_features[[signature]]\n",
    "\n",
    "        singscore_output = singscorePipeline(\n",
    "            df = bulk_subset_df,\n",
    "            sig_feature_list = signature_info,\n",
    "            num_permutations = num_permutations\n",
    "        )\n",
    "        \n",
    "        full_results_df <- singscore_output[[\"results\"]]\n",
    "        permuted <- singscore_output[[\"permuted\"]]\n",
    "\n",
    "        # Get max and minimum values of permutation results\n",
    "        min_val <- quantile(as.vector(as.matrix(permuted)), 0.05)\n",
    "        max_val <- quantile(as.vector(as.matrix(permuted)), 0.95)\n",
    "        \n",
    "        # Annotate some key metadata and store to list\n",
    "        full_results_df <- full_results_df %>%\n",
    "            dplyr::mutate(\n",
    "                dataset = dataset,\n",
    "                signature = signature,\n",
    "                min_permuted_value = min_val,\n",
    "                max_permuted_value = max_val\n",
    "            )\n",
    "        \n",
    "        # Store results\n",
    "        sing_score_results[[paste0(dataset, \"-\", signature)]] <- full_results_df\n",
    "    }\n",
    "}"
   ]
  },
  {
   "cell_type": "code",
   "execution_count": 10,
   "metadata": {},
   "outputs": [
    {
     "data": {
      "text/plain": [
       "          \n",
       "           cb5083 cloneAE ixazomib\n",
       "  cb5083      240     240      240\n",
       "  cloneAE     192     192      192\n",
       "  ixazomib    180     180      180"
      ]
     },
     "metadata": {},
     "output_type": "display_data"
    }
   ],
   "source": [
    "all_singscore_results_df <- dplyr::bind_rows(sing_score_results)\n",
    "\n",
    "table(all_singscore_results_df$dataset, all_singscore_results_df$signature)"
   ]
  },
  {
   "cell_type": "code",
   "execution_count": 11,
   "metadata": {},
   "outputs": [
    {
     "name": "stdout",
     "output_type": "stream",
     "text": [
      "[1] 1836   30\n"
     ]
    },
    {
     "data": {
      "text/html": [
       "<table>\n",
       "<caption>A tibble: 6 × 30</caption>\n",
       "<thead>\n",
       "\t<tr><th scope=col>Metadata_Plate</th><th scope=col>Metadata_Well</th><th scope=col>Metadata_batch</th><th scope=col>Metadata_clone_number</th><th scope=col>Metadata_plate_map_name</th><th scope=col>Metadata_treatment</th><th scope=col>Metadata_dataset</th><th scope=col>Metadata_clone_type</th><th scope=col>Metadata_clone_type_indicator</th><th scope=col>Metadata_model_split</th><th scope=col>⋯</th><th scope=col>TotalDispersion</th><th scope=col>UpScore</th><th scope=col>UpDispersion</th><th scope=col>DownScore</th><th scope=col>DownDispersion</th><th scope=col>Metadata_permuted_p_value</th><th scope=col>dataset</th><th scope=col>signature</th><th scope=col>min_permuted_value</th><th scope=col>max_permuted_value</th></tr>\n",
       "\t<tr><th scope=col>&lt;chr&gt;</th><th scope=col>&lt;chr&gt;</th><th scope=col>&lt;chr&gt;</th><th scope=col>&lt;chr&gt;</th><th scope=col>&lt;chr&gt;</th><th scope=col>&lt;chr&gt;</th><th scope=col>&lt;chr&gt;</th><th scope=col>&lt;chr&gt;</th><th scope=col>&lt;chr&gt;</th><th scope=col>&lt;chr&gt;</th><th scope=col>⋯</th><th scope=col>&lt;dbl&gt;</th><th scope=col>&lt;dbl&gt;</th><th scope=col>&lt;dbl&gt;</th><th scope=col>&lt;dbl&gt;</th><th scope=col>&lt;dbl&gt;</th><th scope=col>&lt;dbl&gt;</th><th scope=col>&lt;chr&gt;</th><th scope=col>&lt;chr&gt;</th><th scope=col>&lt;dbl&gt;</th><th scope=col>&lt;dbl&gt;</th></tr>\n",
       "</thead>\n",
       "<tbody>\n",
       "\t<tr><td>HCT116bortezomib</td><td>B03</td><td>2019_02_15_Batch1_20X</td><td>WT_parental</td><td>PlateMap_HCT116bortezomib</td><td>0.1% DMSO</td><td>cloneAE</td><td>sensitive</td><td>0</td><td>training</td><td>⋯</td><td>1982.2362</td><td>-0.045842273</td><td>1478.1522</td><td>-0.03398437</td><td>504.0840</td><td>0.741</td><td>cloneAE</td><td>cloneAE</td><td>-0.2246796</td><td>0.2273132</td></tr>\n",
       "\t<tr><td>HCT116bortezomib</td><td>B04</td><td>2019_02_15_Batch1_20X</td><td>WT_parental</td><td>PlateMap_HCT116bortezomib</td><td>0.1% DMSO</td><td>cloneAE</td><td>sensitive</td><td>0</td><td>training</td><td>⋯</td><td>2151.9939</td><td>-0.088311319</td><td>1599.7254</td><td>-0.01583807</td><td>552.2685</td><td>0.789</td><td>cloneAE</td><td>cloneAE</td><td>-0.2246796</td><td>0.2273132</td></tr>\n",
       "\t<tr><td>HCT116bortezomib</td><td>B05</td><td>2019_02_15_Batch1_20X</td><td>WT_parental</td><td>PlateMap_HCT116bortezomib</td><td>0.1% DMSO</td><td>cloneAE</td><td>sensitive</td><td>0</td><td>training</td><td>⋯</td><td>2204.6262</td><td>-0.001124409</td><td>1395.1266</td><td> 0.04009233</td><td>809.4996</td><td>0.421</td><td>cloneAE</td><td>cloneAE</td><td>-0.2246796</td><td>0.2273132</td></tr>\n",
       "\t<tr><td>HCT116bortezomib</td><td>B06</td><td>2019_02_15_Batch1_20X</td><td>CloneA     </td><td>PlateMap_HCT116bortezomib</td><td>0.1% DMSO</td><td>cloneAE</td><td>resistant</td><td>1</td><td>training</td><td>⋯</td><td> 919.9533</td><td> 0.251053325</td><td> 441.8148</td><td> 0.16054687</td><td>478.1385</td><td>0.003</td><td>cloneAE</td><td>cloneAE</td><td>-0.2246796</td><td>0.2273132</td></tr>\n",
       "\t<tr><td>HCT116bortezomib</td><td>B07</td><td>2019_02_15_Batch1_20X</td><td>CloneA     </td><td>PlateMap_HCT116bortezomib</td><td>0.1% DMSO</td><td>cloneAE</td><td>resistant</td><td>1</td><td>training</td><td>⋯</td><td> 654.5679</td><td> 0.257644687</td><td> 343.9632</td><td> 0.16491477</td><td>310.6047</td><td>0.001</td><td>cloneAE</td><td>cloneAE</td><td>-0.2246796</td><td>0.2273132</td></tr>\n",
       "\t<tr><td>HCT116bortezomib</td><td>B08</td><td>2019_02_15_Batch1_20X</td><td>CloneA     </td><td>PlateMap_HCT116bortezomib</td><td>0.1% DMSO</td><td>cloneAE</td><td>resistant</td><td>1</td><td>training</td><td>⋯</td><td> 762.0564</td><td> 0.323506604</td><td> 373.6152</td><td> 0.21793324</td><td>388.4412</td><td>0.001</td><td>cloneAE</td><td>cloneAE</td><td>-0.2246796</td><td>0.2273132</td></tr>\n",
       "</tbody>\n",
       "</table>\n"
      ],
      "text/latex": [
       "A tibble: 6 × 30\n",
       "\\begin{tabular}{lllllllllllllllllllll}\n",
       " Metadata\\_Plate & Metadata\\_Well & Metadata\\_batch & Metadata\\_clone\\_number & Metadata\\_plate\\_map\\_name & Metadata\\_treatment & Metadata\\_dataset & Metadata\\_clone\\_type & Metadata\\_clone\\_type\\_indicator & Metadata\\_model\\_split & ⋯ & TotalDispersion & UpScore & UpDispersion & DownScore & DownDispersion & Metadata\\_permuted\\_p\\_value & dataset & signature & min\\_permuted\\_value & max\\_permuted\\_value\\\\\n",
       " <chr> & <chr> & <chr> & <chr> & <chr> & <chr> & <chr> & <chr> & <chr> & <chr> & ⋯ & <dbl> & <dbl> & <dbl> & <dbl> & <dbl> & <dbl> & <chr> & <chr> & <dbl> & <dbl>\\\\\n",
       "\\hline\n",
       "\t HCT116bortezomib & B03 & 2019\\_02\\_15\\_Batch1\\_20X & WT\\_parental & PlateMap\\_HCT116bortezomib & 0.1\\% DMSO & cloneAE & sensitive & 0 & training & ⋯ & 1982.2362 & -0.045842273 & 1478.1522 & -0.03398437 & 504.0840 & 0.741 & cloneAE & cloneAE & -0.2246796 & 0.2273132\\\\\n",
       "\t HCT116bortezomib & B04 & 2019\\_02\\_15\\_Batch1\\_20X & WT\\_parental & PlateMap\\_HCT116bortezomib & 0.1\\% DMSO & cloneAE & sensitive & 0 & training & ⋯ & 2151.9939 & -0.088311319 & 1599.7254 & -0.01583807 & 552.2685 & 0.789 & cloneAE & cloneAE & -0.2246796 & 0.2273132\\\\\n",
       "\t HCT116bortezomib & B05 & 2019\\_02\\_15\\_Batch1\\_20X & WT\\_parental & PlateMap\\_HCT116bortezomib & 0.1\\% DMSO & cloneAE & sensitive & 0 & training & ⋯ & 2204.6262 & -0.001124409 & 1395.1266 &  0.04009233 & 809.4996 & 0.421 & cloneAE & cloneAE & -0.2246796 & 0.2273132\\\\\n",
       "\t HCT116bortezomib & B06 & 2019\\_02\\_15\\_Batch1\\_20X & CloneA      & PlateMap\\_HCT116bortezomib & 0.1\\% DMSO & cloneAE & resistant & 1 & training & ⋯ &  919.9533 &  0.251053325 &  441.8148 &  0.16054687 & 478.1385 & 0.003 & cloneAE & cloneAE & -0.2246796 & 0.2273132\\\\\n",
       "\t HCT116bortezomib & B07 & 2019\\_02\\_15\\_Batch1\\_20X & CloneA      & PlateMap\\_HCT116bortezomib & 0.1\\% DMSO & cloneAE & resistant & 1 & training & ⋯ &  654.5679 &  0.257644687 &  343.9632 &  0.16491477 & 310.6047 & 0.001 & cloneAE & cloneAE & -0.2246796 & 0.2273132\\\\\n",
       "\t HCT116bortezomib & B08 & 2019\\_02\\_15\\_Batch1\\_20X & CloneA      & PlateMap\\_HCT116bortezomib & 0.1\\% DMSO & cloneAE & resistant & 1 & training & ⋯ &  762.0564 &  0.323506604 &  373.6152 &  0.21793324 & 388.4412 & 0.001 & cloneAE & cloneAE & -0.2246796 & 0.2273132\\\\\n",
       "\\end{tabular}\n"
      ],
      "text/markdown": [
       "\n",
       "A tibble: 6 × 30\n",
       "\n",
       "| Metadata_Plate &lt;chr&gt; | Metadata_Well &lt;chr&gt; | Metadata_batch &lt;chr&gt; | Metadata_clone_number &lt;chr&gt; | Metadata_plate_map_name &lt;chr&gt; | Metadata_treatment &lt;chr&gt; | Metadata_dataset &lt;chr&gt; | Metadata_clone_type &lt;chr&gt; | Metadata_clone_type_indicator &lt;chr&gt; | Metadata_model_split &lt;chr&gt; | ⋯ ⋯ | TotalDispersion &lt;dbl&gt; | UpScore &lt;dbl&gt; | UpDispersion &lt;dbl&gt; | DownScore &lt;dbl&gt; | DownDispersion &lt;dbl&gt; | Metadata_permuted_p_value &lt;dbl&gt; | dataset &lt;chr&gt; | signature &lt;chr&gt; | min_permuted_value &lt;dbl&gt; | max_permuted_value &lt;dbl&gt; |\n",
       "|---|---|---|---|---|---|---|---|---|---|---|---|---|---|---|---|---|---|---|---|---|\n",
       "| HCT116bortezomib | B03 | 2019_02_15_Batch1_20X | WT_parental | PlateMap_HCT116bortezomib | 0.1% DMSO | cloneAE | sensitive | 0 | training | ⋯ | 1982.2362 | -0.045842273 | 1478.1522 | -0.03398437 | 504.0840 | 0.741 | cloneAE | cloneAE | -0.2246796 | 0.2273132 |\n",
       "| HCT116bortezomib | B04 | 2019_02_15_Batch1_20X | WT_parental | PlateMap_HCT116bortezomib | 0.1% DMSO | cloneAE | sensitive | 0 | training | ⋯ | 2151.9939 | -0.088311319 | 1599.7254 | -0.01583807 | 552.2685 | 0.789 | cloneAE | cloneAE | -0.2246796 | 0.2273132 |\n",
       "| HCT116bortezomib | B05 | 2019_02_15_Batch1_20X | WT_parental | PlateMap_HCT116bortezomib | 0.1% DMSO | cloneAE | sensitive | 0 | training | ⋯ | 2204.6262 | -0.001124409 | 1395.1266 |  0.04009233 | 809.4996 | 0.421 | cloneAE | cloneAE | -0.2246796 | 0.2273132 |\n",
       "| HCT116bortezomib | B06 | 2019_02_15_Batch1_20X | CloneA      | PlateMap_HCT116bortezomib | 0.1% DMSO | cloneAE | resistant | 1 | training | ⋯ |  919.9533 |  0.251053325 |  441.8148 |  0.16054687 | 478.1385 | 0.003 | cloneAE | cloneAE | -0.2246796 | 0.2273132 |\n",
       "| HCT116bortezomib | B07 | 2019_02_15_Batch1_20X | CloneA      | PlateMap_HCT116bortezomib | 0.1% DMSO | cloneAE | resistant | 1 | training | ⋯ |  654.5679 |  0.257644687 |  343.9632 |  0.16491477 | 310.6047 | 0.001 | cloneAE | cloneAE | -0.2246796 | 0.2273132 |\n",
       "| HCT116bortezomib | B08 | 2019_02_15_Batch1_20X | CloneA      | PlateMap_HCT116bortezomib | 0.1% DMSO | cloneAE | resistant | 1 | training | ⋯ |  762.0564 |  0.323506604 |  373.6152 |  0.21793324 | 388.4412 | 0.001 | cloneAE | cloneAE | -0.2246796 | 0.2273132 |\n",
       "\n"
      ],
      "text/plain": [
       "  Metadata_Plate   Metadata_Well Metadata_batch        Metadata_clone_number\n",
       "1 HCT116bortezomib B03           2019_02_15_Batch1_20X WT_parental          \n",
       "2 HCT116bortezomib B04           2019_02_15_Batch1_20X WT_parental          \n",
       "3 HCT116bortezomib B05           2019_02_15_Batch1_20X WT_parental          \n",
       "4 HCT116bortezomib B06           2019_02_15_Batch1_20X CloneA               \n",
       "5 HCT116bortezomib B07           2019_02_15_Batch1_20X CloneA               \n",
       "6 HCT116bortezomib B08           2019_02_15_Batch1_20X CloneA               \n",
       "  Metadata_plate_map_name   Metadata_treatment Metadata_dataset\n",
       "1 PlateMap_HCT116bortezomib 0.1% DMSO          cloneAE         \n",
       "2 PlateMap_HCT116bortezomib 0.1% DMSO          cloneAE         \n",
       "3 PlateMap_HCT116bortezomib 0.1% DMSO          cloneAE         \n",
       "4 PlateMap_HCT116bortezomib 0.1% DMSO          cloneAE         \n",
       "5 PlateMap_HCT116bortezomib 0.1% DMSO          cloneAE         \n",
       "6 PlateMap_HCT116bortezomib 0.1% DMSO          cloneAE         \n",
       "  Metadata_clone_type Metadata_clone_type_indicator Metadata_model_split ⋯\n",
       "1 sensitive           0                             training             ⋯\n",
       "2 sensitive           0                             training             ⋯\n",
       "3 sensitive           0                             training             ⋯\n",
       "4 resistant           1                             training             ⋯\n",
       "5 resistant           1                             training             ⋯\n",
       "6 resistant           1                             training             ⋯\n",
       "  TotalDispersion UpScore      UpDispersion DownScore   DownDispersion\n",
       "1 1982.2362       -0.045842273 1478.1522    -0.03398437 504.0840      \n",
       "2 2151.9939       -0.088311319 1599.7254    -0.01583807 552.2685      \n",
       "3 2204.6262       -0.001124409 1395.1266     0.04009233 809.4996      \n",
       "4  919.9533        0.251053325  441.8148     0.16054687 478.1385      \n",
       "5  654.5679        0.257644687  343.9632     0.16491477 310.6047      \n",
       "6  762.0564        0.323506604  373.6152     0.21793324 388.4412      \n",
       "  Metadata_permuted_p_value dataset signature min_permuted_value\n",
       "1 0.741                     cloneAE cloneAE   -0.2246796        \n",
       "2 0.789                     cloneAE cloneAE   -0.2246796        \n",
       "3 0.421                     cloneAE cloneAE   -0.2246796        \n",
       "4 0.003                     cloneAE cloneAE   -0.2246796        \n",
       "5 0.001                     cloneAE cloneAE   -0.2246796        \n",
       "6 0.001                     cloneAE cloneAE   -0.2246796        \n",
       "  max_permuted_value\n",
       "1 0.2273132         \n",
       "2 0.2273132         \n",
       "3 0.2273132         \n",
       "4 0.2273132         \n",
       "5 0.2273132         \n",
       "6 0.2273132         "
      ]
     },
     "metadata": {},
     "output_type": "display_data"
    }
   ],
   "source": [
    "all_singscore_results_df %>% readr::write_tsv(output_results_file)\n",
    "\n",
    "print(dim(all_singscore_results_df))\n",
    "head(all_singscore_results_df)"
   ]
  }
 ],
 "metadata": {
  "kernelspec": {
   "display_name": "R",
   "language": "R",
   "name": "ir"
  },
  "language_info": {
   "codemirror_mode": "r",
   "file_extension": ".r",
   "mimetype": "text/x-r-source",
   "name": "R",
   "pygments_lexer": "r",
   "version": "3.5.1"
  }
 },
 "nbformat": 4,
 "nbformat_minor": 2
}
