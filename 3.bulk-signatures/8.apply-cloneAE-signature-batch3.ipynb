{
 "cells": [
  {
   "cell_type": "markdown",
   "metadata": {},
   "source": [
    "## Apply the cloneAE signature to untreated profiles\n",
    "\n",
    "**Gregory Way, 2020**\n",
    "\n",
    "We collected many more profiles of clones (both WT and resistant clones) in the context of bortezomib resistance.\n",
    "\n",
    "Apply the cloneAE signature to these clones."
   ]
  },
  {
   "cell_type": "code",
   "execution_count": 1,
   "metadata": {},
   "outputs": [],
   "source": [
    "suppressPackageStartupMessages(library(dplyr))\n",
    "suppressPackageStartupMessages(library(ggplot2))\n",
    "suppressPackageStartupMessages(library(singscore))\n",
    "\n",
    "source(file.path(\"utils\", \"singscore_utils.R\"))"
   ]
  },
  {
   "cell_type": "code",
   "execution_count": 2,
   "metadata": {},
   "outputs": [],
   "source": [
    "set.seed(863)"
   ]
  },
  {
   "cell_type": "code",
   "execution_count": 3,
   "metadata": {},
   "outputs": [
    {
     "name": "stdout",
     "output_type": "stream",
     "text": [
      "[1]  105 3536\n"
     ]
    },
    {
     "data": {
      "text/html": [
       "<table>\n",
       "<caption>A tibble: 6 × 3536</caption>\n",
       "<thead>\n",
       "\t<tr><th scope=col>Metadata_Plate</th><th scope=col>Metadata_Well</th><th scope=col>Metadata_batch</th><th scope=col>Metadata_cell_count</th><th scope=col>Metadata_clone_number</th><th scope=col>Metadata_plate_map_name</th><th scope=col>Metadata_treatment</th><th scope=col>Metadata_unique_sample_name</th><th scope=col>Cells_AreaShape_Area</th><th scope=col>Cells_AreaShape_Center_X</th><th scope=col>⋯</th><th scope=col>Nuclei_Texture_Variance_RNA_10_02</th><th scope=col>Nuclei_Texture_Variance_RNA_10_03</th><th scope=col>Nuclei_Texture_Variance_RNA_20_00</th><th scope=col>Nuclei_Texture_Variance_RNA_20_01</th><th scope=col>Nuclei_Texture_Variance_RNA_20_02</th><th scope=col>Nuclei_Texture_Variance_RNA_20_03</th><th scope=col>Nuclei_Texture_Variance_RNA_5_00</th><th scope=col>Nuclei_Texture_Variance_RNA_5_01</th><th scope=col>Nuclei_Texture_Variance_RNA_5_02</th><th scope=col>Nuclei_Texture_Variance_RNA_5_03</th></tr>\n",
       "\t<tr><th scope=col>&lt;chr&gt;</th><th scope=col>&lt;chr&gt;</th><th scope=col>&lt;chr&gt;</th><th scope=col>&lt;int&gt;</th><th scope=col>&lt;chr&gt;</th><th scope=col>&lt;chr&gt;</th><th scope=col>&lt;chr&gt;</th><th scope=col>&lt;chr&gt;</th><th scope=col>&lt;dbl&gt;</th><th scope=col>&lt;dbl&gt;</th><th scope=col>⋯</th><th scope=col>&lt;dbl&gt;</th><th scope=col>&lt;dbl&gt;</th><th scope=col>&lt;dbl&gt;</th><th scope=col>&lt;dbl&gt;</th><th scope=col>&lt;dbl&gt;</th><th scope=col>&lt;dbl&gt;</th><th scope=col>&lt;dbl&gt;</th><th scope=col>&lt;dbl&gt;</th><th scope=col>&lt;dbl&gt;</th><th scope=col>&lt;dbl&gt;</th></tr>\n",
       "</thead>\n",
       "<tbody>\n",
       "\t<tr><td>MutClones</td><td>B02</td><td>2019_06_25_Batch3</td><td> 9203</td><td>BZ001</td><td>MutClones</td><td>Untreated</td><td>profile_0_2019_06_25_Batch3</td><td>15.425583</td><td>-2.7840891</td><td>⋯</td><td>50.276671</td><td>50.855203</td><td>71.997618</td><td>74.472724</td><td>68.817937</td><td>75.172657</td><td>51.122659</td><td>50.427995</td><td>51.060463</td><td>50.201707</td></tr>\n",
       "\t<tr><td>MutClones</td><td>B03</td><td>2019_06_25_Batch3</td><td>27543</td><td>BZ002</td><td>MutClones</td><td>Untreated</td><td>profile_1_2019_06_25_Batch3</td><td> 6.010408</td><td>-2.0640661</td><td>⋯</td><td> 2.114785</td><td> 2.169167</td><td> 2.830288</td><td> 1.589384</td><td> 2.696348</td><td> 1.636899</td><td> 1.941830</td><td> 2.036691</td><td> 1.997141</td><td> 1.995680</td></tr>\n",
       "\t<tr><td>MutClones</td><td>B04</td><td>2019_06_25_Batch3</td><td> 8086</td><td>BZ003</td><td>MutClones</td><td>Untreated</td><td>profile_2_2019_06_25_Batch3</td><td>21.898516</td><td>-1.4160453</td><td>⋯</td><td>32.036498</td><td>32.740388</td><td>45.768109</td><td>46.116913</td><td>43.245857</td><td>43.918108</td><td>32.673329</td><td>31.912389</td><td>32.865138</td><td>32.135791</td></tr>\n",
       "\t<tr><td>MutClones</td><td>B05</td><td>2019_06_25_Batch3</td><td>19640</td><td>BZ004</td><td>MutClones</td><td>Untreated</td><td>profile_3_2019_06_25_Batch3</td><td> 8.945385</td><td>-0.4800154</td><td>⋯</td><td>12.776121</td><td>13.095502</td><td>17.857581</td><td>16.673501</td><td>16.587133</td><td>16.339759</td><td>12.866158</td><td>12.795313</td><td>12.919991</td><td>12.728179</td></tr>\n",
       "\t<tr><td>MutClones</td><td>B06</td><td>2019_06_25_Batch3</td><td>20440</td><td>BZ005</td><td>MutClones</td><td>Untreated</td><td>profile_4_2019_06_25_Batch3</td><td> 9.395802</td><td>-0.2640084</td><td>⋯</td><td> 8.155104</td><td> 8.489150</td><td>12.062067</td><td>11.939301</td><td>11.497942</td><td>11.877239</td><td> 8.368398</td><td> 8.280239</td><td> 8.324269</td><td> 8.136390</td></tr>\n",
       "\t<tr><td>MutClones</td><td>B07</td><td>2019_06_25_Batch3</td><td>31643</td><td>BZ006</td><td>MutClones</td><td>Untreated</td><td>profile_5_2019_06_25_Batch3</td><td> 2.131007</td><td>-0.5520177</td><td>⋯</td><td> 3.518346</td><td> 3.455252</td><td> 3.191994</td><td> 3.362872</td><td> 3.125115</td><td> 3.448570</td><td> 3.599679</td><td> 3.544529</td><td> 3.564709</td><td> 3.541336</td></tr>\n",
       "</tbody>\n",
       "</table>\n"
      ],
      "text/latex": [
       "A tibble: 6 × 3536\n",
       "\\begin{tabular}{lllllllllllllllllllll}\n",
       " Metadata\\_Plate & Metadata\\_Well & Metadata\\_batch & Metadata\\_cell\\_count & Metadata\\_clone\\_number & Metadata\\_plate\\_map\\_name & Metadata\\_treatment & Metadata\\_unique\\_sample\\_name & Cells\\_AreaShape\\_Area & Cells\\_AreaShape\\_Center\\_X & ⋯ & Nuclei\\_Texture\\_Variance\\_RNA\\_10\\_02 & Nuclei\\_Texture\\_Variance\\_RNA\\_10\\_03 & Nuclei\\_Texture\\_Variance\\_RNA\\_20\\_00 & Nuclei\\_Texture\\_Variance\\_RNA\\_20\\_01 & Nuclei\\_Texture\\_Variance\\_RNA\\_20\\_02 & Nuclei\\_Texture\\_Variance\\_RNA\\_20\\_03 & Nuclei\\_Texture\\_Variance\\_RNA\\_5\\_00 & Nuclei\\_Texture\\_Variance\\_RNA\\_5\\_01 & Nuclei\\_Texture\\_Variance\\_RNA\\_5\\_02 & Nuclei\\_Texture\\_Variance\\_RNA\\_5\\_03\\\\\n",
       " <chr> & <chr> & <chr> & <int> & <chr> & <chr> & <chr> & <chr> & <dbl> & <dbl> & ⋯ & <dbl> & <dbl> & <dbl> & <dbl> & <dbl> & <dbl> & <dbl> & <dbl> & <dbl> & <dbl>\\\\\n",
       "\\hline\n",
       "\t MutClones & B02 & 2019\\_06\\_25\\_Batch3 &  9203 & BZ001 & MutClones & Untreated & profile\\_0\\_2019\\_06\\_25\\_Batch3 & 15.425583 & -2.7840891 & ⋯ & 50.276671 & 50.855203 & 71.997618 & 74.472724 & 68.817937 & 75.172657 & 51.122659 & 50.427995 & 51.060463 & 50.201707\\\\\n",
       "\t MutClones & B03 & 2019\\_06\\_25\\_Batch3 & 27543 & BZ002 & MutClones & Untreated & profile\\_1\\_2019\\_06\\_25\\_Batch3 &  6.010408 & -2.0640661 & ⋯ &  2.114785 &  2.169167 &  2.830288 &  1.589384 &  2.696348 &  1.636899 &  1.941830 &  2.036691 &  1.997141 &  1.995680\\\\\n",
       "\t MutClones & B04 & 2019\\_06\\_25\\_Batch3 &  8086 & BZ003 & MutClones & Untreated & profile\\_2\\_2019\\_06\\_25\\_Batch3 & 21.898516 & -1.4160453 & ⋯ & 32.036498 & 32.740388 & 45.768109 & 46.116913 & 43.245857 & 43.918108 & 32.673329 & 31.912389 & 32.865138 & 32.135791\\\\\n",
       "\t MutClones & B05 & 2019\\_06\\_25\\_Batch3 & 19640 & BZ004 & MutClones & Untreated & profile\\_3\\_2019\\_06\\_25\\_Batch3 &  8.945385 & -0.4800154 & ⋯ & 12.776121 & 13.095502 & 17.857581 & 16.673501 & 16.587133 & 16.339759 & 12.866158 & 12.795313 & 12.919991 & 12.728179\\\\\n",
       "\t MutClones & B06 & 2019\\_06\\_25\\_Batch3 & 20440 & BZ005 & MutClones & Untreated & profile\\_4\\_2019\\_06\\_25\\_Batch3 &  9.395802 & -0.2640084 & ⋯ &  8.155104 &  8.489150 & 12.062067 & 11.939301 & 11.497942 & 11.877239 &  8.368398 &  8.280239 &  8.324269 &  8.136390\\\\\n",
       "\t MutClones & B07 & 2019\\_06\\_25\\_Batch3 & 31643 & BZ006 & MutClones & Untreated & profile\\_5\\_2019\\_06\\_25\\_Batch3 &  2.131007 & -0.5520177 & ⋯ &  3.518346 &  3.455252 &  3.191994 &  3.362872 &  3.125115 &  3.448570 &  3.599679 &  3.544529 &  3.564709 &  3.541336\\\\\n",
       "\\end{tabular}\n"
      ],
      "text/markdown": [
       "\n",
       "A tibble: 6 × 3536\n",
       "\n",
       "| Metadata_Plate &lt;chr&gt; | Metadata_Well &lt;chr&gt; | Metadata_batch &lt;chr&gt; | Metadata_cell_count &lt;int&gt; | Metadata_clone_number &lt;chr&gt; | Metadata_plate_map_name &lt;chr&gt; | Metadata_treatment &lt;chr&gt; | Metadata_unique_sample_name &lt;chr&gt; | Cells_AreaShape_Area &lt;dbl&gt; | Cells_AreaShape_Center_X &lt;dbl&gt; | ⋯ ⋯ | Nuclei_Texture_Variance_RNA_10_02 &lt;dbl&gt; | Nuclei_Texture_Variance_RNA_10_03 &lt;dbl&gt; | Nuclei_Texture_Variance_RNA_20_00 &lt;dbl&gt; | Nuclei_Texture_Variance_RNA_20_01 &lt;dbl&gt; | Nuclei_Texture_Variance_RNA_20_02 &lt;dbl&gt; | Nuclei_Texture_Variance_RNA_20_03 &lt;dbl&gt; | Nuclei_Texture_Variance_RNA_5_00 &lt;dbl&gt; | Nuclei_Texture_Variance_RNA_5_01 &lt;dbl&gt; | Nuclei_Texture_Variance_RNA_5_02 &lt;dbl&gt; | Nuclei_Texture_Variance_RNA_5_03 &lt;dbl&gt; |\n",
       "|---|---|---|---|---|---|---|---|---|---|---|---|---|---|---|---|---|---|---|---|---|\n",
       "| MutClones | B02 | 2019_06_25_Batch3 |  9203 | BZ001 | MutClones | Untreated | profile_0_2019_06_25_Batch3 | 15.425583 | -2.7840891 | ⋯ | 50.276671 | 50.855203 | 71.997618 | 74.472724 | 68.817937 | 75.172657 | 51.122659 | 50.427995 | 51.060463 | 50.201707 |\n",
       "| MutClones | B03 | 2019_06_25_Batch3 | 27543 | BZ002 | MutClones | Untreated | profile_1_2019_06_25_Batch3 |  6.010408 | -2.0640661 | ⋯ |  2.114785 |  2.169167 |  2.830288 |  1.589384 |  2.696348 |  1.636899 |  1.941830 |  2.036691 |  1.997141 |  1.995680 |\n",
       "| MutClones | B04 | 2019_06_25_Batch3 |  8086 | BZ003 | MutClones | Untreated | profile_2_2019_06_25_Batch3 | 21.898516 | -1.4160453 | ⋯ | 32.036498 | 32.740388 | 45.768109 | 46.116913 | 43.245857 | 43.918108 | 32.673329 | 31.912389 | 32.865138 | 32.135791 |\n",
       "| MutClones | B05 | 2019_06_25_Batch3 | 19640 | BZ004 | MutClones | Untreated | profile_3_2019_06_25_Batch3 |  8.945385 | -0.4800154 | ⋯ | 12.776121 | 13.095502 | 17.857581 | 16.673501 | 16.587133 | 16.339759 | 12.866158 | 12.795313 | 12.919991 | 12.728179 |\n",
       "| MutClones | B06 | 2019_06_25_Batch3 | 20440 | BZ005 | MutClones | Untreated | profile_4_2019_06_25_Batch3 |  9.395802 | -0.2640084 | ⋯ |  8.155104 |  8.489150 | 12.062067 | 11.939301 | 11.497942 | 11.877239 |  8.368398 |  8.280239 |  8.324269 |  8.136390 |\n",
       "| MutClones | B07 | 2019_06_25_Batch3 | 31643 | BZ006 | MutClones | Untreated | profile_5_2019_06_25_Batch3 |  2.131007 | -0.5520177 | ⋯ |  3.518346 |  3.455252 |  3.191994 |  3.362872 |  3.125115 |  3.448570 |  3.599679 |  3.544529 |  3.564709 |  3.541336 |\n",
       "\n"
      ],
      "text/plain": [
       "  Metadata_Plate Metadata_Well Metadata_batch    Metadata_cell_count\n",
       "1 MutClones      B02           2019_06_25_Batch3  9203              \n",
       "2 MutClones      B03           2019_06_25_Batch3 27543              \n",
       "3 MutClones      B04           2019_06_25_Batch3  8086              \n",
       "4 MutClones      B05           2019_06_25_Batch3 19640              \n",
       "5 MutClones      B06           2019_06_25_Batch3 20440              \n",
       "6 MutClones      B07           2019_06_25_Batch3 31643              \n",
       "  Metadata_clone_number Metadata_plate_map_name Metadata_treatment\n",
       "1 BZ001                 MutClones               Untreated         \n",
       "2 BZ002                 MutClones               Untreated         \n",
       "3 BZ003                 MutClones               Untreated         \n",
       "4 BZ004                 MutClones               Untreated         \n",
       "5 BZ005                 MutClones               Untreated         \n",
       "6 BZ006                 MutClones               Untreated         \n",
       "  Metadata_unique_sample_name Cells_AreaShape_Area Cells_AreaShape_Center_X ⋯\n",
       "1 profile_0_2019_06_25_Batch3 15.425583            -2.7840891               ⋯\n",
       "2 profile_1_2019_06_25_Batch3  6.010408            -2.0640661               ⋯\n",
       "3 profile_2_2019_06_25_Batch3 21.898516            -1.4160453               ⋯\n",
       "4 profile_3_2019_06_25_Batch3  8.945385            -0.4800154               ⋯\n",
       "5 profile_4_2019_06_25_Batch3  9.395802            -0.2640084               ⋯\n",
       "6 profile_5_2019_06_25_Batch3  2.131007            -0.5520177               ⋯\n",
       "  Nuclei_Texture_Variance_RNA_10_02 Nuclei_Texture_Variance_RNA_10_03\n",
       "1 50.276671                         50.855203                        \n",
       "2  2.114785                          2.169167                        \n",
       "3 32.036498                         32.740388                        \n",
       "4 12.776121                         13.095502                        \n",
       "5  8.155104                          8.489150                        \n",
       "6  3.518346                          3.455252                        \n",
       "  Nuclei_Texture_Variance_RNA_20_00 Nuclei_Texture_Variance_RNA_20_01\n",
       "1 71.997618                         74.472724                        \n",
       "2  2.830288                          1.589384                        \n",
       "3 45.768109                         46.116913                        \n",
       "4 17.857581                         16.673501                        \n",
       "5 12.062067                         11.939301                        \n",
       "6  3.191994                          3.362872                        \n",
       "  Nuclei_Texture_Variance_RNA_20_02 Nuclei_Texture_Variance_RNA_20_03\n",
       "1 68.817937                         75.172657                        \n",
       "2  2.696348                          1.636899                        \n",
       "3 43.245857                         43.918108                        \n",
       "4 16.587133                         16.339759                        \n",
       "5 11.497942                         11.877239                        \n",
       "6  3.125115                          3.448570                        \n",
       "  Nuclei_Texture_Variance_RNA_5_00 Nuclei_Texture_Variance_RNA_5_01\n",
       "1 51.122659                        50.427995                       \n",
       "2  1.941830                         2.036691                       \n",
       "3 32.673329                        31.912389                       \n",
       "4 12.866158                        12.795313                       \n",
       "5  8.368398                         8.280239                       \n",
       "6  3.599679                         3.544529                       \n",
       "  Nuclei_Texture_Variance_RNA_5_02 Nuclei_Texture_Variance_RNA_5_03\n",
       "1 51.060463                        50.201707                       \n",
       "2  1.997141                         1.995680                       \n",
       "3 32.865138                        32.135791                       \n",
       "4 12.919991                        12.728179                       \n",
       "5  8.324269                         8.136390                       \n",
       "6  3.564709                         3.541336                       "
      ]
     },
     "metadata": {},
     "output_type": "display_data"
    }
   ],
   "source": [
    "# Load batch 3 normalized profiles\n",
    "batch <- \"2019_06_25_Batch3\"\n",
    "batch3_file <- file.path(\"data\", paste0(batch, \"_combined_normalized.csv.gz\"))\n",
    "\n",
    "profile_cols <- readr::cols(\n",
    "    .default = readr::col_double(),\n",
    "    Metadata_Plate = readr::col_character(),\n",
    "    Metadata_Well = readr::col_character(),\n",
    "    Metadata_batch = readr::col_character(),\n",
    "    Metadata_cell_count = readr::col_integer(),\n",
    "    Metadata_clone_number = readr::col_character(),\n",
    "    Metadata_unique_sample_name = readr::col_character(),\n",
    "    Metadata_plate_map_name = readr::col_character(),\n",
    "    Metadata_treatment = readr::col_character()\n",
    ")\n",
    "\n",
    "df <- readr::read_csv(batch3_file, col_types = profile_cols)\n",
    "\n",
    "print(dim(df))\n",
    "head(df)"
   ]
  },
  {
   "cell_type": "code",
   "execution_count": 4,
   "metadata": {},
   "outputs": [
    {
     "name": "stdout",
     "output_type": "stream",
     "text": [
      "[1] 18  8\n"
     ]
    },
    {
     "data": {
      "text/html": [
       "<table>\n",
       "<caption>A tibble: 4 × 8</caption>\n",
       "<thead>\n",
       "\t<tr><th scope=col>features</th><th scope=col>non_status_significant_exclude</th><th scope=col>cell_count_exclude</th><th scope=col>plate_exclude</th><th scope=col>batch_exclude</th><th scope=col>non_specific_exclude</th><th scope=col>final_signature</th><th scope=col>dataset</th></tr>\n",
       "\t<tr><th scope=col>&lt;chr&gt;</th><th scope=col>&lt;lgl&gt;</th><th scope=col>&lt;lgl&gt;</th><th scope=col>&lt;lgl&gt;</th><th scope=col>&lt;lgl&gt;</th><th scope=col>&lt;lgl&gt;</th><th scope=col>&lt;lgl&gt;</th><th scope=col>&lt;chr&gt;</th></tr>\n",
       "</thead>\n",
       "<tbody>\n",
       "\t<tr><td>Cells_Correlation_Manders_ER_DNA  </td><td>FALSE</td><td>FALSE</td><td>FALSE</td><td>FALSE</td><td>FALSE</td><td>TRUE</td><td>cloneAE</td></tr>\n",
       "\t<tr><td>Cytoplasm_Correlation_RWC_Mito_AGP</td><td>FALSE</td><td>FALSE</td><td>FALSE</td><td>FALSE</td><td>FALSE</td><td>TRUE</td><td>cloneAE</td></tr>\n",
       "\t<tr><td>Cytoplasm_Granularity_2_Mito      </td><td>FALSE</td><td>FALSE</td><td>FALSE</td><td>FALSE</td><td>FALSE</td><td>TRUE</td><td>cloneAE</td></tr>\n",
       "\t<tr><td>Nuclei_AreaShape_Area             </td><td>FALSE</td><td>FALSE</td><td>FALSE</td><td>FALSE</td><td>FALSE</td><td>TRUE</td><td>cloneAE</td></tr>\n",
       "</tbody>\n",
       "</table>\n"
      ],
      "text/latex": [
       "A tibble: 4 × 8\n",
       "\\begin{tabular}{llllllll}\n",
       " features & non\\_status\\_significant\\_exclude & cell\\_count\\_exclude & plate\\_exclude & batch\\_exclude & non\\_specific\\_exclude & final\\_signature & dataset\\\\\n",
       " <chr> & <lgl> & <lgl> & <lgl> & <lgl> & <lgl> & <lgl> & <chr>\\\\\n",
       "\\hline\n",
       "\t Cells\\_Correlation\\_Manders\\_ER\\_DNA   & FALSE & FALSE & FALSE & FALSE & FALSE & TRUE & cloneAE\\\\\n",
       "\t Cytoplasm\\_Correlation\\_RWC\\_Mito\\_AGP & FALSE & FALSE & FALSE & FALSE & FALSE & TRUE & cloneAE\\\\\n",
       "\t Cytoplasm\\_Granularity\\_2\\_Mito       & FALSE & FALSE & FALSE & FALSE & FALSE & TRUE & cloneAE\\\\\n",
       "\t Nuclei\\_AreaShape\\_Area              & FALSE & FALSE & FALSE & FALSE & FALSE & TRUE & cloneAE\\\\\n",
       "\\end{tabular}\n"
      ],
      "text/markdown": [
       "\n",
       "A tibble: 4 × 8\n",
       "\n",
       "| features &lt;chr&gt; | non_status_significant_exclude &lt;lgl&gt; | cell_count_exclude &lt;lgl&gt; | plate_exclude &lt;lgl&gt; | batch_exclude &lt;lgl&gt; | non_specific_exclude &lt;lgl&gt; | final_signature &lt;lgl&gt; | dataset &lt;chr&gt; |\n",
       "|---|---|---|---|---|---|---|---|\n",
       "| Cells_Correlation_Manders_ER_DNA   | FALSE | FALSE | FALSE | FALSE | FALSE | TRUE | cloneAE |\n",
       "| Cytoplasm_Correlation_RWC_Mito_AGP | FALSE | FALSE | FALSE | FALSE | FALSE | TRUE | cloneAE |\n",
       "| Cytoplasm_Granularity_2_Mito       | FALSE | FALSE | FALSE | FALSE | FALSE | TRUE | cloneAE |\n",
       "| Nuclei_AreaShape_Area              | FALSE | FALSE | FALSE | FALSE | FALSE | TRUE | cloneAE |\n",
       "\n"
      ],
      "text/plain": [
       "  features                           non_status_significant_exclude\n",
       "1 Cells_Correlation_Manders_ER_DNA   FALSE                         \n",
       "2 Cytoplasm_Correlation_RWC_Mito_AGP FALSE                         \n",
       "3 Cytoplasm_Granularity_2_Mito       FALSE                         \n",
       "4 Nuclei_AreaShape_Area              FALSE                         \n",
       "  cell_count_exclude plate_exclude batch_exclude non_specific_exclude\n",
       "1 FALSE              FALSE         FALSE         FALSE               \n",
       "2 FALSE              FALSE         FALSE         FALSE               \n",
       "3 FALSE              FALSE         FALSE         FALSE               \n",
       "4 FALSE              FALSE         FALSE         FALSE               \n",
       "  final_signature dataset\n",
       "1 TRUE            cloneAE\n",
       "2 TRUE            cloneAE\n",
       "3 TRUE            cloneAE\n",
       "4 TRUE            cloneAE"
      ]
     },
     "metadata": {},
     "output_type": "display_data"
    }
   ],
   "source": [
    "# Load signature\n",
    "sig_dir <- file.path(\"results\", \"signatures\")\n",
    "signature_file <- file.path(sig_dir, \"signature_summary_full_bulk_signature.tsv\")\n",
    "\n",
    "sig_col_types <- readr::cols(\n",
    "    features = readr::col_character(),\n",
    "    plate_exclude = readr::col_logical(),\n",
    "    batch_exclude = readr::col_logical(),\n",
    "    non_specific_exclude = readr::col_logical(),\n",
    "    final_signature = readr::col_logical(),\n",
    "    dataset = readr::col_character()\n",
    ")\n",
    "\n",
    "signature_df <- readr::read_tsv(signature_file, col_types = sig_col_types) %>%\n",
    "    dplyr::filter(dataset == \"cloneAE\", final_signature)\n",
    "\n",
    "print(dim(signature_df))\n",
    "head(signature_df, 4)"
   ]
  },
  {
   "cell_type": "code",
   "execution_count": 5,
   "metadata": {},
   "outputs": [
    {
     "name": "stdout",
     "output_type": "stream",
     "text": [
      "[1] 2667    9\n"
     ]
    },
    {
     "data": {
      "text/html": [
       "<table>\n",
       "<caption>A tibble: 4 × 9</caption>\n",
       "<thead>\n",
       "\t<tr><th scope=col>term</th><th scope=col>comparison</th><th scope=col>estimate</th><th scope=col>conf.low</th><th scope=col>conf.high</th><th scope=col>adj.p.value</th><th scope=col>feature</th><th scope=col>neg_log_adj_p</th><th scope=col>dataset</th></tr>\n",
       "\t<tr><th scope=col>&lt;chr&gt;</th><th scope=col>&lt;chr&gt;</th><th scope=col>&lt;dbl&gt;</th><th scope=col>&lt;dbl&gt;</th><th scope=col>&lt;dbl&gt;</th><th scope=col>&lt;dbl&gt;</th><th scope=col>&lt;chr&gt;</th><th scope=col>&lt;dbl&gt;</th><th scope=col>&lt;chr&gt;</th></tr>\n",
       "</thead>\n",
       "<tbody>\n",
       "\t<tr><td>Metadata_clone_type_indicator</td><td>1-0                                    </td><td>-0.07805113</td><td>-0.07805113</td><td>-0.07805113</td><td>0</td><td>Cytoplasm_Correlation_Costes_RNA_Mito</td><td>Inf</td><td>cloneAE</td></tr>\n",
       "\t<tr><td>Metadata_batch               </td><td>2019_03_20_Batch2-2019_02_15_Batch1_20X</td><td> 0.36668143</td><td> 0.36668143</td><td> 0.36668143</td><td>0</td><td>Cytoplasm_Correlation_Costes_RNA_Mito</td><td>Inf</td><td>cloneAE</td></tr>\n",
       "\t<tr><td>Metadata_batch               </td><td>2020_07_02_Batch8-2019_02_15_Batch1_20X</td><td>-0.15710637</td><td>-0.15710637</td><td>-0.15710637</td><td>0</td><td>Cytoplasm_Correlation_Costes_RNA_Mito</td><td>Inf</td><td>cloneAE</td></tr>\n",
       "\t<tr><td>Metadata_batch               </td><td>2020_07_02_Batch8-2019_03_20_Batch2    </td><td>-0.52378780</td><td>-0.52378780</td><td>-0.52378780</td><td>0</td><td>Cytoplasm_Correlation_Costes_RNA_Mito</td><td>Inf</td><td>cloneAE</td></tr>\n",
       "</tbody>\n",
       "</table>\n"
      ],
      "text/latex": [
       "A tibble: 4 × 9\n",
       "\\begin{tabular}{lllllllll}\n",
       " term & comparison & estimate & conf.low & conf.high & adj.p.value & feature & neg\\_log\\_adj\\_p & dataset\\\\\n",
       " <chr> & <chr> & <dbl> & <dbl> & <dbl> & <dbl> & <chr> & <dbl> & <chr>\\\\\n",
       "\\hline\n",
       "\t Metadata\\_clone\\_type\\_indicator & 1-0                                     & -0.07805113 & -0.07805113 & -0.07805113 & 0 & Cytoplasm\\_Correlation\\_Costes\\_RNA\\_Mito & Inf & cloneAE\\\\\n",
       "\t Metadata\\_batch                & 2019\\_03\\_20\\_Batch2-2019\\_02\\_15\\_Batch1\\_20X &  0.36668143 &  0.36668143 &  0.36668143 & 0 & Cytoplasm\\_Correlation\\_Costes\\_RNA\\_Mito & Inf & cloneAE\\\\\n",
       "\t Metadata\\_batch                & 2020\\_07\\_02\\_Batch8-2019\\_02\\_15\\_Batch1\\_20X & -0.15710637 & -0.15710637 & -0.15710637 & 0 & Cytoplasm\\_Correlation\\_Costes\\_RNA\\_Mito & Inf & cloneAE\\\\\n",
       "\t Metadata\\_batch                & 2020\\_07\\_02\\_Batch8-2019\\_03\\_20\\_Batch2     & -0.52378780 & -0.52378780 & -0.52378780 & 0 & Cytoplasm\\_Correlation\\_Costes\\_RNA\\_Mito & Inf & cloneAE\\\\\n",
       "\\end{tabular}\n"
      ],
      "text/markdown": [
       "\n",
       "A tibble: 4 × 9\n",
       "\n",
       "| term &lt;chr&gt; | comparison &lt;chr&gt; | estimate &lt;dbl&gt; | conf.low &lt;dbl&gt; | conf.high &lt;dbl&gt; | adj.p.value &lt;dbl&gt; | feature &lt;chr&gt; | neg_log_adj_p &lt;dbl&gt; | dataset &lt;chr&gt; |\n",
       "|---|---|---|---|---|---|---|---|---|\n",
       "| Metadata_clone_type_indicator | 1-0                                     | -0.07805113 | -0.07805113 | -0.07805113 | 0 | Cytoplasm_Correlation_Costes_RNA_Mito | Inf | cloneAE |\n",
       "| Metadata_batch                | 2019_03_20_Batch2-2019_02_15_Batch1_20X |  0.36668143 |  0.36668143 |  0.36668143 | 0 | Cytoplasm_Correlation_Costes_RNA_Mito | Inf | cloneAE |\n",
       "| Metadata_batch                | 2020_07_02_Batch8-2019_02_15_Batch1_20X | -0.15710637 | -0.15710637 | -0.15710637 | 0 | Cytoplasm_Correlation_Costes_RNA_Mito | Inf | cloneAE |\n",
       "| Metadata_batch                | 2020_07_02_Batch8-2019_03_20_Batch2     | -0.52378780 | -0.52378780 | -0.52378780 | 0 | Cytoplasm_Correlation_Costes_RNA_Mito | Inf | cloneAE |\n",
       "\n"
      ],
      "text/plain": [
       "  term                          comparison                             \n",
       "1 Metadata_clone_type_indicator 1-0                                    \n",
       "2 Metadata_batch                2019_03_20_Batch2-2019_02_15_Batch1_20X\n",
       "3 Metadata_batch                2020_07_02_Batch8-2019_02_15_Batch1_20X\n",
       "4 Metadata_batch                2020_07_02_Batch8-2019_03_20_Batch2    \n",
       "  estimate    conf.low    conf.high   adj.p.value\n",
       "1 -0.07805113 -0.07805113 -0.07805113 0          \n",
       "2  0.36668143  0.36668143  0.36668143 0          \n",
       "3 -0.15710637 -0.15710637 -0.15710637 0          \n",
       "4 -0.52378780 -0.52378780 -0.52378780 0          \n",
       "  feature                               neg_log_adj_p dataset\n",
       "1 Cytoplasm_Correlation_Costes_RNA_Mito Inf           cloneAE\n",
       "2 Cytoplasm_Correlation_Costes_RNA_Mito Inf           cloneAE\n",
       "3 Cytoplasm_Correlation_Costes_RNA_Mito Inf           cloneAE\n",
       "4 Cytoplasm_Correlation_Costes_RNA_Mito Inf           cloneAE"
      ]
     },
     "metadata": {},
     "output_type": "display_data"
    }
   ],
   "source": [
    "# Load Tukey results (to determine if feature is \"up\" or \"down\")\n",
    "tukey_file <- file.path(sig_dir, \"tukey_results_full_bulk_signature.tsv.gz\")\n",
    "\n",
    "tukey_cols <- readr::cols(\n",
    "    term = readr::col_character(),\n",
    "    comparison = readr::col_character(),\n",
    "    estimate = readr::col_double(),\n",
    "    conf.low = readr::col_double(),\n",
    "    conf.high = readr::col_double(),\n",
    "    adj.p.value = readr::col_double(),\n",
    "    feature = readr::col_character(),\n",
    "    neg_log_adj_p = readr::col_double(),\n",
    "    dataset = readr::col_character()\n",
    ")\n",
    "\n",
    "tukey_df <- readr::read_tsv(tukey_file, col_types = tukey_cols) %>%\n",
    "    dplyr::filter(dataset == \"cloneAE\")\n",
    "\n",
    "print(dim(tukey_df))\n",
    "head(tukey_df, 4)"
   ]
  },
  {
   "cell_type": "markdown",
   "metadata": {},
   "source": [
    "## Compile signature"
   ]
  },
  {
   "cell_type": "code",
   "execution_count": 6,
   "metadata": {},
   "outputs": [
    {
     "data": {
      "text/html": [
       "<dl>\n",
       "\t<dt>$up</dt>\n",
       "\t\t<dd><style>\n",
       ".list-inline {list-style: none; margin:0; padding: 0}\n",
       ".list-inline>li {display: inline-block}\n",
       ".list-inline>li:not(:last-child)::after {content: \"\\00b7\"; padding: 0 .5ex}\n",
       "</style>\n",
       "<ol class=list-inline><li>'Cytoplasm_Granularity_2_Mito'</li><li>'Nuclei_RadialDistribution_MeanFrac_AGP_4of4'</li><li>'Nuclei_Texture_AngularSecondMoment_ER_20_03'</li><li>'Nuclei_Texture_InverseDifferenceMoment_AGP_5_02'</li><li>'Nuclei_AreaShape_Zernike_8_2'</li><li>'Nuclei_AreaShape_FormFactor'</li><li>'Nuclei_RadialDistribution_MeanFrac_ER_4of4'</li><li>'Nuclei_AreaShape_MedianRadius'</li><li>'Nuclei_AreaShape_Area'</li><li>'Nuclei_AreaShape_Zernike_6_0'</li></ol>\n",
       "</dd>\n",
       "\t<dt>$down</dt>\n",
       "\t\t<dd><style>\n",
       ".list-inline {list-style: none; margin:0; padding: 0}\n",
       ".list-inline>li {display: inline-block}\n",
       ".list-inline>li:not(:last-child)::after {content: \"\\00b7\"; padding: 0 .5ex}\n",
       "</style>\n",
       "<ol class=list-inline><li>'Nuclei_RadialDistribution_MeanFrac_ER_3of4'</li><li>'Nuclei_Texture_Contrast_ER_5_02'</li><li>'Nuclei_Correlation_Correlation_DNA_ER'</li><li>'Nuclei_Intensity_MassDisplacement_DNA'</li><li>'Cytoplasm_Correlation_RWC_Mito_AGP'</li><li>'Cells_Correlation_Manders_ER_DNA'</li><li>'Nuclei_RadialDistribution_RadialCV_DNA_3of4'</li><li>'Nuclei_Granularity_2_ER'</li></ol>\n",
       "</dd>\n",
       "</dl>\n"
      ],
      "text/latex": [
       "\\begin{description}\n",
       "\\item[\\$up] \\begin{enumerate*}\n",
       "\\item 'Cytoplasm\\_Granularity\\_2\\_Mito'\n",
       "\\item 'Nuclei\\_RadialDistribution\\_MeanFrac\\_AGP\\_4of4'\n",
       "\\item 'Nuclei\\_Texture\\_AngularSecondMoment\\_ER\\_20\\_03'\n",
       "\\item 'Nuclei\\_Texture\\_InverseDifferenceMoment\\_AGP\\_5\\_02'\n",
       "\\item 'Nuclei\\_AreaShape\\_Zernike\\_8\\_2'\n",
       "\\item 'Nuclei\\_AreaShape\\_FormFactor'\n",
       "\\item 'Nuclei\\_RadialDistribution\\_MeanFrac\\_ER\\_4of4'\n",
       "\\item 'Nuclei\\_AreaShape\\_MedianRadius'\n",
       "\\item 'Nuclei\\_AreaShape\\_Area'\n",
       "\\item 'Nuclei\\_AreaShape\\_Zernike\\_6\\_0'\n",
       "\\end{enumerate*}\n",
       "\n",
       "\\item[\\$down] \\begin{enumerate*}\n",
       "\\item 'Nuclei\\_RadialDistribution\\_MeanFrac\\_ER\\_3of4'\n",
       "\\item 'Nuclei\\_Texture\\_Contrast\\_ER\\_5\\_02'\n",
       "\\item 'Nuclei\\_Correlation\\_Correlation\\_DNA\\_ER'\n",
       "\\item 'Nuclei\\_Intensity\\_MassDisplacement\\_DNA'\n",
       "\\item 'Cytoplasm\\_Correlation\\_RWC\\_Mito\\_AGP'\n",
       "\\item 'Cells\\_Correlation\\_Manders\\_ER\\_DNA'\n",
       "\\item 'Nuclei\\_RadialDistribution\\_RadialCV\\_DNA\\_3of4'\n",
       "\\item 'Nuclei\\_Granularity\\_2\\_ER'\n",
       "\\end{enumerate*}\n",
       "\n",
       "\\end{description}\n"
      ],
      "text/markdown": [
       "$up\n",
       ":   1. 'Cytoplasm_Granularity_2_Mito'\n",
       "2. 'Nuclei_RadialDistribution_MeanFrac_AGP_4of4'\n",
       "3. 'Nuclei_Texture_AngularSecondMoment_ER_20_03'\n",
       "4. 'Nuclei_Texture_InverseDifferenceMoment_AGP_5_02'\n",
       "5. 'Nuclei_AreaShape_Zernike_8_2'\n",
       "6. 'Nuclei_AreaShape_FormFactor'\n",
       "7. 'Nuclei_RadialDistribution_MeanFrac_ER_4of4'\n",
       "8. 'Nuclei_AreaShape_MedianRadius'\n",
       "9. 'Nuclei_AreaShape_Area'\n",
       "10. 'Nuclei_AreaShape_Zernike_6_0'\n",
       "\n",
       "\n",
       "\n",
       "$down\n",
       ":   1. 'Nuclei_RadialDistribution_MeanFrac_ER_3of4'\n",
       "2. 'Nuclei_Texture_Contrast_ER_5_02'\n",
       "3. 'Nuclei_Correlation_Correlation_DNA_ER'\n",
       "4. 'Nuclei_Intensity_MassDisplacement_DNA'\n",
       "5. 'Cytoplasm_Correlation_RWC_Mito_AGP'\n",
       "6. 'Cells_Correlation_Manders_ER_DNA'\n",
       "7. 'Nuclei_RadialDistribution_RadialCV_DNA_3of4'\n",
       "8. 'Nuclei_Granularity_2_ER'\n",
       "\n",
       "\n",
       "\n",
       "\n",
       "\n"
      ],
      "text/plain": [
       "$up\n",
       " [1] \"Cytoplasm_Granularity_2_Mito\"                   \n",
       " [2] \"Nuclei_RadialDistribution_MeanFrac_AGP_4of4\"    \n",
       " [3] \"Nuclei_Texture_AngularSecondMoment_ER_20_03\"    \n",
       " [4] \"Nuclei_Texture_InverseDifferenceMoment_AGP_5_02\"\n",
       " [5] \"Nuclei_AreaShape_Zernike_8_2\"                   \n",
       " [6] \"Nuclei_AreaShape_FormFactor\"                    \n",
       " [7] \"Nuclei_RadialDistribution_MeanFrac_ER_4of4\"     \n",
       " [8] \"Nuclei_AreaShape_MedianRadius\"                  \n",
       " [9] \"Nuclei_AreaShape_Area\"                          \n",
       "[10] \"Nuclei_AreaShape_Zernike_6_0\"                   \n",
       "\n",
       "$down\n",
       "[1] \"Nuclei_RadialDistribution_MeanFrac_ER_3of4\" \n",
       "[2] \"Nuclei_Texture_Contrast_ER_5_02\"            \n",
       "[3] \"Nuclei_Correlation_Correlation_DNA_ER\"      \n",
       "[4] \"Nuclei_Intensity_MassDisplacement_DNA\"      \n",
       "[5] \"Cytoplasm_Correlation_RWC_Mito_AGP\"         \n",
       "[6] \"Cells_Correlation_Manders_ER_DNA\"           \n",
       "[7] \"Nuclei_RadialDistribution_RadialCV_DNA_3of4\"\n",
       "[8] \"Nuclei_Granularity_2_ER\"                    \n"
      ]
     },
     "metadata": {},
     "output_type": "display_data"
    }
   ],
   "source": [
    "tukey_subset_df <- tukey_df %>%\n",
    "    dplyr::filter(\n",
    "        term == \"Metadata_clone_type_indicator\",\n",
    "        feature %in% signature_df$features\n",
    ")\n",
    "\n",
    "# Determine feature direction\n",
    "up_features <- tukey_subset_df %>% dplyr::filter(estimate > 0) %>% dplyr::pull(feature)\n",
    "down_features <- tukey_subset_df %>% dplyr::filter(estimate < 0) %>% dplyr::pull(feature)\n",
    "    \n",
    "# Store signature for downstream analyses\n",
    "cloneAE_signature <- list(\"up\" = up_features, \"down\" = down_features)\n",
    "\n",
    "cloneAE_signature"
   ]
  },
  {
   "cell_type": "markdown",
   "metadata": {},
   "source": [
    "## Apply signature"
   ]
  },
  {
   "cell_type": "code",
   "execution_count": 7,
   "metadata": {},
   "outputs": [
    {
     "name": "stderr",
     "output_type": "stream",
     "text": [
      "Warning message:\n",
      "“'tidy.numeric' is deprecated.\n",
      "See help(\"Deprecated\")”Warning message:\n",
      "“`data_frame()` is deprecated as of tibble 1.1.0.\n",
      "Please use `tibble()` instead.\n",
      "\u001b[90mThis warning is displayed once every 8 hours.\u001b[39m\n",
      "\u001b[90mCall `lifecycle::last_warnings()` to see where this warning was generated.\u001b[39m”"
     ]
    },
    {
     "name": "stdout",
     "output_type": "stream",
     "text": [
      "[1] 105  15\n"
     ]
    },
    {
     "data": {
      "text/html": [
       "<table>\n",
       "<caption>A tibble: 6 × 15</caption>\n",
       "<thead>\n",
       "\t<tr><th scope=col>Metadata_Plate</th><th scope=col>Metadata_Well</th><th scope=col>Metadata_batch</th><th scope=col>Metadata_cell_count</th><th scope=col>Metadata_clone_number</th><th scope=col>Metadata_plate_map_name</th><th scope=col>Metadata_treatment</th><th scope=col>Metadata_unique_sample_name</th><th scope=col>TotalScore</th><th scope=col>TotalDispersion</th><th scope=col>UpScore</th><th scope=col>UpDispersion</th><th scope=col>DownScore</th><th scope=col>DownDispersion</th><th scope=col>Metadata_permuted_p_value</th></tr>\n",
       "\t<tr><th scope=col>&lt;chr&gt;</th><th scope=col>&lt;chr&gt;</th><th scope=col>&lt;chr&gt;</th><th scope=col>&lt;int&gt;</th><th scope=col>&lt;chr&gt;</th><th scope=col>&lt;chr&gt;</th><th scope=col>&lt;chr&gt;</th><th scope=col>&lt;chr&gt;</th><th scope=col>&lt;dbl&gt;</th><th scope=col>&lt;dbl&gt;</th><th scope=col>&lt;dbl&gt;</th><th scope=col>&lt;dbl&gt;</th><th scope=col>&lt;dbl&gt;</th><th scope=col>&lt;dbl&gt;</th><th scope=col>&lt;dbl&gt;</th></tr>\n",
       "</thead>\n",
       "<tbody>\n",
       "\t<tr><td>MutClones</td><td>B02</td><td>2019_06_25_Batch3</td><td> 9203</td><td>BZ001</td><td>MutClones</td><td>Untreated</td><td>profile_0_2019_06_25_Batch3</td><td>-0.25659552</td><td>1159.393</td><td>-0.14562251</td><td> 670.8765</td><td>-0.11097301</td><td>488.5167</td><td>0.963</td></tr>\n",
       "\t<tr><td>MutClones</td><td>B03</td><td>2019_06_25_Batch3</td><td>27543</td><td>BZ002</td><td>MutClones</td><td>Untreated</td><td>profile_1_2019_06_25_Batch3</td><td> 0.30824712</td><td>1639.756</td><td> 0.16492325</td><td> 921.4359</td><td> 0.14332386</td><td>718.3197</td><td>0.014</td></tr>\n",
       "\t<tr><td>MutClones</td><td>B04</td><td>2019_06_25_Batch3</td><td> 8086</td><td>BZ003</td><td>MutClones</td><td>Untreated</td><td>profile_2_2019_06_25_Batch3</td><td>-0.17539216</td><td>1488.530</td><td>-0.10270040</td><td> 736.1109</td><td>-0.07269176</td><td>752.4195</td><td>0.890</td></tr>\n",
       "\t<tr><td>MutClones</td><td>B05</td><td>2019_06_25_Batch3</td><td>19640</td><td>BZ004</td><td>MutClones</td><td>Untreated</td><td>profile_3_2019_06_25_Batch3</td><td>-0.14183194</td><td>1293.568</td><td>-0.07421831</td><td> 655.3092</td><td>-0.06761364</td><td>638.2593</td><td>0.838</td></tr>\n",
       "\t<tr><td>MutClones</td><td>B06</td><td>2019_06_25_Batch3</td><td>20440</td><td>BZ005</td><td>MutClones</td><td>Untreated</td><td>profile_4_2019_06_25_Batch3</td><td>-0.06936617</td><td>1165.324</td><td>-0.04695850</td><td> 666.4287</td><td>-0.02240767</td><td>498.8949</td><td>0.649</td></tr>\n",
       "\t<tr><td>MutClones</td><td>B07</td><td>2019_06_25_Batch3</td><td>31643</td><td>BZ006</td><td>MutClones</td><td>Untreated</td><td>profile_5_2019_06_25_Batch3</td><td>-0.06440368</td><td>1641.238</td><td>-0.10048323</td><td>1037.8200</td><td> 0.03607955</td><td>603.4182</td><td>0.685</td></tr>\n",
       "</tbody>\n",
       "</table>\n"
      ],
      "text/latex": [
       "A tibble: 6 × 15\n",
       "\\begin{tabular}{lllllllllllllll}\n",
       " Metadata\\_Plate & Metadata\\_Well & Metadata\\_batch & Metadata\\_cell\\_count & Metadata\\_clone\\_number & Metadata\\_plate\\_map\\_name & Metadata\\_treatment & Metadata\\_unique\\_sample\\_name & TotalScore & TotalDispersion & UpScore & UpDispersion & DownScore & DownDispersion & Metadata\\_permuted\\_p\\_value\\\\\n",
       " <chr> & <chr> & <chr> & <int> & <chr> & <chr> & <chr> & <chr> & <dbl> & <dbl> & <dbl> & <dbl> & <dbl> & <dbl> & <dbl>\\\\\n",
       "\\hline\n",
       "\t MutClones & B02 & 2019\\_06\\_25\\_Batch3 &  9203 & BZ001 & MutClones & Untreated & profile\\_0\\_2019\\_06\\_25\\_Batch3 & -0.25659552 & 1159.393 & -0.14562251 &  670.8765 & -0.11097301 & 488.5167 & 0.963\\\\\n",
       "\t MutClones & B03 & 2019\\_06\\_25\\_Batch3 & 27543 & BZ002 & MutClones & Untreated & profile\\_1\\_2019\\_06\\_25\\_Batch3 &  0.30824712 & 1639.756 &  0.16492325 &  921.4359 &  0.14332386 & 718.3197 & 0.014\\\\\n",
       "\t MutClones & B04 & 2019\\_06\\_25\\_Batch3 &  8086 & BZ003 & MutClones & Untreated & profile\\_2\\_2019\\_06\\_25\\_Batch3 & -0.17539216 & 1488.530 & -0.10270040 &  736.1109 & -0.07269176 & 752.4195 & 0.890\\\\\n",
       "\t MutClones & B05 & 2019\\_06\\_25\\_Batch3 & 19640 & BZ004 & MutClones & Untreated & profile\\_3\\_2019\\_06\\_25\\_Batch3 & -0.14183194 & 1293.568 & -0.07421831 &  655.3092 & -0.06761364 & 638.2593 & 0.838\\\\\n",
       "\t MutClones & B06 & 2019\\_06\\_25\\_Batch3 & 20440 & BZ005 & MutClones & Untreated & profile\\_4\\_2019\\_06\\_25\\_Batch3 & -0.06936617 & 1165.324 & -0.04695850 &  666.4287 & -0.02240767 & 498.8949 & 0.649\\\\\n",
       "\t MutClones & B07 & 2019\\_06\\_25\\_Batch3 & 31643 & BZ006 & MutClones & Untreated & profile\\_5\\_2019\\_06\\_25\\_Batch3 & -0.06440368 & 1641.238 & -0.10048323 & 1037.8200 &  0.03607955 & 603.4182 & 0.685\\\\\n",
       "\\end{tabular}\n"
      ],
      "text/markdown": [
       "\n",
       "A tibble: 6 × 15\n",
       "\n",
       "| Metadata_Plate &lt;chr&gt; | Metadata_Well &lt;chr&gt; | Metadata_batch &lt;chr&gt; | Metadata_cell_count &lt;int&gt; | Metadata_clone_number &lt;chr&gt; | Metadata_plate_map_name &lt;chr&gt; | Metadata_treatment &lt;chr&gt; | Metadata_unique_sample_name &lt;chr&gt; | TotalScore &lt;dbl&gt; | TotalDispersion &lt;dbl&gt; | UpScore &lt;dbl&gt; | UpDispersion &lt;dbl&gt; | DownScore &lt;dbl&gt; | DownDispersion &lt;dbl&gt; | Metadata_permuted_p_value &lt;dbl&gt; |\n",
       "|---|---|---|---|---|---|---|---|---|---|---|---|---|---|---|\n",
       "| MutClones | B02 | 2019_06_25_Batch3 |  9203 | BZ001 | MutClones | Untreated | profile_0_2019_06_25_Batch3 | -0.25659552 | 1159.393 | -0.14562251 |  670.8765 | -0.11097301 | 488.5167 | 0.963 |\n",
       "| MutClones | B03 | 2019_06_25_Batch3 | 27543 | BZ002 | MutClones | Untreated | profile_1_2019_06_25_Batch3 |  0.30824712 | 1639.756 |  0.16492325 |  921.4359 |  0.14332386 | 718.3197 | 0.014 |\n",
       "| MutClones | B04 | 2019_06_25_Batch3 |  8086 | BZ003 | MutClones | Untreated | profile_2_2019_06_25_Batch3 | -0.17539216 | 1488.530 | -0.10270040 |  736.1109 | -0.07269176 | 752.4195 | 0.890 |\n",
       "| MutClones | B05 | 2019_06_25_Batch3 | 19640 | BZ004 | MutClones | Untreated | profile_3_2019_06_25_Batch3 | -0.14183194 | 1293.568 | -0.07421831 |  655.3092 | -0.06761364 | 638.2593 | 0.838 |\n",
       "| MutClones | B06 | 2019_06_25_Batch3 | 20440 | BZ005 | MutClones | Untreated | profile_4_2019_06_25_Batch3 | -0.06936617 | 1165.324 | -0.04695850 |  666.4287 | -0.02240767 | 498.8949 | 0.649 |\n",
       "| MutClones | B07 | 2019_06_25_Batch3 | 31643 | BZ006 | MutClones | Untreated | profile_5_2019_06_25_Batch3 | -0.06440368 | 1641.238 | -0.10048323 | 1037.8200 |  0.03607955 | 603.4182 | 0.685 |\n",
       "\n"
      ],
      "text/plain": [
       "  Metadata_Plate Metadata_Well Metadata_batch    Metadata_cell_count\n",
       "1 MutClones      B02           2019_06_25_Batch3  9203              \n",
       "2 MutClones      B03           2019_06_25_Batch3 27543              \n",
       "3 MutClones      B04           2019_06_25_Batch3  8086              \n",
       "4 MutClones      B05           2019_06_25_Batch3 19640              \n",
       "5 MutClones      B06           2019_06_25_Batch3 20440              \n",
       "6 MutClones      B07           2019_06_25_Batch3 31643              \n",
       "  Metadata_clone_number Metadata_plate_map_name Metadata_treatment\n",
       "1 BZ001                 MutClones               Untreated         \n",
       "2 BZ002                 MutClones               Untreated         \n",
       "3 BZ003                 MutClones               Untreated         \n",
       "4 BZ004                 MutClones               Untreated         \n",
       "5 BZ005                 MutClones               Untreated         \n",
       "6 BZ006                 MutClones               Untreated         \n",
       "  Metadata_unique_sample_name TotalScore  TotalDispersion UpScore    \n",
       "1 profile_0_2019_06_25_Batch3 -0.25659552 1159.393        -0.14562251\n",
       "2 profile_1_2019_06_25_Batch3  0.30824712 1639.756         0.16492325\n",
       "3 profile_2_2019_06_25_Batch3 -0.17539216 1488.530        -0.10270040\n",
       "4 profile_3_2019_06_25_Batch3 -0.14183194 1293.568        -0.07421831\n",
       "5 profile_4_2019_06_25_Batch3 -0.06936617 1165.324        -0.04695850\n",
       "6 profile_5_2019_06_25_Batch3 -0.06440368 1641.238        -0.10048323\n",
       "  UpDispersion DownScore   DownDispersion Metadata_permuted_p_value\n",
       "1  670.8765    -0.11097301 488.5167       0.963                    \n",
       "2  921.4359     0.14332386 718.3197       0.014                    \n",
       "3  736.1109    -0.07269176 752.4195       0.890                    \n",
       "4  655.3092    -0.06761364 638.2593       0.838                    \n",
       "5  666.4287    -0.02240767 498.8949       0.649                    \n",
       "6 1037.8200     0.03607955 603.4182       0.685                    "
      ]
     },
     "metadata": {},
     "output_type": "display_data"
    }
   ],
   "source": [
    "seed <- 1234\n",
    "\n",
    "singscore_output = singscorePipeline(\n",
    "    df = df,\n",
    "    sig_feature_list = cloneAE_signature,\n",
    "    num_permutations = 1000\n",
    ")\n",
    "\n",
    "full_results_df <- singscore_output[[\"results\"]]\n",
    "\n",
    "print(dim(full_results_df))\n",
    "head(full_results_df)"
   ]
  },
  {
   "cell_type": "markdown",
   "metadata": {},
   "source": [
    "## Visualize scores"
   ]
  },
  {
   "cell_type": "code",
   "execution_count": 8,
   "metadata": {},
   "outputs": [],
   "source": [
    "min_val <- quantile(as.vector(as.matrix(singscore_output[[\"permuted\"]])), 0.05)\n",
    "max_val <- quantile(as.vector(as.matrix(singscore_output[[\"permuted\"]])), 0.95)"
   ]
  },
  {
   "cell_type": "code",
   "execution_count": 9,
   "metadata": {},
   "outputs": [
    {
     "data": {
      "image/png": "[encoded data removed]",
      "text/plain": [
       "plot without title"
      ]
     },
     "metadata": {},
     "output_type": "display_data"
    }
   ],
   "source": [
    "append_plate <- function(string) paste0(\"Plate: \", string)\n",
    "\n",
    "batch3_gg <- (\n",
    "    ggplot(full_results_df, aes(y = TotalScore, x = Metadata_clone_number)) +\n",
    "    geom_boxplot(lwd = 0.3) +\n",
    "    geom_jitter(size = 0.2) +\n",
    "    facet_wrap(\n",
    "        \"~Metadata_Plate\",\n",
    "        scales = \"free_x\",\n",
    "        labeller = labeller(Metadata_Plate = as_labeller(append_plate))\n",
    "    ) +\n",
    "    xlab(\"\") +\n",
    "    theme_bw() +\n",
    "    theme(\n",
    "        axis.text.x = element_text(angle = 90, size = 6),\n",
    "        strip.text = element_text(size = 7),\n",
    "        strip.background = element_rect(colour=\"black\", fill=\"#fdfff4\"),\n",
    "        legend.title = element_text(size = 8),\n",
    "        legend.text = element_text(size = 5),\n",
    "        legend.key.size = unit(0.4, \"cm\"),\n",
    "        axis.title = element_text(size = 8),\n",
    "    ) +\n",
    "    annotate(\n",
    "            \"rect\",\n",
    "             ymin = min_val,\n",
    "             ymax = max_val,\n",
    "             xmin = 0,\n",
    "             xmax = 20,\n",
    "             alpha = 0.2,\n",
    "             color = \"red\",\n",
    "             linetype = \"dashed\",\n",
    "             fill = \"grey\",\n",
    "             lwd = 0.25\n",
    "        )\n",
    ")\n",
    "\n",
    "output_fig_file <- file.path(\"figures\", \"batch3\", paste0(\"singscore_validation_\", batch, \".png\"))\n",
    "ggsave(output_fig_file, batch3_gg, dpi = 500, height = 2.5, width = 4)\n",
    "\n",
    "batch3_gg"
   ]
  }
 ],
 "metadata": {
  "kernelspec": {
   "display_name": "R",
   "language": "R",
   "name": "ir"
  },
  "language_info": {
   "codemirror_mode": "r",
   "file_extension": ".r",
   "mimetype": "text/x-r-source",
   "name": "R",
   "pygments_lexer": "r",
   "version": "3.5.1"
  }
 },
 "nbformat": 4,
 "nbformat_minor": 4
}
