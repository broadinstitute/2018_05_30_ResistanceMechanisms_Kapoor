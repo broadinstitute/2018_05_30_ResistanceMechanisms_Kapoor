{
 "cells": [
  {
   "cell_type": "markdown",
   "metadata": {},
   "source": [
    "# Merge Batched Data\n",
    "\n",
    "**Gregory Way, 2019**\n",
    "\n",
    "Currently, the data were collected in two batches.\n",
    "In this notebook, I merge the batches together and output `.csv` and `.gct` files."
   ]
  },
  {
   "cell_type": "code",
   "execution_count": 1,
   "metadata": {},
   "outputs": [],
   "source": [
    "suppressPackageStartupMessages(library(dplyr))\n",
    "suppressPackageStartupMessages(library(magrittr))\n",
    "suppressPackageStartupMessages(library(curl))"
   ]
  },
  {
   "cell_type": "code",
   "execution_count": 2,
   "metadata": {},
   "outputs": [],
   "source": [
    "con <- curl(\"https://raw.githubusercontent.com/broadinstitute/cytominer_scripts/master/write_gct.R\")\n",
    "source(con)\n",
    "close(con)"
   ]
  },
  {
   "cell_type": "code",
   "execution_count": 3,
   "metadata": {},
   "outputs": [],
   "source": [
    "# Set column types for reading in data\n",
    "batch_cols = readr::cols(\n",
    "    .default = readr::col_double(),\n",
    "    Metadata_Plate = readr::col_character(),\n",
    "    Metadata_Well = readr::col_character(),\n",
    "    Metadata_Assay_Plate_Barcode = readr::col_character(),\n",
    "    Metadata_Plate_Map_Name = readr::col_character(),\n",
    "    Metadata_Batch_Number = readr::col_integer(),\n",
    "    Metadata_well_position = readr::col_character(),\n",
    "    Metadata_CellLine = readr::col_character()\n",
    ")"
   ]
  },
  {
   "cell_type": "code",
   "execution_count": 4,
   "metadata": {},
   "outputs": [
    {
     "name": "stdout",
     "output_type": "stream",
     "text": [
      "[1]  36 129\n"
     ]
    },
    {
     "data": {
      "text/html": [
       "<table>\n",
       "<thead><tr><th scope=col>Metadata_Plate</th><th scope=col>Metadata_Well</th><th scope=col>Metadata_Assay_Plate_Barcode</th><th scope=col>Metadata_Plate_Map_Name</th><th scope=col>Metadata_Batch_Number</th><th scope=col>Metadata_well_position</th><th scope=col>Metadata_CellLine</th><th scope=col>Metadata_Dosage</th><th scope=col>Cells_AreaShape_Eccentricity</th><th scope=col>Cells_AreaShape_EulerNumber</th><th scope=col>⋯</th><th scope=col>Nuclei_RadialDistribution_RadialCV_ER_1of4</th><th scope=col>Nuclei_RadialDistribution_RadialCV_Mito_1of4</th><th scope=col>Nuclei_RadialDistribution_RadialCV_Mito_2of4</th><th scope=col>Nuclei_RadialDistribution_RadialCV_RNA_1of4</th><th scope=col>Nuclei_Texture_Correlation_AGP_20_00</th><th scope=col>Nuclei_Texture_Correlation_DNA_10_02</th><th scope=col>Nuclei_Texture_Correlation_DNA_10_03</th><th scope=col>Nuclei_Texture_Correlation_ER_20_03</th><th scope=col>Nuclei_Texture_Correlation_RNA_10_01</th><th scope=col>Nuclei_Texture_Correlation_RNA_10_03</th></tr></thead>\n",
       "<tbody>\n",
       "\t<tr><td>HCT116bortezomib         </td><td>B03                      </td><td>HCT116bortezomib         </td><td>PlateMap_HCT116bortezomib</td><td>1                        </td><td>B03                      </td><td>WT                       </td><td>0                        </td><td>-0.5389166               </td><td> 0.09930445              </td><td>⋯                        </td><td>-0.5634461               </td><td>-0.36363157              </td><td>-0.51669779              </td><td>-1.585785                </td><td>-0.92986703              </td><td>-0.26073548              </td><td>0.7951588                </td><td>0.76644102               </td><td>-1.43355903              </td><td>-1.0812188               </td></tr>\n",
       "\t<tr><td>HCT116bortezomib         </td><td>B04                      </td><td>HCT116bortezomib         </td><td>PlateMap_HCT116bortezomib</td><td>1                        </td><td>B04                      </td><td>WT                       </td><td>0                        </td><td>-0.4322740               </td><td> 0.10426880              </td><td>⋯                        </td><td>-0.7727316               </td><td>-0.22590011              </td><td>-0.51984516              </td><td>-1.190355                </td><td>-0.18336538              </td><td>-0.12331085              </td><td>0.8626262                </td><td>0.38923127               </td><td>-0.55055292              </td><td>-0.5143410               </td></tr>\n",
       "\t<tr><td>HCT116bortezomib         </td><td>B05                      </td><td>HCT116bortezomib         </td><td>PlateMap_HCT116bortezomib</td><td>1                        </td><td>B05                      </td><td>WT                       </td><td>0                        </td><td>-0.3829535               </td><td>-0.25798361              </td><td>⋯                        </td><td>-0.6295427               </td><td>-0.08707354              </td><td>-0.58749972              </td><td>-1.269969                </td><td>-0.53280023              </td><td>-0.01186864              </td><td>0.8444659                </td><td>0.03431637               </td><td> 0.08001385              </td><td> 0.5337525               </td></tr>\n",
       "\t<tr><td>HCT116bortezomib         </td><td>B06                      </td><td>HCT116bortezomib         </td><td>PlateMap_HCT116bortezomib</td><td>1                        </td><td>B06                      </td><td>CloneA                   </td><td>0                        </td><td>-0.3280018               </td><td>-0.05900018              </td><td>⋯                        </td><td>-0.7019101               </td><td> 2.07612511              </td><td> 0.61859753              </td><td>-1.640622                </td><td> 0.52326014              </td><td>-0.47115313              </td><td>0.7696258                </td><td>0.44740917               </td><td> 0.56713754              </td><td> 0.2405925               </td></tr>\n",
       "\t<tr><td>HCT116bortezomib         </td><td>B07                      </td><td>HCT116bortezomib         </td><td>PlateMap_HCT116bortezomib</td><td>1                        </td><td>B07                      </td><td>CloneA                   </td><td>0                        </td><td>-1.0457478               </td><td> 0.58322895              </td><td>⋯                        </td><td>-0.4133835               </td><td> 1.31373880              </td><td>-0.06525608              </td><td>-1.395745                </td><td>-0.01205029              </td><td>-1.15464299              </td><td>0.6300836                </td><td>0.18093449               </td><td>-0.32444885              </td><td>-0.1624425               </td></tr>\n",
       "\t<tr><td>HCT116bortezomib         </td><td>B08                      </td><td>HCT116bortezomib         </td><td>PlateMap_HCT116bortezomib</td><td>1                        </td><td>B08                      </td><td>CloneA                   </td><td>0                        </td><td>-0.3269130               </td><td>-0.11641325              </td><td>⋯                        </td><td>-0.6355139               </td><td> 2.45811202              </td><td> 0.27192665              </td><td>-1.670846                </td><td> 0.21636210              </td><td> 0.13274270              </td><td>1.1058908                </td><td>0.39362591               </td><td> 1.74532329              </td><td> 1.1468407               </td></tr>\n",
       "</tbody>\n",
       "</table>\n"
      ],
      "text/latex": [
       "\\begin{tabular}{r|lllllllllllllllllllllllllllllllllllllllllllllllllllllllllllllllllllllllllllllllllllllllllllllllllllllllllllllllllllllllllllllllll}\n",
       " Metadata\\_Plate & Metadata\\_Well & Metadata\\_Assay\\_Plate\\_Barcode & Metadata\\_Plate\\_Map\\_Name & Metadata\\_Batch\\_Number & Metadata\\_well\\_position & Metadata\\_CellLine & Metadata\\_Dosage & Cells\\_AreaShape\\_Eccentricity & Cells\\_AreaShape\\_EulerNumber & ⋯ & Nuclei\\_RadialDistribution\\_RadialCV\\_ER\\_1of4 & Nuclei\\_RadialDistribution\\_RadialCV\\_Mito\\_1of4 & Nuclei\\_RadialDistribution\\_RadialCV\\_Mito\\_2of4 & Nuclei\\_RadialDistribution\\_RadialCV\\_RNA\\_1of4 & Nuclei\\_Texture\\_Correlation\\_AGP\\_20\\_00 & Nuclei\\_Texture\\_Correlation\\_DNA\\_10\\_02 & Nuclei\\_Texture\\_Correlation\\_DNA\\_10\\_03 & Nuclei\\_Texture\\_Correlation\\_ER\\_20\\_03 & Nuclei\\_Texture\\_Correlation\\_RNA\\_10\\_01 & Nuclei\\_Texture\\_Correlation\\_RNA\\_10\\_03\\\\\n",
       "\\hline\n",
       "\t HCT116bortezomib            & B03                         & HCT116bortezomib            & PlateMap\\_HCT116bortezomib & 1                           & B03                         & WT                          & 0                           & -0.5389166                  &  0.09930445                 & ⋯                           & -0.5634461                  & -0.36363157                 & -0.51669779                 & -1.585785                   & -0.92986703                 & -0.26073548                 & 0.7951588                   & 0.76644102                  & -1.43355903                 & -1.0812188                 \\\\\n",
       "\t HCT116bortezomib            & B04                         & HCT116bortezomib            & PlateMap\\_HCT116bortezomib & 1                           & B04                         & WT                          & 0                           & -0.4322740                  &  0.10426880                 & ⋯                           & -0.7727316                  & -0.22590011                 & -0.51984516                 & -1.190355                   & -0.18336538                 & -0.12331085                 & 0.8626262                   & 0.38923127                  & -0.55055292                 & -0.5143410                 \\\\\n",
       "\t HCT116bortezomib            & B05                         & HCT116bortezomib            & PlateMap\\_HCT116bortezomib & 1                           & B05                         & WT                          & 0                           & -0.3829535                  & -0.25798361                 & ⋯                           & -0.6295427                  & -0.08707354                 & -0.58749972                 & -1.269969                   & -0.53280023                 & -0.01186864                 & 0.8444659                   & 0.03431637                  &  0.08001385                 &  0.5337525                 \\\\\n",
       "\t HCT116bortezomib            & B06                         & HCT116bortezomib            & PlateMap\\_HCT116bortezomib & 1                           & B06                         & CloneA                      & 0                           & -0.3280018                  & -0.05900018                 & ⋯                           & -0.7019101                  &  2.07612511                 &  0.61859753                 & -1.640622                   &  0.52326014                 & -0.47115313                 & 0.7696258                   & 0.44740917                  &  0.56713754                 &  0.2405925                 \\\\\n",
       "\t HCT116bortezomib            & B07                         & HCT116bortezomib            & PlateMap\\_HCT116bortezomib & 1                           & B07                         & CloneA                      & 0                           & -1.0457478                  &  0.58322895                 & ⋯                           & -0.4133835                  &  1.31373880                 & -0.06525608                 & -1.395745                   & -0.01205029                 & -1.15464299                 & 0.6300836                   & 0.18093449                  & -0.32444885                 & -0.1624425                 \\\\\n",
       "\t HCT116bortezomib            & B08                         & HCT116bortezomib            & PlateMap\\_HCT116bortezomib & 1                           & B08                         & CloneA                      & 0                           & -0.3269130                  & -0.11641325                 & ⋯                           & -0.6355139                  &  2.45811202                 &  0.27192665                 & -1.670846                   &  0.21636210                 &  0.13274270                 & 1.1058908                   & 0.39362591                  &  1.74532329                 &  1.1468407                 \\\\\n",
       "\\end{tabular}\n"
      ],
      "text/markdown": [
       "\n",
       "Metadata_Plate | Metadata_Well | Metadata_Assay_Plate_Barcode | Metadata_Plate_Map_Name | Metadata_Batch_Number | Metadata_well_position | Metadata_CellLine | Metadata_Dosage | Cells_AreaShape_Eccentricity | Cells_AreaShape_EulerNumber | ⋯ | Nuclei_RadialDistribution_RadialCV_ER_1of4 | Nuclei_RadialDistribution_RadialCV_Mito_1of4 | Nuclei_RadialDistribution_RadialCV_Mito_2of4 | Nuclei_RadialDistribution_RadialCV_RNA_1of4 | Nuclei_Texture_Correlation_AGP_20_00 | Nuclei_Texture_Correlation_DNA_10_02 | Nuclei_Texture_Correlation_DNA_10_03 | Nuclei_Texture_Correlation_ER_20_03 | Nuclei_Texture_Correlation_RNA_10_01 | Nuclei_Texture_Correlation_RNA_10_03 | \n",
       "|---|---|---|---|---|---|\n",
       "| HCT116bortezomib          | B03                       | HCT116bortezomib          | PlateMap_HCT116bortezomib | 1                         | B03                       | WT                        | 0                         | -0.5389166                |  0.09930445               | ⋯                         | -0.5634461                | -0.36363157               | -0.51669779               | -1.585785                 | -0.92986703               | -0.26073548               | 0.7951588                 | 0.76644102                | -1.43355903               | -1.0812188                | \n",
       "| HCT116bortezomib          | B04                       | HCT116bortezomib          | PlateMap_HCT116bortezomib | 1                         | B04                       | WT                        | 0                         | -0.4322740                |  0.10426880               | ⋯                         | -0.7727316                | -0.22590011               | -0.51984516               | -1.190355                 | -0.18336538               | -0.12331085               | 0.8626262                 | 0.38923127                | -0.55055292               | -0.5143410                | \n",
       "| HCT116bortezomib          | B05                       | HCT116bortezomib          | PlateMap_HCT116bortezomib | 1                         | B05                       | WT                        | 0                         | -0.3829535                | -0.25798361               | ⋯                         | -0.6295427                | -0.08707354               | -0.58749972               | -1.269969                 | -0.53280023               | -0.01186864               | 0.8444659                 | 0.03431637                |  0.08001385               |  0.5337525                | \n",
       "| HCT116bortezomib          | B06                       | HCT116bortezomib          | PlateMap_HCT116bortezomib | 1                         | B06                       | CloneA                    | 0                         | -0.3280018                | -0.05900018               | ⋯                         | -0.7019101                |  2.07612511               |  0.61859753               | -1.640622                 |  0.52326014               | -0.47115313               | 0.7696258                 | 0.44740917                |  0.56713754               |  0.2405925                | \n",
       "| HCT116bortezomib          | B07                       | HCT116bortezomib          | PlateMap_HCT116bortezomib | 1                         | B07                       | CloneA                    | 0                         | -1.0457478                |  0.58322895               | ⋯                         | -0.4133835                |  1.31373880               | -0.06525608               | -1.395745                 | -0.01205029               | -1.15464299               | 0.6300836                 | 0.18093449                | -0.32444885               | -0.1624425                | \n",
       "| HCT116bortezomib          | B08                       | HCT116bortezomib          | PlateMap_HCT116bortezomib | 1                         | B08                       | CloneA                    | 0                         | -0.3269130                | -0.11641325               | ⋯                         | -0.6355139                |  2.45811202               |  0.27192665               | -1.670846                 |  0.21636210               |  0.13274270               | 1.1058908                 | 0.39362591                |  1.74532329               |  1.1468407                | \n",
       "\n",
       "\n"
      ],
      "text/plain": [
       "  Metadata_Plate   Metadata_Well Metadata_Assay_Plate_Barcode\n",
       "1 HCT116bortezomib B03           HCT116bortezomib            \n",
       "2 HCT116bortezomib B04           HCT116bortezomib            \n",
       "3 HCT116bortezomib B05           HCT116bortezomib            \n",
       "4 HCT116bortezomib B06           HCT116bortezomib            \n",
       "5 HCT116bortezomib B07           HCT116bortezomib            \n",
       "6 HCT116bortezomib B08           HCT116bortezomib            \n",
       "  Metadata_Plate_Map_Name   Metadata_Batch_Number Metadata_well_position\n",
       "1 PlateMap_HCT116bortezomib 1                     B03                   \n",
       "2 PlateMap_HCT116bortezomib 1                     B04                   \n",
       "3 PlateMap_HCT116bortezomib 1                     B05                   \n",
       "4 PlateMap_HCT116bortezomib 1                     B06                   \n",
       "5 PlateMap_HCT116bortezomib 1                     B07                   \n",
       "6 PlateMap_HCT116bortezomib 1                     B08                   \n",
       "  Metadata_CellLine Metadata_Dosage Cells_AreaShape_Eccentricity\n",
       "1 WT                0               -0.5389166                  \n",
       "2 WT                0               -0.4322740                  \n",
       "3 WT                0               -0.3829535                  \n",
       "4 CloneA            0               -0.3280018                  \n",
       "5 CloneA            0               -1.0457478                  \n",
       "6 CloneA            0               -0.3269130                  \n",
       "  Cells_AreaShape_EulerNumber ⋯ Nuclei_RadialDistribution_RadialCV_ER_1of4\n",
       "1  0.09930445                 ⋯ -0.5634461                                \n",
       "2  0.10426880                 ⋯ -0.7727316                                \n",
       "3 -0.25798361                 ⋯ -0.6295427                                \n",
       "4 -0.05900018                 ⋯ -0.7019101                                \n",
       "5  0.58322895                 ⋯ -0.4133835                                \n",
       "6 -0.11641325                 ⋯ -0.6355139                                \n",
       "  Nuclei_RadialDistribution_RadialCV_Mito_1of4\n",
       "1 -0.36363157                                 \n",
       "2 -0.22590011                                 \n",
       "3 -0.08707354                                 \n",
       "4  2.07612511                                 \n",
       "5  1.31373880                                 \n",
       "6  2.45811202                                 \n",
       "  Nuclei_RadialDistribution_RadialCV_Mito_2of4\n",
       "1 -0.51669779                                 \n",
       "2 -0.51984516                                 \n",
       "3 -0.58749972                                 \n",
       "4  0.61859753                                 \n",
       "5 -0.06525608                                 \n",
       "6  0.27192665                                 \n",
       "  Nuclei_RadialDistribution_RadialCV_RNA_1of4\n",
       "1 -1.585785                                  \n",
       "2 -1.190355                                  \n",
       "3 -1.269969                                  \n",
       "4 -1.640622                                  \n",
       "5 -1.395745                                  \n",
       "6 -1.670846                                  \n",
       "  Nuclei_Texture_Correlation_AGP_20_00 Nuclei_Texture_Correlation_DNA_10_02\n",
       "1 -0.92986703                          -0.26073548                         \n",
       "2 -0.18336538                          -0.12331085                         \n",
       "3 -0.53280023                          -0.01186864                         \n",
       "4  0.52326014                          -0.47115313                         \n",
       "5 -0.01205029                          -1.15464299                         \n",
       "6  0.21636210                           0.13274270                         \n",
       "  Nuclei_Texture_Correlation_DNA_10_03 Nuclei_Texture_Correlation_ER_20_03\n",
       "1 0.7951588                            0.76644102                         \n",
       "2 0.8626262                            0.38923127                         \n",
       "3 0.8444659                            0.03431637                         \n",
       "4 0.7696258                            0.44740917                         \n",
       "5 0.6300836                            0.18093449                         \n",
       "6 1.1058908                            0.39362591                         \n",
       "  Nuclei_Texture_Correlation_RNA_10_01 Nuclei_Texture_Correlation_RNA_10_03\n",
       "1 -1.43355903                          -1.0812188                          \n",
       "2 -0.55055292                          -0.5143410                          \n",
       "3  0.08001385                           0.5337525                          \n",
       "4  0.56713754                           0.2405925                          \n",
       "5 -0.32444885                          -0.1624425                          \n",
       "6  1.74532329                           1.1468407                          "
      ]
     },
     "metadata": {},
     "output_type": "display_data"
    }
   ],
   "source": [
    "file <- file.path(\"data\", \"2019_02_15_Batch1_20X\", \"HCT116bortezomib_normalized_variable_selected.csv\")\n",
    "batch1_df <- readr::read_csv(file, col_types = batch_cols)\n",
    "\n",
    "print(dim(batch1_df))\n",
    "head(batch1_df)"
   ]
  },
  {
   "cell_type": "code",
   "execution_count": 5,
   "metadata": {},
   "outputs": [
    {
     "name": "stdout",
     "output_type": "stream",
     "text": [
      "[1]  36 171\n"
     ]
    },
    {
     "data": {
      "text/html": [
       "<table>\n",
       "<thead><tr><th scope=col>Metadata_Plate</th><th scope=col>Metadata_Well</th><th scope=col>Metadata_Assay_Plate_Barcode</th><th scope=col>Metadata_Plate_Map_Name</th><th scope=col>Metadata_Batch_Number</th><th scope=col>Metadata_well_position</th><th scope=col>Metadata_CellLine</th><th scope=col>Metadata_Dosage</th><th scope=col>Cells_AreaShape_Compactness</th><th scope=col>Cells_AreaShape_Orientation</th><th scope=col>⋯</th><th scope=col>Nuclei_Texture_Correlation_DNA_10_01</th><th scope=col>Nuclei_Texture_Correlation_ER_10_01</th><th scope=col>Nuclei_Texture_Correlation_Mito_5_02</th><th scope=col>Nuclei_Texture_Correlation_Mito_5_03</th><th scope=col>Nuclei_Texture_Correlation_RNA_10_01</th><th scope=col>Nuclei_Texture_Correlation_RNA_10_03</th><th scope=col>Nuclei_Texture_Correlation_RNA_20_00</th><th scope=col>Nuclei_Texture_Entropy_ER_20_01</th><th scope=col>Nuclei_Texture_SumVariance_ER_20_01</th><th scope=col>Nuclei_Texture_SumVariance_RNA_20_01</th></tr></thead>\n",
       "<tbody>\n",
       "\t<tr><td>207106_exposure320         </td><td>B02                        </td><td>207106_exposure320         </td><td>PlateMap_207106_exposure320</td><td>2                          </td><td>B02                        </td><td>WT                         </td><td>0                          </td><td> 1.3191326                 </td><td> 0.9176338                 </td><td>⋯                          </td><td>0.7871451                  </td><td> 0.2753495                 </td><td> 0.23614066                </td><td> 0.120671490               </td><td> 0.4023975                 </td><td> 0.6558692                 </td><td>0.7843925                  </td><td>-0.3963174                 </td><td>-0.05320719                </td><td> 0.6949548                 </td></tr>\n",
       "\t<tr><td>207106_exposure320         </td><td>B03                        </td><td>207106_exposure320         </td><td>PlateMap_207106_exposure320</td><td>2                          </td><td>B03                        </td><td>WT                         </td><td>0                          </td><td> 1.6230878                 </td><td> 0.3895463                 </td><td>⋯                          </td><td>0.7169757                  </td><td>-0.1075322                 </td><td> 0.08524138                </td><td>-0.007435339               </td><td>-0.1742759                 </td><td> 0.5114458                 </td><td>0.5909146                  </td><td>-0.4505974                 </td><td> 0.02310763                </td><td> 0.9688375                 </td></tr>\n",
       "\t<tr><td>207106_exposure320         </td><td>B04                        </td><td>207106_exposure320         </td><td>PlateMap_207106_exposure320</td><td>2                          </td><td>B04                        </td><td>WT                         </td><td>0                          </td><td> 1.6363529                 </td><td> 1.2591442                 </td><td>⋯                          </td><td>0.7656041                  </td><td> 0.3845440                 </td><td> 0.15507666                </td><td> 0.085089214               </td><td> 0.1596963                 </td><td> 0.6254404                 </td><td>0.4115369                  </td><td>-0.3335012                 </td><td>-0.13302498                </td><td> 0.6550726                 </td></tr>\n",
       "\t<tr><td>207106_exposure320         </td><td>B05                        </td><td>207106_exposure320         </td><td>PlateMap_207106_exposure320</td><td>2                          </td><td>B05                        </td><td>CloneA                     </td><td>0                          </td><td> 0.2434214                 </td><td> 0.1989603                 </td><td>⋯                          </td><td>1.1657956                  </td><td>-1.0558787                 </td><td>-0.69040151                </td><td>-0.845332070               </td><td>-1.6667730                 </td><td>-0.3139594                 </td><td>0.7705396                  </td><td>-1.7510916                 </td><td>-0.96136710                </td><td>-0.6939089                 </td></tr>\n",
       "\t<tr><td>207106_exposure320         </td><td>B06                        </td><td>207106_exposure320         </td><td>PlateMap_207106_exposure320</td><td>2                          </td><td>B06                        </td><td>CloneA                     </td><td>0                          </td><td>-0.2089785                 </td><td>-0.3516031                 </td><td>⋯                          </td><td>0.9566119                  </td><td>-0.7786303                 </td><td>-0.96949399                </td><td>-1.048383063               </td><td>-1.7693063                 </td><td>-0.2434259                 </td><td>0.4786586                  </td><td>-1.5143882                 </td><td>-0.89358488                </td><td>-0.8336638                 </td></tr>\n",
       "\t<tr><td>207106_exposure320         </td><td>B07                        </td><td>207106_exposure320         </td><td>PlateMap_207106_exposure320</td><td>2                          </td><td>B07                        </td><td>CloneA                     </td><td>0                          </td><td>-0.2530082                 </td><td> 0.2946310                 </td><td>⋯                          </td><td>0.9474292                  </td><td>-0.7042756                 </td><td>-0.86614241                </td><td>-0.964391229               </td><td>-1.8522586                 </td><td>-0.2413778                 </td><td>0.2487970                  </td><td>-1.6065633                 </td><td>-0.93381058                </td><td>-0.7832081                 </td></tr>\n",
       "</tbody>\n",
       "</table>\n"
      ],
      "text/latex": [
       "\\begin{tabular}{r|lllllllllllllllllllllllllllllllllllllllllllllllllllllllllllllllllllllllllllllllllllllllllllllllllllllllllllllllllllllllllllllllllllllllllllllllllllllllllllllllllllllllllll}\n",
       " Metadata\\_Plate & Metadata\\_Well & Metadata\\_Assay\\_Plate\\_Barcode & Metadata\\_Plate\\_Map\\_Name & Metadata\\_Batch\\_Number & Metadata\\_well\\_position & Metadata\\_CellLine & Metadata\\_Dosage & Cells\\_AreaShape\\_Compactness & Cells\\_AreaShape\\_Orientation & ⋯ & Nuclei\\_Texture\\_Correlation\\_DNA\\_10\\_01 & Nuclei\\_Texture\\_Correlation\\_ER\\_10\\_01 & Nuclei\\_Texture\\_Correlation\\_Mito\\_5\\_02 & Nuclei\\_Texture\\_Correlation\\_Mito\\_5\\_03 & Nuclei\\_Texture\\_Correlation\\_RNA\\_10\\_01 & Nuclei\\_Texture\\_Correlation\\_RNA\\_10\\_03 & Nuclei\\_Texture\\_Correlation\\_RNA\\_20\\_00 & Nuclei\\_Texture\\_Entropy\\_ER\\_20\\_01 & Nuclei\\_Texture\\_SumVariance\\_ER\\_20\\_01 & Nuclei\\_Texture\\_SumVariance\\_RNA\\_20\\_01\\\\\n",
       "\\hline\n",
       "\t 207106\\_exposure320            & B02                             & 207106\\_exposure320            & PlateMap\\_207106\\_exposure320 & 2                               & B02                             & WT                              & 0                               &  1.3191326                      &  0.9176338                      & ⋯                               & 0.7871451                       &  0.2753495                      &  0.23614066                     &  0.120671490                    &  0.4023975                      &  0.6558692                      & 0.7843925                       & -0.3963174                      & -0.05320719                     &  0.6949548                     \\\\\n",
       "\t 207106\\_exposure320            & B03                             & 207106\\_exposure320            & PlateMap\\_207106\\_exposure320 & 2                               & B03                             & WT                              & 0                               &  1.6230878                      &  0.3895463                      & ⋯                               & 0.7169757                       & -0.1075322                      &  0.08524138                     & -0.007435339                    & -0.1742759                      &  0.5114458                      & 0.5909146                       & -0.4505974                      &  0.02310763                     &  0.9688375                     \\\\\n",
       "\t 207106\\_exposure320            & B04                             & 207106\\_exposure320            & PlateMap\\_207106\\_exposure320 & 2                               & B04                             & WT                              & 0                               &  1.6363529                      &  1.2591442                      & ⋯                               & 0.7656041                       &  0.3845440                      &  0.15507666                     &  0.085089214                    &  0.1596963                      &  0.6254404                      & 0.4115369                       & -0.3335012                      & -0.13302498                     &  0.6550726                     \\\\\n",
       "\t 207106\\_exposure320            & B05                             & 207106\\_exposure320            & PlateMap\\_207106\\_exposure320 & 2                               & B05                             & CloneA                          & 0                               &  0.2434214                      &  0.1989603                      & ⋯                               & 1.1657956                       & -1.0558787                      & -0.69040151                     & -0.845332070                    & -1.6667730                      & -0.3139594                      & 0.7705396                       & -1.7510916                      & -0.96136710                     & -0.6939089                     \\\\\n",
       "\t 207106\\_exposure320            & B06                             & 207106\\_exposure320            & PlateMap\\_207106\\_exposure320 & 2                               & B06                             & CloneA                          & 0                               & -0.2089785                      & -0.3516031                      & ⋯                               & 0.9566119                       & -0.7786303                      & -0.96949399                     & -1.048383063                    & -1.7693063                      & -0.2434259                      & 0.4786586                       & -1.5143882                      & -0.89358488                     & -0.8336638                     \\\\\n",
       "\t 207106\\_exposure320            & B07                             & 207106\\_exposure320            & PlateMap\\_207106\\_exposure320 & 2                               & B07                             & CloneA                          & 0                               & -0.2530082                      &  0.2946310                      & ⋯                               & 0.9474292                       & -0.7042756                      & -0.86614241                     & -0.964391229                    & -1.8522586                      & -0.2413778                      & 0.2487970                       & -1.6065633                      & -0.93381058                     & -0.7832081                     \\\\\n",
       "\\end{tabular}\n"
      ],
      "text/markdown": [
       "\n",
       "Metadata_Plate | Metadata_Well | Metadata_Assay_Plate_Barcode | Metadata_Plate_Map_Name | Metadata_Batch_Number | Metadata_well_position | Metadata_CellLine | Metadata_Dosage | Cells_AreaShape_Compactness | Cells_AreaShape_Orientation | ⋯ | Nuclei_Texture_Correlation_DNA_10_01 | Nuclei_Texture_Correlation_ER_10_01 | Nuclei_Texture_Correlation_Mito_5_02 | Nuclei_Texture_Correlation_Mito_5_03 | Nuclei_Texture_Correlation_RNA_10_01 | Nuclei_Texture_Correlation_RNA_10_03 | Nuclei_Texture_Correlation_RNA_20_00 | Nuclei_Texture_Entropy_ER_20_01 | Nuclei_Texture_SumVariance_ER_20_01 | Nuclei_Texture_SumVariance_RNA_20_01 | \n",
       "|---|---|---|---|---|---|\n",
       "| 207106_exposure320          | B02                         | 207106_exposure320          | PlateMap_207106_exposure320 | 2                           | B02                         | WT                          | 0                           |  1.3191326                  |  0.9176338                  | ⋯                           | 0.7871451                   |  0.2753495                  |  0.23614066                 |  0.120671490                |  0.4023975                  |  0.6558692                  | 0.7843925                   | -0.3963174                  | -0.05320719                 |  0.6949548                  | \n",
       "| 207106_exposure320          | B03                         | 207106_exposure320          | PlateMap_207106_exposure320 | 2                           | B03                         | WT                          | 0                           |  1.6230878                  |  0.3895463                  | ⋯                           | 0.7169757                   | -0.1075322                  |  0.08524138                 | -0.007435339                | -0.1742759                  |  0.5114458                  | 0.5909146                   | -0.4505974                  |  0.02310763                 |  0.9688375                  | \n",
       "| 207106_exposure320          | B04                         | 207106_exposure320          | PlateMap_207106_exposure320 | 2                           | B04                         | WT                          | 0                           |  1.6363529                  |  1.2591442                  | ⋯                           | 0.7656041                   |  0.3845440                  |  0.15507666                 |  0.085089214                |  0.1596963                  |  0.6254404                  | 0.4115369                   | -0.3335012                  | -0.13302498                 |  0.6550726                  | \n",
       "| 207106_exposure320          | B05                         | 207106_exposure320          | PlateMap_207106_exposure320 | 2                           | B05                         | CloneA                      | 0                           |  0.2434214                  |  0.1989603                  | ⋯                           | 1.1657956                   | -1.0558787                  | -0.69040151                 | -0.845332070                | -1.6667730                  | -0.3139594                  | 0.7705396                   | -1.7510916                  | -0.96136710                 | -0.6939089                  | \n",
       "| 207106_exposure320          | B06                         | 207106_exposure320          | PlateMap_207106_exposure320 | 2                           | B06                         | CloneA                      | 0                           | -0.2089785                  | -0.3516031                  | ⋯                           | 0.9566119                   | -0.7786303                  | -0.96949399                 | -1.048383063                | -1.7693063                  | -0.2434259                  | 0.4786586                   | -1.5143882                  | -0.89358488                 | -0.8336638                  | \n",
       "| 207106_exposure320          | B07                         | 207106_exposure320          | PlateMap_207106_exposure320 | 2                           | B07                         | CloneA                      | 0                           | -0.2530082                  |  0.2946310                  | ⋯                           | 0.9474292                   | -0.7042756                  | -0.86614241                 | -0.964391229                | -1.8522586                  | -0.2413778                  | 0.2487970                   | -1.6065633                  | -0.93381058                 | -0.7832081                  | \n",
       "\n",
       "\n"
      ],
      "text/plain": [
       "  Metadata_Plate     Metadata_Well Metadata_Assay_Plate_Barcode\n",
       "1 207106_exposure320 B02           207106_exposure320          \n",
       "2 207106_exposure320 B03           207106_exposure320          \n",
       "3 207106_exposure320 B04           207106_exposure320          \n",
       "4 207106_exposure320 B05           207106_exposure320          \n",
       "5 207106_exposure320 B06           207106_exposure320          \n",
       "6 207106_exposure320 B07           207106_exposure320          \n",
       "  Metadata_Plate_Map_Name     Metadata_Batch_Number Metadata_well_position\n",
       "1 PlateMap_207106_exposure320 2                     B02                   \n",
       "2 PlateMap_207106_exposure320 2                     B03                   \n",
       "3 PlateMap_207106_exposure320 2                     B04                   \n",
       "4 PlateMap_207106_exposure320 2                     B05                   \n",
       "5 PlateMap_207106_exposure320 2                     B06                   \n",
       "6 PlateMap_207106_exposure320 2                     B07                   \n",
       "  Metadata_CellLine Metadata_Dosage Cells_AreaShape_Compactness\n",
       "1 WT                0                1.3191326                 \n",
       "2 WT                0                1.6230878                 \n",
       "3 WT                0                1.6363529                 \n",
       "4 CloneA            0                0.2434214                 \n",
       "5 CloneA            0               -0.2089785                 \n",
       "6 CloneA            0               -0.2530082                 \n",
       "  Cells_AreaShape_Orientation ⋯ Nuclei_Texture_Correlation_DNA_10_01\n",
       "1  0.9176338                  ⋯ 0.7871451                           \n",
       "2  0.3895463                  ⋯ 0.7169757                           \n",
       "3  1.2591442                  ⋯ 0.7656041                           \n",
       "4  0.1989603                  ⋯ 1.1657956                           \n",
       "5 -0.3516031                  ⋯ 0.9566119                           \n",
       "6  0.2946310                  ⋯ 0.9474292                           \n",
       "  Nuclei_Texture_Correlation_ER_10_01 Nuclei_Texture_Correlation_Mito_5_02\n",
       "1  0.2753495                           0.23614066                         \n",
       "2 -0.1075322                           0.08524138                         \n",
       "3  0.3845440                           0.15507666                         \n",
       "4 -1.0558787                          -0.69040151                         \n",
       "5 -0.7786303                          -0.96949399                         \n",
       "6 -0.7042756                          -0.86614241                         \n",
       "  Nuclei_Texture_Correlation_Mito_5_03 Nuclei_Texture_Correlation_RNA_10_01\n",
       "1  0.120671490                          0.4023975                          \n",
       "2 -0.007435339                         -0.1742759                          \n",
       "3  0.085089214                          0.1596963                          \n",
       "4 -0.845332070                         -1.6667730                          \n",
       "5 -1.048383063                         -1.7693063                          \n",
       "6 -0.964391229                         -1.8522586                          \n",
       "  Nuclei_Texture_Correlation_RNA_10_03 Nuclei_Texture_Correlation_RNA_20_00\n",
       "1  0.6558692                           0.7843925                           \n",
       "2  0.5114458                           0.5909146                           \n",
       "3  0.6254404                           0.4115369                           \n",
       "4 -0.3139594                           0.7705396                           \n",
       "5 -0.2434259                           0.4786586                           \n",
       "6 -0.2413778                           0.2487970                           \n",
       "  Nuclei_Texture_Entropy_ER_20_01 Nuclei_Texture_SumVariance_ER_20_01\n",
       "1 -0.3963174                      -0.05320719                        \n",
       "2 -0.4505974                       0.02310763                        \n",
       "3 -0.3335012                      -0.13302498                        \n",
       "4 -1.7510916                      -0.96136710                        \n",
       "5 -1.5143882                      -0.89358488                        \n",
       "6 -1.6065633                      -0.93381058                        \n",
       "  Nuclei_Texture_SumVariance_RNA_20_01\n",
       "1  0.6949548                          \n",
       "2  0.9688375                          \n",
       "3  0.6550726                          \n",
       "4 -0.6939089                          \n",
       "5 -0.8336638                          \n",
       "6 -0.7832081                          "
      ]
     },
     "metadata": {},
     "output_type": "display_data"
    }
   ],
   "source": [
    "file <- file.path(\"data\", \"2019_03_20_Batch2\", \"207106_exposure320_normalized_variable_selected.csv\")\n",
    "batch2_df <- readr::read_csv(file, col_types = batch_cols)\n",
    "\n",
    "print(dim(batch2_df))\n",
    "head(batch2_df)"
   ]
  },
  {
   "cell_type": "code",
   "execution_count": 6,
   "metadata": {},
   "outputs": [
    {
     "data": {
      "text/html": [
       "66"
      ],
      "text/latex": [
       "66"
      ],
      "text/markdown": [
       "66"
      ],
      "text/plain": [
       "[1] 66"
      ]
     },
     "metadata": {},
     "output_type": "display_data"
    }
   ],
   "source": [
    "# What are the common columns\n",
    "common_cols <- intersect(colnames(batch1_df), colnames(batch2_df))\n",
    "length(common_cols)"
   ]
  },
  {
   "cell_type": "code",
   "execution_count": 7,
   "metadata": {},
   "outputs": [
    {
     "data": {
      "text/html": [
       "<ol class=list-inline>\n",
       "\t<li>72</li>\n",
       "\t<li>66</li>\n",
       "</ol>\n"
      ],
      "text/latex": [
       "\\begin{enumerate*}\n",
       "\\item 72\n",
       "\\item 66\n",
       "\\end{enumerate*}\n"
      ],
      "text/markdown": [
       "1. 72\n",
       "2. 66\n",
       "\n",
       "\n"
      ],
      "text/plain": [
       "[1] 72 66"
      ]
     },
     "metadata": {},
     "output_type": "display_data"
    }
   ],
   "source": [
    "# Combine dataframes together by common columns\n",
    "batch1_commoncols_df <- batch1_df %>%\n",
    "    dplyr::select(common_cols)\n",
    "\n",
    "batch2_commoncols_df <- batch2_df %>%\n",
    "    dplyr::select(common_cols)\n",
    "\n",
    "all_commoncols_df <- dplyr::bind_rows(batch1_commoncols_df,\n",
    "                                      batch2_commoncols_df)\n",
    "\n",
    "dim(all_commoncols_df)"
   ]
  },
  {
   "cell_type": "code",
   "execution_count": 8,
   "metadata": {},
   "outputs": [],
   "source": [
    "file <- file.path(\"data\", \"merged_intersected_variable_selected.csv\")\n",
    "readr::write_csv(all_commoncols_df, file)"
   ]
  },
  {
   "cell_type": "code",
   "execution_count": 9,
   "metadata": {},
   "outputs": [],
   "source": [
    "# Output GCT file with combined columns\n",
    "file <- paste0(tools::file_path_sans_ext(file), \".gct\")\n",
    "write_gct(all_commoncols_df, file)"
   ]
  }
 ],
 "metadata": {
  "kernelspec": {
   "display_name": "R [conda env:resistance-mechanisms] *",
   "language": "R",
   "name": "conda-env-resistance-mechanisms-r"
  },
  "language_info": {
   "codemirror_mode": "r",
   "file_extension": ".r",
   "mimetype": "text/x-r-source",
   "name": "R",
   "pygments_lexer": "r",
   "version": "3.4.1"
  }
 },
 "nbformat": 4,
 "nbformat_minor": 2
}
