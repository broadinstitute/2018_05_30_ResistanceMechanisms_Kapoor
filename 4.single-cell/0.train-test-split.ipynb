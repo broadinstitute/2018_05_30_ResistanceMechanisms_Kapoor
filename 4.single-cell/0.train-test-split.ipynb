{
 "cells": [
  {
   "cell_type": "code",
   "execution_count": 1,
   "metadata": {},
   "outputs": [],
   "source": [
    "import sys\n",
    "import pathlib\n",
    "import sqlite3\n",
    "import pandas as pd\n",
    "from sklearn.preprocessing import StandardScaler\n",
    "from sklearn.model_selection import train_test_split\n",
    "\n",
    "from pycytominer import feature_select\n",
    "from pycytominer.cyto_utils import infer_cp_features\n",
    "\n",
    "from utils.single_cell_utils import process_sites, normalize_sc\n",
    "sys.path.append(\"../0.generate-profiles\")\n",
    "from scripts.profile_util import load_config"
   ]
  },
  {
   "cell_type": "code",
   "execution_count": 2,
   "metadata": {},
   "outputs": [],
   "source": [
    "pd.np.random.seed(1234)"
   ]
  },
  {
   "cell_type": "code",
   "execution_count": 3,
   "metadata": {},
   "outputs": [],
   "source": [
    "# Set constants\n",
    "batch = \"2020_07_02_Batch8\"\n",
    "plate = \"218360\"\n",
    "cell_line_column = \"Metadata_clone_number\"\n",
    "cell_lines = [\"Clone A\", \"Clone E\", \"WT parental\"]\n",
    "\n",
    "feature_filter = [\"Object\", \"Location\", \"Count\", \"Parent\"]\n",
    "test_split_prop = 0.15\n",
    "scaler_method = \"standard\"\n",
    "seed = 123\n",
    "\n",
    "feature_select_opts = [\n",
    "    \"variance_threshold\",\n",
    "    \"drop_na_columns\",\n",
    "    \"blacklist\",\n",
    "    \"drop_outliers\",\n",
    "]\n",
    "corr_threshold = 0.8\n",
    "na_cutoff = 0"
   ]
  },
  {
   "cell_type": "code",
   "execution_count": 4,
   "metadata": {},
   "outputs": [],
   "source": [
    "# Load locations of single cell files\n",
    "config = pathlib.Path(\"../0.generate-profiles/profile_config.yaml\")\n",
    "pipeline, single_cell_files = load_config(config, append_sql_prefix=False, local=True)"
   ]
  },
  {
   "cell_type": "code",
   "execution_count": 5,
   "metadata": {},
   "outputs": [
    {
     "data": {
      "text/html": [
       "<div>\n",
       "<style scoped>\n",
       "    .dataframe tbody tr th:only-of-type {\n",
       "        vertical-align: middle;\n",
       "    }\n",
       "\n",
       "    .dataframe tbody tr th {\n",
       "        vertical-align: top;\n",
       "    }\n",
       "\n",
       "    .dataframe thead th {\n",
       "        text-align: right;\n",
       "    }\n",
       "</style>\n",
       "<table border=\"1\" class=\"dataframe\">\n",
       "  <thead>\n",
       "    <tr style=\"text-align: right;\">\n",
       "      <th></th>\n",
       "      <th>Assay_Plate_Barcode</th>\n",
       "      <th>Plate_Map_Name</th>\n",
       "    </tr>\n",
       "  </thead>\n",
       "  <tbody>\n",
       "    <tr>\n",
       "      <th>0</th>\n",
       "      <td>218360</td>\n",
       "      <td>218360</td>\n",
       "    </tr>\n",
       "    <tr>\n",
       "      <th>1</th>\n",
       "      <td>218361</td>\n",
       "      <td>218361</td>\n",
       "    </tr>\n",
       "    <tr>\n",
       "      <th>2</th>\n",
       "      <td>218362</td>\n",
       "      <td>218362</td>\n",
       "    </tr>\n",
       "    <tr>\n",
       "      <th>3</th>\n",
       "      <td>218363</td>\n",
       "      <td>218363</td>\n",
       "    </tr>\n",
       "  </tbody>\n",
       "</table>\n",
       "</div>"
      ],
      "text/plain": [
       "   Assay_Plate_Barcode  Plate_Map_Name\n",
       "0               218360          218360\n",
       "1               218361          218361\n",
       "2               218362          218362\n",
       "3               218363          218363"
      ]
     },
     "execution_count": 5,
     "metadata": {},
     "output_type": "execute_result"
    }
   ],
   "source": [
    "workspace_dir = pipeline[\"workspace_dir\"]\n",
    "batch_dir = pathlib.Path(workspace_dir, \"backend\", batch)\n",
    "metadata_dir = pathlib.Path(\"../0.generate-profiles\", \"metadata\", batch)\n",
    "\n",
    "barcode_plate_map_file = pathlib.Path(metadata_dir, \"barcode_platemap.csv\")\n",
    "barcode_plate_map_df = pd.read_csv(barcode_plate_map_file)\n",
    "\n",
    "barcode_plate_map_df"
   ]
  },
  {
   "cell_type": "code",
   "execution_count": 6,
   "metadata": {},
   "outputs": [
    {
     "data": {
      "text/html": [
       "<div>\n",
       "<style scoped>\n",
       "    .dataframe tbody tr th:only-of-type {\n",
       "        vertical-align: middle;\n",
       "    }\n",
       "\n",
       "    .dataframe tbody tr th {\n",
       "        vertical-align: top;\n",
       "    }\n",
       "\n",
       "    .dataframe thead th {\n",
       "        text-align: right;\n",
       "    }\n",
       "</style>\n",
       "<table border=\"1\" class=\"dataframe\">\n",
       "  <thead>\n",
       "    <tr style=\"text-align: right;\">\n",
       "      <th></th>\n",
       "      <th>Metadata_plate_map_name</th>\n",
       "      <th>Metadata_well_position</th>\n",
       "      <th>Metadata_clone_number</th>\n",
       "      <th>Metadata_plate_ID</th>\n",
       "      <th>Metadata_plate_filename</th>\n",
       "      <th>Metadata_treatment</th>\n",
       "      <th>Metadata_treatment_time</th>\n",
       "      <th>Metadata_cell_density</th>\n",
       "    </tr>\n",
       "  </thead>\n",
       "  <tbody>\n",
       "    <tr>\n",
       "      <th>0</th>\n",
       "      <td>218360</td>\n",
       "      <td>B02</td>\n",
       "      <td>WT parental</td>\n",
       "      <td>218360</td>\n",
       "      <td>20200626-WTpAE-Lo</td>\n",
       "      <td>0.1% DMSO</td>\n",
       "      <td>13 hr</td>\n",
       "      <td>2.5x10^3 cells/well</td>\n",
       "    </tr>\n",
       "    <tr>\n",
       "      <th>1</th>\n",
       "      <td>218360</td>\n",
       "      <td>B03</td>\n",
       "      <td>WT parental</td>\n",
       "      <td>218360</td>\n",
       "      <td>20200626-WTpAE-Lo</td>\n",
       "      <td>2.1 nM bortezomib</td>\n",
       "      <td>13 hr</td>\n",
       "      <td>2.5x10^3 cells/well</td>\n",
       "    </tr>\n",
       "    <tr>\n",
       "      <th>2</th>\n",
       "      <td>218360</td>\n",
       "      <td>B04</td>\n",
       "      <td>WT parental</td>\n",
       "      <td>218360</td>\n",
       "      <td>20200626-WTpAE-Lo</td>\n",
       "      <td>21 nM bortezomib</td>\n",
       "      <td>13 hr</td>\n",
       "      <td>2.5x10^3 cells/well</td>\n",
       "    </tr>\n",
       "    <tr>\n",
       "      <th>3</th>\n",
       "      <td>218360</td>\n",
       "      <td>B05</td>\n",
       "      <td>WT parental</td>\n",
       "      <td>218360</td>\n",
       "      <td>20200626-WTpAE-Lo</td>\n",
       "      <td>210 nM bortezomib</td>\n",
       "      <td>13 hr</td>\n",
       "      <td>2.5x10^3 cells/well</td>\n",
       "    </tr>\n",
       "    <tr>\n",
       "      <th>4</th>\n",
       "      <td>218360</td>\n",
       "      <td>B06</td>\n",
       "      <td>WT parental</td>\n",
       "      <td>218360</td>\n",
       "      <td>20200626-WTpAE-Lo</td>\n",
       "      <td>0.1% DMSO</td>\n",
       "      <td>13 hr</td>\n",
       "      <td>2.5x10^3 cells/well</td>\n",
       "    </tr>\n",
       "  </tbody>\n",
       "</table>\n",
       "</div>"
      ],
      "text/plain": [
       "   Metadata_plate_map_name Metadata_well_position Metadata_clone_number  \\\n",
       "0                   218360                    B02           WT parental   \n",
       "1                   218360                    B03           WT parental   \n",
       "2                   218360                    B04           WT parental   \n",
       "3                   218360                    B05           WT parental   \n",
       "4                   218360                    B06           WT parental   \n",
       "\n",
       "   Metadata_plate_ID Metadata_plate_filename Metadata_treatment  \\\n",
       "0             218360       20200626-WTpAE-Lo          0.1% DMSO   \n",
       "1             218360       20200626-WTpAE-Lo  2.1 nM bortezomib   \n",
       "2             218360       20200626-WTpAE-Lo   21 nM bortezomib   \n",
       "3             218360       20200626-WTpAE-Lo  210 nM bortezomib   \n",
       "4             218360       20200626-WTpAE-Lo          0.1% DMSO   \n",
       "\n",
       "  Metadata_treatment_time Metadata_cell_density  \n",
       "0                   13 hr   2.5x10^3 cells/well  \n",
       "1                   13 hr   2.5x10^3 cells/well  \n",
       "2                   13 hr   2.5x10^3 cells/well  \n",
       "3                   13 hr   2.5x10^3 cells/well  \n",
       "4                   13 hr   2.5x10^3 cells/well  "
      ]
     },
     "execution_count": 6,
     "metadata": {},
     "output_type": "execute_result"
    }
   ],
   "source": [
    "plate_map_name = (\n",
    "    barcode_plate_map_df\n",
    "    .query(\"Assay_Plate_Barcode == @plate\")\n",
    "    .Plate_Map_Name\n",
    "    .values[0]\n",
    ")\n",
    "\n",
    "plate_map_file = pathlib.Path(metadata_dir, \"platemap\", f\"{plate_map_name}.txt\")\n",
    "plate_map_df = pd.read_csv(plate_map_file, sep=\"\\t\")\n",
    "plate_map_df.columns = [x if x.startswith(\"Metadata_\") else f\"Metadata_{x}\" for x in plate_map_df.columns]\n",
    "plate_map_df.head()"
   ]
  },
  {
   "cell_type": "markdown",
   "metadata": {},
   "source": [
    "## Setup Single Cell Connection"
   ]
  },
  {
   "cell_type": "code",
   "execution_count": 7,
   "metadata": {},
   "outputs": [],
   "source": [
    "plate_column = pipeline[\"aggregate\"][\"plate_column\"]\n",
    "well_column = pipeline[\"aggregate\"][\"well_column\"]"
   ]
  },
  {
   "cell_type": "code",
   "execution_count": 8,
   "metadata": {},
   "outputs": [],
   "source": [
    "# Establish connection to sqlite file\n",
    "single_cell_sqlite = single_cell_files[batch][\"plates\"][plate]\n",
    "conn = sqlite3.connect(single_cell_sqlite)"
   ]
  },
  {
   "cell_type": "code",
   "execution_count": 9,
   "metadata": {},
   "outputs": [
    {
     "name": "stdout",
     "output_type": "stream",
     "text": [
      "(984, 11)\n"
     ]
    },
    {
     "data": {
      "text/html": [
       "<div>\n",
       "<style scoped>\n",
       "    .dataframe tbody tr th:only-of-type {\n",
       "        vertical-align: middle;\n",
       "    }\n",
       "\n",
       "    .dataframe tbody tr th {\n",
       "        vertical-align: top;\n",
       "    }\n",
       "\n",
       "    .dataframe thead th {\n",
       "        text-align: right;\n",
       "    }\n",
       "</style>\n",
       "<table border=\"1\" class=\"dataframe\">\n",
       "  <thead>\n",
       "    <tr style=\"text-align: right;\">\n",
       "      <th></th>\n",
       "      <th>TableNumber</th>\n",
       "      <th>ImageNumber</th>\n",
       "      <th>Metadata_Plate</th>\n",
       "      <th>Metadata_Well</th>\n",
       "      <th>Metadata_plate_map_name</th>\n",
       "      <th>Metadata_clone_number</th>\n",
       "      <th>Metadata_plate_ID</th>\n",
       "      <th>Metadata_plate_filename</th>\n",
       "      <th>Metadata_treatment</th>\n",
       "      <th>Metadata_treatment_time</th>\n",
       "      <th>Metadata_cell_density</th>\n",
       "    </tr>\n",
       "  </thead>\n",
       "  <tbody>\n",
       "    <tr>\n",
       "      <th>0</th>\n",
       "      <td>337567195667998632376188922851239700308</td>\n",
       "      <td>61</td>\n",
       "      <td>218360</td>\n",
       "      <td>B02</td>\n",
       "      <td>218360</td>\n",
       "      <td>WT parental</td>\n",
       "      <td>218360</td>\n",
       "      <td>20200626-WTpAE-Lo</td>\n",
       "      <td>0.1% DMSO</td>\n",
       "      <td>13 hr</td>\n",
       "      <td>2.5x10^3 cells/well</td>\n",
       "    </tr>\n",
       "    <tr>\n",
       "      <th>1</th>\n",
       "      <td>207799439167560665032536330184604846742</td>\n",
       "      <td>121</td>\n",
       "      <td>218360</td>\n",
       "      <td>B02</td>\n",
       "      <td>218360</td>\n",
       "      <td>WT parental</td>\n",
       "      <td>218360</td>\n",
       "      <td>20200626-WTpAE-Lo</td>\n",
       "      <td>0.1% DMSO</td>\n",
       "      <td>13 hr</td>\n",
       "      <td>2.5x10^3 cells/well</td>\n",
       "    </tr>\n",
       "    <tr>\n",
       "      <th>2</th>\n",
       "      <td>335293908648249163110744433032854670027</td>\n",
       "      <td>181</td>\n",
       "      <td>218360</td>\n",
       "      <td>B02</td>\n",
       "      <td>218360</td>\n",
       "      <td>WT parental</td>\n",
       "      <td>218360</td>\n",
       "      <td>20200626-WTpAE-Lo</td>\n",
       "      <td>0.1% DMSO</td>\n",
       "      <td>13 hr</td>\n",
       "      <td>2.5x10^3 cells/well</td>\n",
       "    </tr>\n",
       "    <tr>\n",
       "      <th>3</th>\n",
       "      <td>193238743777114473610479773238969539214</td>\n",
       "      <td>241</td>\n",
       "      <td>218360</td>\n",
       "      <td>B02</td>\n",
       "      <td>218360</td>\n",
       "      <td>WT parental</td>\n",
       "      <td>218360</td>\n",
       "      <td>20200626-WTpAE-Lo</td>\n",
       "      <td>0.1% DMSO</td>\n",
       "      <td>13 hr</td>\n",
       "      <td>2.5x10^3 cells/well</td>\n",
       "    </tr>\n",
       "    <tr>\n",
       "      <th>4</th>\n",
       "      <td>248707456829043659205101342022339991799</td>\n",
       "      <td>301</td>\n",
       "      <td>218360</td>\n",
       "      <td>B02</td>\n",
       "      <td>218360</td>\n",
       "      <td>WT parental</td>\n",
       "      <td>218360</td>\n",
       "      <td>20200626-WTpAE-Lo</td>\n",
       "      <td>0.1% DMSO</td>\n",
       "      <td>13 hr</td>\n",
       "      <td>2.5x10^3 cells/well</td>\n",
       "    </tr>\n",
       "  </tbody>\n",
       "</table>\n",
       "</div>"
      ],
      "text/plain": [
       "                               TableNumber  ImageNumber  Metadata_Plate  \\\n",
       "0  337567195667998632376188922851239700308           61          218360   \n",
       "1  207799439167560665032536330184604846742          121          218360   \n",
       "2  335293908648249163110744433032854670027          181          218360   \n",
       "3  193238743777114473610479773238969539214          241          218360   \n",
       "4  248707456829043659205101342022339991799          301          218360   \n",
       "\n",
       "  Metadata_Well  Metadata_plate_map_name Metadata_clone_number  \\\n",
       "0           B02                   218360           WT parental   \n",
       "1           B02                   218360           WT parental   \n",
       "2           B02                   218360           WT parental   \n",
       "3           B02                   218360           WT parental   \n",
       "4           B02                   218360           WT parental   \n",
       "\n",
       "   Metadata_plate_ID Metadata_plate_filename Metadata_treatment  \\\n",
       "0             218360       20200626-WTpAE-Lo          0.1% DMSO   \n",
       "1             218360       20200626-WTpAE-Lo          0.1% DMSO   \n",
       "2             218360       20200626-WTpAE-Lo          0.1% DMSO   \n",
       "3             218360       20200626-WTpAE-Lo          0.1% DMSO   \n",
       "4             218360       20200626-WTpAE-Lo          0.1% DMSO   \n",
       "\n",
       "  Metadata_treatment_time Metadata_cell_density  \n",
       "0                   13 hr   2.5x10^3 cells/well  \n",
       "1                   13 hr   2.5x10^3 cells/well  \n",
       "2                   13 hr   2.5x10^3 cells/well  \n",
       "3                   13 hr   2.5x10^3 cells/well  \n",
       "4                   13 hr   2.5x10^3 cells/well  "
      ]
     },
     "execution_count": 9,
     "metadata": {},
     "output_type": "execute_result"
    }
   ],
   "source": [
    "image_cols = f\"TableNumber, ImageNumber, {plate_column}, {well_column}\"\n",
    "image_query = f\"select {image_cols} from image\"\n",
    "image_df = (\n",
    "    pd.read_sql_query(image_query, conn)\n",
    "    .merge(\n",
    "        plate_map_df,\n",
    "        left_on=well_column,\n",
    "        right_on=\"Metadata_well_position\"\n",
    "    )\n",
    "    .drop([\"Metadata_well_position\"], axis=\"columns\")\n",
    ")\n",
    "\n",
    "print(image_df.shape)\n",
    "image_df.head()"
   ]
  },
  {
   "cell_type": "markdown",
   "metadata": {},
   "source": [
    "## Identify Representative Wells"
   ]
  },
  {
   "cell_type": "code",
   "execution_count": 10,
   "metadata": {},
   "outputs": [],
   "source": [
    "# Assert that image number is unique\n",
    "assert len(image_df.ImageNumber.unique()) == image_df.shape[0]"
   ]
  },
  {
   "cell_type": "code",
   "execution_count": 11,
   "metadata": {},
   "outputs": [
    {
     "data": {
      "text/html": [
       "<div>\n",
       "<style scoped>\n",
       "    .dataframe tbody tr th:only-of-type {\n",
       "        vertical-align: middle;\n",
       "    }\n",
       "\n",
       "    .dataframe tbody tr th {\n",
       "        vertical-align: top;\n",
       "    }\n",
       "\n",
       "    .dataframe thead th {\n",
       "        text-align: right;\n",
       "    }\n",
       "</style>\n",
       "<table border=\"1\" class=\"dataframe\">\n",
       "  <thead>\n",
       "    <tr style=\"text-align: right;\">\n",
       "      <th>Metadata_treatment</th>\n",
       "      <th>0.1% DMSO</th>\n",
       "      <th>2.1 nM bortezomib</th>\n",
       "      <th>21 nM bortezomib</th>\n",
       "      <th>210 nM bortezomib</th>\n",
       "    </tr>\n",
       "    <tr>\n",
       "      <th>Metadata_clone_number</th>\n",
       "      <th></th>\n",
       "      <th></th>\n",
       "      <th></th>\n",
       "      <th></th>\n",
       "    </tr>\n",
       "  </thead>\n",
       "  <tbody>\n",
       "    <tr>\n",
       "      <th>Clone A</th>\n",
       "      <td>5</td>\n",
       "      <td>5</td>\n",
       "      <td>5</td>\n",
       "      <td>5</td>\n",
       "    </tr>\n",
       "    <tr>\n",
       "      <th>Clone E</th>\n",
       "      <td>5</td>\n",
       "      <td>5</td>\n",
       "      <td>5</td>\n",
       "      <td>5</td>\n",
       "    </tr>\n",
       "    <tr>\n",
       "      <th>WT parental</th>\n",
       "      <td>5</td>\n",
       "      <td>5</td>\n",
       "      <td>5</td>\n",
       "      <td>5</td>\n",
       "    </tr>\n",
       "  </tbody>\n",
       "</table>\n",
       "</div>"
      ],
      "text/plain": [
       "Metadata_treatment     0.1% DMSO  2.1 nM bortezomib  21 nM bortezomib  \\\n",
       "Metadata_clone_number                                                   \n",
       "Clone A                        5                  5                 5   \n",
       "Clone E                        5                  5                 5   \n",
       "WT parental                    5                  5                 5   \n",
       "\n",
       "Metadata_treatment     210 nM bortezomib  \n",
       "Metadata_clone_number                     \n",
       "Clone A                                5  \n",
       "Clone E                                5  \n",
       "WT parental                            5  "
      ]
     },
     "execution_count": 11,
     "metadata": {},
     "output_type": "execute_result"
    }
   ],
   "source": [
    "# How many wells were collected per treatment\n",
    "replicate_info_df = (\n",
    "    image_df.loc[:, [\"Metadata_Well\", cell_line_column, \"Metadata_treatment\"]]\n",
    "    .drop_duplicates()\n",
    ")\n",
    "\n",
    "pd.crosstab(replicate_info_df.loc[:, cell_line_column], replicate_info_df.Metadata_treatment)"
   ]
  },
  {
   "cell_type": "markdown",
   "metadata": {},
   "source": [
    "## Identify wells to use for training and holdout sets\n",
    "\n",
    "There are three wells per replicate cell line and treatment.\n",
    "We will select two at random to use in training and use the remaining one as a holdout set."
   ]
  },
  {
   "cell_type": "code",
   "execution_count": 12,
   "metadata": {},
   "outputs": [],
   "source": [
    "untreated_wells = []\n",
    "imagenumber_dict = {}\n",
    "for cell_line in cell_lines:\n",
    "    imagenumber_dict[cell_line] = {}\n",
    "    wells = (\n",
    "        image_df\n",
    "        .query(f\"{cell_line_column} == @cell_line\")\n",
    "        .query(\"Metadata_treatment == '0.1% DMSO'\")\n",
    "    ).Metadata_Well.unique()\n",
    "    \n",
    "    train_wells = pd.np.random.choice(wells, size=3, replace=False)\n",
    "    holdout_wells = [x for x in wells if x not in train_wells]\n",
    "\n",
    "    untreated_wells.extend(train_wells)\n",
    "    untreated_wells.extend(holdout_wells)\n",
    "    \n",
    "    imagenumber_dict[cell_line][\"train\"] = (\n",
    "        image_df\n",
    "        .query(\"Metadata_Well in @train_wells\")\n",
    "        .ImageNumber\n",
    "        .tolist()\n",
    "    )\n",
    "    imagenumber_dict[cell_line][\"holdout\"] = (\n",
    "        image_df\n",
    "        .query(\"Metadata_Well in @holdout_wells\")\n",
    "        .ImageNumber\n",
    "        .tolist()\n",
    "    )"
   ]
  },
  {
   "cell_type": "code",
   "execution_count": 13,
   "metadata": {},
   "outputs": [],
   "source": [
    "other_wells = [x for x in image_df.Metadata_Well.unique() if x not in untreated_wells]\n",
    "\n",
    "for cell_line in cell_lines:\n",
    "    imagenumber_dict[cell_line][\"other\"] = (\n",
    "        image_df\n",
    "        .query(\"Metadata_clone_number == @cell_line\")\n",
    "        .query(\"Metadata_Well in @other_wells\")\n",
    "        .ImageNumber\n",
    "        .tolist()\n",
    "    )"
   ]
  },
  {
   "cell_type": "markdown",
   "metadata": {},
   "source": [
    "## Load Single Cell Data"
   ]
  },
  {
   "cell_type": "code",
   "execution_count": 14,
   "metadata": {},
   "outputs": [
    {
     "name": "stdout",
     "output_type": "stream",
     "text": [
      "Now loading... Clone A, train\n",
      "Now loading... Clone A, holdout\n",
      "Now loading... Clone A, other\n",
      "Now loading... Clone E, train\n",
      "Now loading... Clone E, holdout\n",
      "Now loading... Clone E, other\n",
      "Now loading... WT parental, train\n",
      "Now loading... WT parental, holdout\n",
      "Now loading... WT parental, other\n"
     ]
    }
   ],
   "source": [
    "training_dict_df = {}\n",
    "holdout_dict_df = {}\n",
    "other_dict_df = {}\n",
    "for clone_type, clone_info_dict in imagenumber_dict.items():\n",
    "    for data_split, clone_imagenumbers in clone_info_dict.items():\n",
    "        print(f\"Now loading... {clone_type}, {data_split}\")\n",
    "        sc_df = process_sites(\n",
    "            connection=conn,\n",
    "            imagenumbers=clone_imagenumbers,\n",
    "            image_df=image_df,\n",
    "            feature_filter=feature_filter,\n",
    "            seed=seed,\n",
    "            normalize=False\n",
    "        )\n",
    "        if data_split == \"holdout\":\n",
    "            holdout_dict_df[clone_type] = sc_df.reset_index(drop=True)\n",
    "        elif data_split == \"train\":\n",
    "            training_dict_df[clone_type] = sc_df.reset_index(drop=True)\n",
    "        elif data_split == \"other\":\n",
    "            other_dict_df[clone_type] = sc_df.reset_index(drop=True)"
   ]
  },
  {
   "cell_type": "markdown",
   "metadata": {},
   "source": [
    "## Normalize, split, and shuffle row order"
   ]
  },
  {
   "cell_type": "code",
   "execution_count": 15,
   "metadata": {},
   "outputs": [
    {
     "name": "stderr",
     "output_type": "stream",
     "text": [
      "/Users/gway/miniconda3/envs/resistance-mechanisms/lib/python3.7/site-packages/sklearn/preprocessing/data.py:645: DataConversionWarning: Data with input dtype int64, float64 were all converted to float64 by StandardScaler.\n",
      "  return self.partial_fit(X, y)\n",
      "/Users/gway/miniconda3/envs/resistance-mechanisms/lib/python3.7/site-packages/sklearn/base.py:464: DataConversionWarning: Data with input dtype int64, float64 were all converted to float64 by StandardScaler.\n",
      "  return self.fit(X, **fit_params).transform(X)\n"
     ]
    },
    {
     "name": "stdout",
     "output_type": "stream",
     "text": [
      "(12608, 3426)\n",
      "(2225, 3426)\n"
     ]
    }
   ],
   "source": [
    "# Training and testing sets\n",
    "train_df = pd.concat(training_dict_df).sample(frac=1).reset_index(drop=True)\n",
    "train_df = normalize_sc(train_df, scaler_method=scaler_method)\n",
    "\n",
    "train_df, test_df = train_test_split(\n",
    "    train_df,\n",
    "    test_size=test_split_prop,\n",
    "    stratify=train_df.Metadata_clone_number,\n",
    "    random_state=seed\n",
    ")\n",
    "\n",
    "print(train_df.shape)\n",
    "print(test_df.shape)"
   ]
  },
  {
   "cell_type": "code",
   "execution_count": 16,
   "metadata": {},
   "outputs": [
    {
     "name": "stderr",
     "output_type": "stream",
     "text": [
      "/Users/gway/miniconda3/envs/resistance-mechanisms/lib/python3.7/site-packages/sklearn/preprocessing/data.py:645: DataConversionWarning: Data with input dtype int64, float64 were all converted to float64 by StandardScaler.\n",
      "  return self.partial_fit(X, y)\n",
      "/Users/gway/miniconda3/envs/resistance-mechanisms/lib/python3.7/site-packages/sklearn/base.py:464: DataConversionWarning: Data with input dtype int64, float64 were all converted to float64 by StandardScaler.\n",
      "  return self.fit(X, **fit_params).transform(X)\n"
     ]
    },
    {
     "name": "stdout",
     "output_type": "stream",
     "text": [
      "(9559, 3426)\n"
     ]
    }
   ],
   "source": [
    "# Holdout set\n",
    "holdout_df = pd.concat(holdout_dict_df).sample(frac=1).reset_index(drop=True)\n",
    "holdout_df = normalize_sc(holdout_df, scaler_method=scaler_method)\n",
    "\n",
    "print(holdout_df.shape)"
   ]
  },
  {
   "cell_type": "code",
   "execution_count": 17,
   "metadata": {},
   "outputs": [
    {
     "name": "stderr",
     "output_type": "stream",
     "text": [
      "/Users/gway/miniconda3/envs/resistance-mechanisms/lib/python3.7/site-packages/sklearn/preprocessing/data.py:645: DataConversionWarning: Data with input dtype int64, float64, object were all converted to float64 by StandardScaler.\n",
      "  return self.partial_fit(X, y)\n",
      "/Users/gway/miniconda3/envs/resistance-mechanisms/lib/python3.7/site-packages/sklearn/base.py:464: DataConversionWarning: Data with input dtype int64, float64, object were all converted to float64 by StandardScaler.\n",
      "  return self.fit(X, **fit_params).transform(X)\n"
     ]
    },
    {
     "name": "stdout",
     "output_type": "stream",
     "text": [
      "(44717, 3426)\n"
     ]
    }
   ],
   "source": [
    "# Other data\n",
    "other_df = pd.concat(other_dict_df).sample(frac=1).reset_index(drop=True)\n",
    "other_df = normalize_sc(other_df, scaler_method=scaler_method)\n",
    "\n",
    "print(other_df.shape)"
   ]
  },
  {
   "cell_type": "markdown",
   "metadata": {},
   "source": [
    "## Apply Feature Selection"
   ]
  },
  {
   "cell_type": "code",
   "execution_count": 18,
   "metadata": {},
   "outputs": [
    {
     "data": {
      "text/plain": [
       "['Metadata_TableNumber',\n",
       " 'Metadata_ImageNumber',\n",
       " 'Metadata_Plate',\n",
       " 'Metadata_Well',\n",
       " 'Metadata_plate_map_name',\n",
       " 'Metadata_clone_number',\n",
       " 'Metadata_plate_ID',\n",
       " 'Metadata_plate_filename',\n",
       " 'Metadata_treatment',\n",
       " 'Metadata_treatment_time',\n",
       " 'Metadata_cell_density']"
      ]
     },
     "execution_count": 18,
     "metadata": {},
     "output_type": "execute_result"
    }
   ],
   "source": [
    "meta_features = infer_cp_features(train_df, metadata=True)\n",
    "meta_features"
   ]
  },
  {
   "cell_type": "code",
   "execution_count": 19,
   "metadata": {},
   "outputs": [],
   "source": [
    "train_df = feature_select(\n",
    "    train_df,\n",
    "    operation=feature_select_opts,\n",
    "    na_cutoff=na_cutoff,\n",
    "    corr_threshold=corr_threshold\n",
    ")\n",
    "\n",
    "selected_features = infer_cp_features(train_df)\n",
    "reindex_features = meta_features + selected_features\n",
    "\n",
    "test_df = test_df.reindex(reindex_features, axis=\"columns\")\n",
    "train_df = train_df.reindex(reindex_features, axis=\"columns\")\n",
    "holdout_df = holdout_df.reindex(reindex_features, axis=\"columns\")\n",
    "other_df = other_df.reindex(reindex_features, axis=\"columns\")"
   ]
  },
  {
   "cell_type": "code",
   "execution_count": 20,
   "metadata": {},
   "outputs": [
    {
     "name": "stdout",
     "output_type": "stream",
     "text": [
      "(12608, 1965)\n",
      "(2225, 1965)\n",
      "(9559, 1965)\n",
      "(44717, 1965)\n"
     ]
    }
   ],
   "source": [
    "# Shapes after feature selection\n",
    "print(train_df.shape)\n",
    "print(test_df.shape)\n",
    "print(holdout_df.shape)\n",
    "print(other_df.shape)"
   ]
  },
  {
   "cell_type": "markdown",
   "metadata": {},
   "source": [
    "## Output Files"
   ]
  },
  {
   "cell_type": "code",
   "execution_count": 21,
   "metadata": {},
   "outputs": [],
   "source": [
    "out_file = pathlib.Path(\"data\", \"single_cell_train.tsv.gz\")\n",
    "train_df.to_csv(out_file, sep=\"\\t\", compression=\"gzip\", index=False)\n",
    "\n",
    "out_file = pathlib.Path(\"data\", \"single_cell_test.tsv.gz\")\n",
    "test_df.to_csv(out_file, sep=\"\\t\", compression=\"gzip\", index=False)\n",
    "\n",
    "out_file = pathlib.Path(\"data\", \"single_cell_holdout.tsv.gz\")\n",
    "holdout_df.to_csv(out_file, sep=\"\\t\", compression=\"gzip\", index=False)\n",
    "\n",
    "out_file = pathlib.Path(\"data\", \"single_cell_othertreatment.tsv.gz\")\n",
    "other_df.to_csv(out_file, sep=\"\\t\", compression=\"gzip\", index=False)"
   ]
  }
 ],
 "metadata": {
  "kernelspec": {
   "display_name": "Python 3",
   "language": "python",
   "name": "python3"
  },
  "language_info": {
   "codemirror_mode": {
    "name": "ipython",
    "version": 3
   },
   "file_extension": ".py",
   "mimetype": "text/x-python",
   "name": "python",
   "nbconvert_exporter": "python",
   "pygments_lexer": "ipython3",
   "version": "3.7.1"
  }
 },
 "nbformat": 4,
 "nbformat_minor": 4
}
