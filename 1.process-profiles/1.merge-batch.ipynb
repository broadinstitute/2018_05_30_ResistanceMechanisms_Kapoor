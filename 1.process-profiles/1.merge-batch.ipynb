{
 "cells": [
  {
   "cell_type": "markdown",
   "metadata": {},
   "source": [
    "# Merge Batched Data\n",
    "\n",
    "**Gregory Way, 2019**\n",
    "\n",
    "Currently, the data were collected in two batches.\n",
    "In this notebook, I merge the batches together and output `.csv` and `.gct` files."
   ]
  },
  {
   "cell_type": "code",
   "execution_count": 1,
   "metadata": {},
   "outputs": [],
   "source": [
    "suppressPackageStartupMessages(library(dplyr))\n",
    "suppressPackageStartupMessages(library(magrittr))"
   ]
  },
  {
   "cell_type": "code",
   "execution_count": 2,
   "metadata": {},
   "outputs": [],
   "source": [
    "util_file <- file.path(\"scripts\", \"processing_utils.R\")\n",
    "source(util_file)"
   ]
  },
  {
   "cell_type": "markdown",
   "metadata": {},
   "source": [
    "## Load, Merge, and Output Batch 1 and Batch 2 Data\n",
    "\n",
    "### Load Batch 1"
   ]
  },
  {
   "cell_type": "code",
   "execution_count": 3,
   "metadata": {},
   "outputs": [
    {
     "name": "stdout",
     "output_type": "stream",
     "text": [
      "[1]  36 129\n"
     ]
    },
    {
     "data": {
      "text/html": [
       "<table>\n",
       "<caption>A tibble: 2 × 129</caption>\n",
       "<thead>\n",
       "\t<tr><th scope=col>Metadata_Plate</th><th scope=col>Metadata_Well</th><th scope=col>Metadata_Assay_Plate_Barcode</th><th scope=col>Metadata_Plate_Map_Name</th><th scope=col>Metadata_Batch_Number</th><th scope=col>Metadata_well_position</th><th scope=col>Metadata_CellLine</th><th scope=col>Metadata_Dosage</th><th scope=col>Cells_AreaShape_Eccentricity</th><th scope=col>Cells_AreaShape_EulerNumber</th><th scope=col>⋯</th><th scope=col>Nuclei_RadialDistribution_RadialCV_ER_1of4</th><th scope=col>Nuclei_RadialDistribution_RadialCV_Mito_1of4</th><th scope=col>Nuclei_RadialDistribution_RadialCV_Mito_2of4</th><th scope=col>Nuclei_RadialDistribution_RadialCV_RNA_1of4</th><th scope=col>Nuclei_Texture_Correlation_AGP_20_00</th><th scope=col>Nuclei_Texture_Correlation_DNA_10_02</th><th scope=col>Nuclei_Texture_Correlation_DNA_10_03</th><th scope=col>Nuclei_Texture_Correlation_ER_20_03</th><th scope=col>Nuclei_Texture_Correlation_RNA_10_01</th><th scope=col>Nuclei_Texture_Correlation_RNA_10_03</th></tr>\n",
       "\t<tr><th scope=col>&lt;chr&gt;</th><th scope=col>&lt;chr&gt;</th><th scope=col>&lt;chr&gt;</th><th scope=col>&lt;chr&gt;</th><th scope=col>&lt;int&gt;</th><th scope=col>&lt;chr&gt;</th><th scope=col>&lt;chr&gt;</th><th scope=col>&lt;dbl&gt;</th><th scope=col>&lt;dbl&gt;</th><th scope=col>&lt;dbl&gt;</th><th scope=col>⋯</th><th scope=col>&lt;dbl&gt;</th><th scope=col>&lt;dbl&gt;</th><th scope=col>&lt;dbl&gt;</th><th scope=col>&lt;dbl&gt;</th><th scope=col>&lt;dbl&gt;</th><th scope=col>&lt;dbl&gt;</th><th scope=col>&lt;dbl&gt;</th><th scope=col>&lt;dbl&gt;</th><th scope=col>&lt;dbl&gt;</th><th scope=col>&lt;dbl&gt;</th></tr>\n",
       "</thead>\n",
       "<tbody>\n",
       "\t<tr><td>HCT116bortezomib</td><td>B03</td><td>HCT116bortezomib</td><td>PlateMap_HCT116bortezomib</td><td>1</td><td>B03</td><td>WT</td><td>0</td><td>-0.5389166</td><td>0.09930445</td><td>⋯</td><td>-0.5634461</td><td>-0.3636316</td><td>-0.5166978</td><td>-1.585785</td><td>-0.9298670</td><td>-0.2607355</td><td>0.7951588</td><td>0.7664410</td><td>-1.4335590</td><td>-1.081219</td></tr>\n",
       "\t<tr><td>HCT116bortezomib</td><td>B04</td><td>HCT116bortezomib</td><td>PlateMap_HCT116bortezomib</td><td>1</td><td>B04</td><td>WT</td><td>0</td><td>-0.4322740</td><td>0.10426880</td><td>⋯</td><td>-0.7727316</td><td>-0.2259001</td><td>-0.5198452</td><td>-1.190355</td><td>-0.1833654</td><td>-0.1233108</td><td>0.8626262</td><td>0.3892313</td><td>-0.5505529</td><td>-0.514341</td></tr>\n",
       "</tbody>\n",
       "</table>\n"
      ],
      "text/latex": [
       "A tibble: 2 × 129\n",
       "\\begin{tabular}{r|lllllllllllllllllllllllllllllllllllllllllllllllllllllllllllllllllllllllllllllllllllllllllllllllllllllllllllllllllllllllllllllllll}\n",
       " Metadata\\_Plate & Metadata\\_Well & Metadata\\_Assay\\_Plate\\_Barcode & Metadata\\_Plate\\_Map\\_Name & Metadata\\_Batch\\_Number & Metadata\\_well\\_position & Metadata\\_CellLine & Metadata\\_Dosage & Cells\\_AreaShape\\_Eccentricity & Cells\\_AreaShape\\_EulerNumber & Cells\\_AreaShape\\_Extent & Cells\\_AreaShape\\_Orientation & Cells\\_AreaShape\\_Solidity & Cells\\_AreaShape\\_Zernike\\_2\\_0 & Cells\\_AreaShape\\_Zernike\\_2\\_2 & Cells\\_AreaShape\\_Zernike\\_3\\_1 & Cells\\_AreaShape\\_Zernike\\_4\\_2 & Cells\\_AreaShape\\_Zernike\\_4\\_4 & Cells\\_AreaShape\\_Zernike\\_6\\_2 & Cells\\_AreaShape\\_Zernike\\_6\\_4 & Cells\\_AreaShape\\_Zernike\\_6\\_6 & Cells\\_AreaShape\\_Zernike\\_7\\_1 & Cells\\_AreaShape\\_Zernike\\_7\\_3 & Cells\\_AreaShape\\_Zernike\\_8\\_2 & Cells\\_AreaShape\\_Zernike\\_8\\_4 & Cells\\_AreaShape\\_Zernike\\_8\\_8 & Cells\\_AreaShape\\_Zernike\\_9\\_1 & Cells\\_AreaShape\\_Zernike\\_9\\_3 & Cells\\_AreaShape\\_Zernike\\_9\\_5 & Cells\\_Correlation\\_K\\_AGP\\_RNA & Cells\\_Correlation\\_Overlap\\_DNA\\_Mito & Cells\\_Correlation\\_Overlap\\_Mito\\_AGP & Cells\\_Granularity\\_2\\_AGP & Cells\\_Intensity\\_IntegratedIntensityEdge\\_AGP & Cells\\_Intensity\\_IntegratedIntensityEdge\\_DNA & Cells\\_Intensity\\_IntegratedIntensityEdge\\_ER & Cells\\_Intensity\\_IntegratedIntensityEdge\\_RNA & Cells\\_Intensity\\_IntegratedIntensity\\_DNA & Cells\\_Intensity\\_IntegratedIntensity\\_ER & Cells\\_Location\\_MaxIntensity\\_X\\_DNA & Cells\\_RadialDistribution\\_RadialCV\\_AGP\\_1of4 & Cells\\_RadialDistribution\\_RadialCV\\_Mito\\_1of4 & Cytoplasm\\_AreaShape\\_EulerNumber & Cytoplasm\\_AreaShape\\_Orientation & Cytoplasm\\_AreaShape\\_Zernike\\_1\\_1 & Cytoplasm\\_AreaShape\\_Zernike\\_3\\_1 & Cytoplasm\\_AreaShape\\_Zernike\\_3\\_3 & Cytoplasm\\_AreaShape\\_Zernike\\_4\\_0 & Cytoplasm\\_AreaShape\\_Zernike\\_4\\_4 & Cytoplasm\\_AreaShape\\_Zernike\\_5\\_3 & Cytoplasm\\_AreaShape\\_Zernike\\_5\\_5 & Cytoplasm\\_AreaShape\\_Zernike\\_6\\_6 & Cytoplasm\\_AreaShape\\_Zernike\\_8\\_4 & Cytoplasm\\_AreaShape\\_Zernike\\_8\\_6 & Cytoplasm\\_AreaShape\\_Zernike\\_8\\_8 & Cytoplasm\\_AreaShape\\_Zernike\\_9\\_5 & Cytoplasm\\_Correlation\\_Costes\\_AGP\\_RNA & Cytoplasm\\_Correlation\\_Costes\\_RNA\\_AGP & Cytoplasm\\_Correlation\\_K\\_AGP\\_DNA & Cytoplasm\\_Correlation\\_K\\_ER\\_DNA & Cytoplasm\\_Correlation\\_K\\_ER\\_RNA & Cytoplasm\\_Correlation\\_K\\_RNA\\_DNA & Cytoplasm\\_Granularity\\_2\\_AGP & Cytoplasm\\_Granularity\\_2\\_ER & Cytoplasm\\_Granularity\\_2\\_Mito & Cytoplasm\\_Granularity\\_2\\_RNA & Cytoplasm\\_Granularity\\_3\\_AGP & Cytoplasm\\_Granularity\\_3\\_RNA & Cytoplasm\\_Intensity\\_IntegratedIntensity\\_DNA & Cytoplasm\\_Intensity\\_IntegratedIntensity\\_ER & Cytoplasm\\_Intensity\\_IntegratedIntensity\\_Mito & Cytoplasm\\_Intensity\\_IntegratedIntensity\\_RNA & Cytoplasm\\_RadialDistribution\\_FracAtD\\_AGP\\_4of4 & Cytoplasm\\_RadialDistribution\\_FracAtD\\_ER\\_1of4 & Cytoplasm\\_RadialDistribution\\_MeanFrac\\_AGP\\_3of4 & Cytoplasm\\_RadialDistribution\\_MeanFrac\\_DNA\\_1of4 & Cytoplasm\\_RadialDistribution\\_MeanFrac\\_DNA\\_3of4 & Cytoplasm\\_RadialDistribution\\_MeanFrac\\_DNA\\_4of4 & Cytoplasm\\_RadialDistribution\\_MeanFrac\\_ER\\_4of4 & Cytoplasm\\_RadialDistribution\\_MeanFrac\\_Mito\\_2of4 & Cytoplasm\\_RadialDistribution\\_MeanFrac\\_RNA\\_1of4 & Cytoplasm\\_Texture\\_Correlation\\_AGP\\_10\\_00 & Cytoplasm\\_Texture\\_InfoMeas1\\_DNA\\_10\\_00 & Nuclei\\_AreaShape\\_Area & Nuclei\\_AreaShape\\_EulerNumber & Nuclei\\_AreaShape\\_MaxFeretDiameter & Nuclei\\_AreaShape\\_Orientation & Nuclei\\_AreaShape\\_Zernike\\_3\\_1 & Nuclei\\_AreaShape\\_Zernike\\_6\\_2 & Nuclei\\_AreaShape\\_Zernike\\_6\\_4 & Nuclei\\_AreaShape\\_Zernike\\_8\\_0 & Nuclei\\_AreaShape\\_Zernike\\_8\\_6 & Nuclei\\_Correlation\\_Correlation\\_DNA\\_ER & Nuclei\\_Correlation\\_Correlation\\_ER\\_AGP & Nuclei\\_Correlation\\_Correlation\\_ER\\_RNA & Nuclei\\_Correlation\\_Correlation\\_Mito\\_RNA & Nuclei\\_Correlation\\_Correlation\\_RNA\\_AGP & Nuclei\\_Correlation\\_K\\_DNA\\_RNA & Nuclei\\_Correlation\\_K\\_ER\\_AGP & Nuclei\\_Correlation\\_K\\_ER\\_DNA & Nuclei\\_Correlation\\_Overlap\\_Mito\\_AGP & Nuclei\\_Granularity\\_10\\_DNA & Nuclei\\_Granularity\\_11\\_DNA & Nuclei\\_Granularity\\_12\\_DNA & Nuclei\\_Granularity\\_13\\_DNA & Nuclei\\_Granularity\\_2\\_DNA & Nuclei\\_Granularity\\_6\\_DNA & Nuclei\\_Granularity\\_7\\_DNA & Nuclei\\_Granularity\\_8\\_DNA & Nuclei\\_Granularity\\_9\\_DNA & Nuclei\\_Intensity\\_MassDisplacement\\_AGP & Nuclei\\_Location\\_MaxIntensity\\_Y\\_RNA & Nuclei\\_RadialDistribution\\_MeanFrac\\_AGP\\_1of4 & Nuclei\\_RadialDistribution\\_MeanFrac\\_DNA\\_3of4 & Nuclei\\_RadialDistribution\\_MeanFrac\\_ER\\_2of4 & Nuclei\\_RadialDistribution\\_MeanFrac\\_ER\\_4of4 & Nuclei\\_RadialDistribution\\_MeanFrac\\_Mito\\_1of4 & Nuclei\\_RadialDistribution\\_RadialCV\\_AGP\\_1of4 & Nuclei\\_RadialDistribution\\_RadialCV\\_AGP\\_2of4 & Nuclei\\_RadialDistribution\\_RadialCV\\_ER\\_1of4 & Nuclei\\_RadialDistribution\\_RadialCV\\_Mito\\_1of4 & Nuclei\\_RadialDistribution\\_RadialCV\\_Mito\\_2of4 & Nuclei\\_RadialDistribution\\_RadialCV\\_RNA\\_1of4 & Nuclei\\_Texture\\_Correlation\\_AGP\\_20\\_00 & Nuclei\\_Texture\\_Correlation\\_DNA\\_10\\_02 & Nuclei\\_Texture\\_Correlation\\_DNA\\_10\\_03 & Nuclei\\_Texture\\_Correlation\\_ER\\_20\\_03 & Nuclei\\_Texture\\_Correlation\\_RNA\\_10\\_01 & Nuclei\\_Texture\\_Correlation\\_RNA\\_10\\_03\\\\\n",
       " <chr> & <chr> & <chr> & <chr> & <int> & <chr> & <chr> & <dbl> & <dbl> & <dbl> & <dbl> & <dbl> & <dbl> & <dbl> & <dbl> & <dbl> & <dbl> & <dbl> & <dbl> & <dbl> & <dbl> & <dbl> & <dbl> & <dbl> & <dbl> & <dbl> & <dbl> & <dbl> & <dbl> & <dbl> & <dbl> & <dbl> & <dbl> & <dbl> & <dbl> & <dbl> & <dbl> & <dbl> & <dbl> & <dbl> & <dbl> & <dbl> & <dbl> & <dbl> & <dbl> & <dbl> & <dbl> & <dbl> & <dbl> & <dbl> & <dbl> & <dbl> & <dbl> & <dbl> & <dbl> & <dbl> & <dbl> & <dbl> & <dbl> & <dbl> & <dbl> & <dbl> & <dbl> & <dbl> & <dbl> & <dbl> & <dbl> & <dbl> & <dbl> & <dbl> & <dbl> & <dbl> & <dbl> & <dbl> & <dbl> & <dbl> & <dbl> & <dbl> & <dbl> & <dbl> & <dbl> & <dbl> & <dbl> & <dbl> & <dbl> & <dbl> & <dbl> & <dbl> & <dbl> & <dbl> & <dbl> & <dbl> & <dbl> & <dbl> & <dbl> & <dbl> & <dbl> & <dbl> & <dbl> & <dbl> & <dbl> & <dbl> & <dbl> & <dbl> & <dbl> & <dbl> & <dbl> & <dbl> & <dbl> & <dbl> & <dbl> & <dbl> & <dbl> & <dbl> & <dbl> & <dbl> & <dbl> & <dbl> & <dbl> & <dbl> & <dbl> & <dbl> & <dbl> & <dbl> & <dbl> & <dbl> & <dbl> & <dbl> & <dbl>\\\\\n",
       "\\hline\n",
       "\t HCT116bortezomib & B03 & HCT116bortezomib & PlateMap\\_HCT116bortezomib & 1 & B03 & WT & 0 & -0.5389166 & 0.09930445 & 0.9952387 & 0.8572766 & -0.37939767 & -0.3858899 & 2.039705 & -1.0592738 & -0.3569828 & 2.156543 &  0.3437551 &  0.08183244 & 2.006873 & -1.2508900 & 1.3489714 & -0.4637553 & 0.7083776 & 1.992904 & -1.229625 &  0.004402295 & 1.400086 & 1.576981 &  0.02789908 & 1.093684 & -0.5407457 & -0.7139271 & -0.007793534 & 1.382509 & 0.4656049 & -1.3501055 & -0.8933759 & -0.2295831 & -0.9740519 & -1.147368 & -0.3426574 & 1.1087793 & -1.376998 & -1.425115 & 0.1145040 & -1.1839385 & -2.703663 & 0.5951444 & 0.8951471 & -3.19036 & -0.7651375 & -1.598952 & -2.189549 & 0.37815757 & -0.4792797 & -4.3949017 & -0.09213795 & -1.6875875 & -1.1705365 & -0.8290821 &  0.13885303 & 0.742532 & -0.3887820 & 1.2589972 & -0.846653 & -0.238344 & -1.6955131 & -1.2447109 & 1.468824 & -1.620335 & 0.06369755 & 0.6277245 & 0.7395829 & -0.7105239 & 0.5456176 & -0.13359815 & -0.7084448 & 0.9270419 & 1.0180956 & -1.3623378 &  0.6874500 & -0.6832037 & -2.935455 & 0.11162441 & 1.310405 & 1.623850 & -0.13173838 & 1.0761493 & -1.3108507 & 0.7778705 & -1.2170160 & -0.46850220 & -0.4288306 &  0.06916144 & -1.159059 & 2.215286 & -1.917014 & -2.731198 & 0.4258939 & 0.7810906 & 1.0927643 & 0.134064 & 3.4402391 & -0.3293202 & -1.872864 & -1.689497 & -0.4702435 & 1.12160622 & -1.468298 &  0.3762593 & -1.2577678 & -1.261900 & -1.6144035 & 0.68222571 & -1.759055 & -0.6805356 & -0.6446004 & -0.5634461 & -0.3636316 & -0.5166978 & -1.585785 & -0.9298670 & -0.2607355 & 0.7951588 & 0.7664410 & -1.4335590 & -1.081219\\\\\n",
       "\t HCT116bortezomib & B04 & HCT116bortezomib & PlateMap\\_HCT116bortezomib & 1 & B04 & WT & 0 & -0.4322740 & 0.10426880 & 0.9965094 & 0.6864911 & -0.02329196 &  0.5024000 & 1.902776 & -0.9271252 & -0.1525375 & 1.521494 & -0.4281963 & -0.61502764 & 1.894046 & -0.5754145 & 0.4172523 & -0.6516111 & 1.2213923 & 1.636981 & -1.107337 & -0.735721490 & 0.628982 & 2.138042 & -0.14702999 & 1.023089 & -0.6760590 &  0.8414871 &  1.413040726 & 1.974075 & 2.1688922 & -0.6210106 & -0.4724599 & -0.4216303 & -0.9271509 & -1.030689 & -0.4555225 & 0.8103332 & -1.257440 & -1.160199 & 0.2003882 & -0.7395203 & -1.667205 & 0.4193885 & 0.9322402 & -1.84176 & -0.5530241 & -1.559837 & -1.406278 & 0.01740894 &  0.7003297 &  0.6424352 &  0.53862417 & -0.2156972 &  0.2167636 & -0.4528258 & -0.09524842 & 0.128715 & -0.4476268 & 0.8502853 & -1.198210 & -0.622497 & -0.8762988 & -0.8541736 & 1.583586 & -0.883158 & 0.29060896 & 0.3209162 & 0.0337845 & -0.8221988 & 0.3418638 &  0.04347663 & -0.1385475 & 0.3839262 & 0.3388036 & -0.7964735 & -0.4250467 & -0.4127629 & -1.913042 & 0.07311268 & 1.667484 & 1.003187 & -0.08765338 & 0.7957497 & -0.6692377 & 0.6695941 & -0.8727126 & -0.06910313 & -0.2974146 & -0.06888757 & -1.144981 & 1.413343 & -1.265067 & -1.569875 & 0.5062745 & 1.1136005 & 0.7154542 & 1.134487 & 0.2342991 & -0.5641222 & -1.509162 & -1.712910 & -0.2488616 & 0.03721792 & -1.317117 & -0.5443365 & -0.8770084 & -1.087857 & -0.6762489 & 0.08906448 & -1.413942 & -0.4879558 & -0.6747323 & -0.7727316 & -0.2259001 & -0.5198452 & -1.190355 & -0.1833654 & -0.1233108 & 0.8626262 & 0.3892313 & -0.5505529 & -0.514341\\\\\n",
       "\\end{tabular}\n"
      ],
      "text/markdown": [
       "\n",
       "A tibble: 2 × 129\n",
       "\n",
       "| Metadata_Plate &lt;chr&gt; | Metadata_Well &lt;chr&gt; | Metadata_Assay_Plate_Barcode &lt;chr&gt; | Metadata_Plate_Map_Name &lt;chr&gt; | Metadata_Batch_Number &lt;int&gt; | Metadata_well_position &lt;chr&gt; | Metadata_CellLine &lt;chr&gt; | Metadata_Dosage &lt;dbl&gt; | Cells_AreaShape_Eccentricity &lt;dbl&gt; | Cells_AreaShape_EulerNumber &lt;dbl&gt; | ⋯ ⋯ | Nuclei_RadialDistribution_RadialCV_ER_1of4 &lt;dbl&gt; | Nuclei_RadialDistribution_RadialCV_Mito_1of4 &lt;dbl&gt; | Nuclei_RadialDistribution_RadialCV_Mito_2of4 &lt;dbl&gt; | Nuclei_RadialDistribution_RadialCV_RNA_1of4 &lt;dbl&gt; | Nuclei_Texture_Correlation_AGP_20_00 &lt;dbl&gt; | Nuclei_Texture_Correlation_DNA_10_02 &lt;dbl&gt; | Nuclei_Texture_Correlation_DNA_10_03 &lt;dbl&gt; | Nuclei_Texture_Correlation_ER_20_03 &lt;dbl&gt; | Nuclei_Texture_Correlation_RNA_10_01 &lt;dbl&gt; | Nuclei_Texture_Correlation_RNA_10_03 &lt;dbl&gt; |\n",
       "|---|---|---|---|---|---|---|---|---|---|---|---|---|---|---|---|---|---|---|---|---|\n",
       "| HCT116bortezomib | B03 | HCT116bortezomib | PlateMap_HCT116bortezomib | 1 | B03 | WT | 0 | -0.5389166 | 0.09930445 | ⋯ | -0.5634461 | -0.3636316 | -0.5166978 | -1.585785 | -0.9298670 | -0.2607355 | 0.7951588 | 0.7664410 | -1.4335590 | -1.081219 |\n",
       "| HCT116bortezomib | B04 | HCT116bortezomib | PlateMap_HCT116bortezomib | 1 | B04 | WT | 0 | -0.4322740 | 0.10426880 | ⋯ | -0.7727316 | -0.2259001 | -0.5198452 | -1.190355 | -0.1833654 | -0.1233108 | 0.8626262 | 0.3892313 | -0.5505529 | -0.514341 |\n",
       "\n"
      ],
      "text/plain": [
       "  Metadata_Plate   Metadata_Well Metadata_Assay_Plate_Barcode\n",
       "1 HCT116bortezomib B03           HCT116bortezomib            \n",
       "2 HCT116bortezomib B04           HCT116bortezomib            \n",
       "  Metadata_Plate_Map_Name   Metadata_Batch_Number Metadata_well_position\n",
       "1 PlateMap_HCT116bortezomib 1                     B03                   \n",
       "2 PlateMap_HCT116bortezomib 1                     B04                   \n",
       "  Metadata_CellLine Metadata_Dosage Cells_AreaShape_Eccentricity\n",
       "1 WT                0               -0.5389166                  \n",
       "2 WT                0               -0.4322740                  \n",
       "  Cells_AreaShape_EulerNumber ⋯ Nuclei_RadialDistribution_RadialCV_ER_1of4\n",
       "1 0.09930445                  ⋯ -0.5634461                                \n",
       "2 0.10426880                  ⋯ -0.7727316                                \n",
       "  Nuclei_RadialDistribution_RadialCV_Mito_1of4\n",
       "1 -0.3636316                                  \n",
       "2 -0.2259001                                  \n",
       "  Nuclei_RadialDistribution_RadialCV_Mito_2of4\n",
       "1 -0.5166978                                  \n",
       "2 -0.5198452                                  \n",
       "  Nuclei_RadialDistribution_RadialCV_RNA_1of4\n",
       "1 -1.585785                                  \n",
       "2 -1.190355                                  \n",
       "  Nuclei_Texture_Correlation_AGP_20_00 Nuclei_Texture_Correlation_DNA_10_02\n",
       "1 -0.9298670                           -0.2607355                          \n",
       "2 -0.1833654                           -0.1233108                          \n",
       "  Nuclei_Texture_Correlation_DNA_10_03 Nuclei_Texture_Correlation_ER_20_03\n",
       "1 0.7951588                            0.7664410                          \n",
       "2 0.8626262                            0.3892313                          \n",
       "  Nuclei_Texture_Correlation_RNA_10_01 Nuclei_Texture_Correlation_RNA_10_03\n",
       "1 -1.4335590                           -1.081219                           \n",
       "2 -0.5505529                           -0.514341                           "
      ]
     },
     "metadata": {},
     "output_type": "display_data"
    }
   ],
   "source": [
    "batch <- \"2019_02_15_Batch1_20X\"\n",
    "plate <- \"HCT116bortezomib\"\n",
    "\n",
    "file <- file.path(\"..\", \"..\", \"backend\", batch, plate, paste0(plate, \"_normalized_variable_selected.csv\"))\n",
    "batch1_df <- load_data(data_file = file)\n",
    "\n",
    "print(dim(batch1_df))\n",
    "head(batch1_df, 2)"
   ]
  },
  {
   "cell_type": "markdown",
   "metadata": {},
   "source": [
    "### Load Batch 2"
   ]
  },
  {
   "cell_type": "code",
   "execution_count": 4,
   "metadata": {},
   "outputs": [
    {
     "name": "stdout",
     "output_type": "stream",
     "text": [
      "[1]  36 171\n"
     ]
    },
    {
     "data": {
      "text/html": [
       "<table>\n",
       "<caption>A tibble: 2 × 171</caption>\n",
       "<thead>\n",
       "\t<tr><th scope=col>Metadata_Plate</th><th scope=col>Metadata_Well</th><th scope=col>Metadata_Assay_Plate_Barcode</th><th scope=col>Metadata_Plate_Map_Name</th><th scope=col>Metadata_Batch_Number</th><th scope=col>Metadata_well_position</th><th scope=col>Metadata_CellLine</th><th scope=col>Metadata_Dosage</th><th scope=col>Cells_AreaShape_Compactness</th><th scope=col>Cells_AreaShape_Orientation</th><th scope=col>⋯</th><th scope=col>Nuclei_Texture_Correlation_DNA_10_01</th><th scope=col>Nuclei_Texture_Correlation_ER_10_01</th><th scope=col>Nuclei_Texture_Correlation_Mito_5_02</th><th scope=col>Nuclei_Texture_Correlation_Mito_5_03</th><th scope=col>Nuclei_Texture_Correlation_RNA_10_01</th><th scope=col>Nuclei_Texture_Correlation_RNA_10_03</th><th scope=col>Nuclei_Texture_Correlation_RNA_20_00</th><th scope=col>Nuclei_Texture_Entropy_ER_20_01</th><th scope=col>Nuclei_Texture_SumVariance_ER_20_01</th><th scope=col>Nuclei_Texture_SumVariance_RNA_20_01</th></tr>\n",
       "\t<tr><th scope=col>&lt;chr&gt;</th><th scope=col>&lt;chr&gt;</th><th scope=col>&lt;chr&gt;</th><th scope=col>&lt;chr&gt;</th><th scope=col>&lt;int&gt;</th><th scope=col>&lt;chr&gt;</th><th scope=col>&lt;chr&gt;</th><th scope=col>&lt;dbl&gt;</th><th scope=col>&lt;dbl&gt;</th><th scope=col>&lt;dbl&gt;</th><th scope=col>⋯</th><th scope=col>&lt;dbl&gt;</th><th scope=col>&lt;dbl&gt;</th><th scope=col>&lt;dbl&gt;</th><th scope=col>&lt;dbl&gt;</th><th scope=col>&lt;dbl&gt;</th><th scope=col>&lt;dbl&gt;</th><th scope=col>&lt;dbl&gt;</th><th scope=col>&lt;dbl&gt;</th><th scope=col>&lt;dbl&gt;</th><th scope=col>&lt;dbl&gt;</th></tr>\n",
       "</thead>\n",
       "<tbody>\n",
       "\t<tr><td>207106_exposure320</td><td>B02</td><td>207106_exposure320</td><td>PlateMap_207106_exposure320</td><td>2</td><td>B02</td><td>WT</td><td>0</td><td>1.319133</td><td>0.9176338</td><td>⋯</td><td>0.7871451</td><td> 0.2753495</td><td>0.23614066</td><td> 0.120671490</td><td> 0.4023975</td><td>0.6558692</td><td>0.7843925</td><td>-0.3963174</td><td>-0.05320719</td><td>0.6949548</td></tr>\n",
       "\t<tr><td>207106_exposure320</td><td>B03</td><td>207106_exposure320</td><td>PlateMap_207106_exposure320</td><td>2</td><td>B03</td><td>WT</td><td>0</td><td>1.623088</td><td>0.3895463</td><td>⋯</td><td>0.7169757</td><td>-0.1075322</td><td>0.08524138</td><td>-0.007435339</td><td>-0.1742759</td><td>0.5114458</td><td>0.5909146</td><td>-0.4505974</td><td> 0.02310763</td><td>0.9688375</td></tr>\n",
       "</tbody>\n",
       "</table>\n"
      ],
      "text/latex": [
       "A tibble: 2 × 171\n",
       "\\begin{tabular}{r|lllllllllllllllllllllllllllllllllllllllllllllllllllllllllllllllllllllllllllllllllllllllllllllllllllllllllllllllllllllllllllllllllllllllllllllllllllllllllllllllllllllllllll}\n",
       " Metadata\\_Plate & Metadata\\_Well & Metadata\\_Assay\\_Plate\\_Barcode & Metadata\\_Plate\\_Map\\_Name & Metadata\\_Batch\\_Number & Metadata\\_well\\_position & Metadata\\_CellLine & Metadata\\_Dosage & Cells\\_AreaShape\\_Compactness & Cells\\_AreaShape\\_Orientation & Cells\\_AreaShape\\_Zernike\\_2\\_0 & Cells\\_AreaShape\\_Zernike\\_3\\_1 & Cells\\_AreaShape\\_Zernike\\_3\\_3 & Cells\\_AreaShape\\_Zernike\\_4\\_4 & Cells\\_AreaShape\\_Zernike\\_5\\_1 & Cells\\_AreaShape\\_Zernike\\_6\\_2 & Cells\\_AreaShape\\_Zernike\\_7\\_1 & Cells\\_AreaShape\\_Zernike\\_7\\_3 & Cells\\_AreaShape\\_Zernike\\_8\\_2 & Cells\\_AreaShape\\_Zernike\\_8\\_4 & Cells\\_AreaShape\\_Zernike\\_8\\_8 & Cells\\_AreaShape\\_Zernike\\_9\\_1 & Cells\\_AreaShape\\_Zernike\\_9\\_3 & Cells\\_Correlation\\_Costes\\_ER\\_DNA & Cells\\_Correlation\\_K\\_DNA\\_ER & Cells\\_Correlation\\_Overlap\\_RNA\\_AGP & Cells\\_Granularity\\_2\\_Mito & Cells\\_Granularity\\_2\\_RNA & Cells\\_Intensity\\_IntegratedIntensityEdge\\_DNA & Cells\\_Intensity\\_IntegratedIntensityEdge\\_RNA & Cells\\_Intensity\\_LowerQuartileIntensity\\_DNA & Cells\\_Intensity\\_MassDisplacement\\_DNA & Cells\\_Intensity\\_MeanIntensityEdge\\_DNA & Cells\\_Intensity\\_MinIntensity\\_AGP & Cells\\_Intensity\\_MinIntensity\\_ER & Cells\\_RadialDistribution\\_RadialCV\\_AGP\\_1of4 & Cells\\_RadialDistribution\\_RadialCV\\_DNA\\_1of4 & Cells\\_RadialDistribution\\_RadialCV\\_ER\\_1of4 & Cells\\_RadialDistribution\\_RadialCV\\_Mito\\_1of4 & Cells\\_RadialDistribution\\_RadialCV\\_RNA\\_1of4 & Cells\\_Texture\\_Contrast\\_Mito\\_20\\_01 & Cells\\_Texture\\_Correlation\\_DNA\\_10\\_03 & Cells\\_Texture\\_Correlation\\_ER\\_20\\_00 & Cells\\_Texture\\_Correlation\\_ER\\_20\\_01 & Cells\\_Texture\\_Correlation\\_Mito\\_20\\_00 & Cells\\_Texture\\_Correlation\\_RNA\\_20\\_02 & Cytoplasm\\_AreaShape\\_Area & Cytoplasm\\_AreaShape\\_EulerNumber & Cytoplasm\\_AreaShape\\_MaximumRadius & Cytoplasm\\_AreaShape\\_Orientation & Cytoplasm\\_AreaShape\\_Zernike\\_1\\_1 & Cytoplasm\\_AreaShape\\_Zernike\\_2\\_0 & Cytoplasm\\_AreaShape\\_Zernike\\_3\\_1 & Cytoplasm\\_AreaShape\\_Zernike\\_3\\_3 & Cytoplasm\\_AreaShape\\_Zernike\\_4\\_2 & Cytoplasm\\_AreaShape\\_Zernike\\_5\\_3 & Cytoplasm\\_AreaShape\\_Zernike\\_5\\_5 & Cytoplasm\\_AreaShape\\_Zernike\\_6\\_4 & Cytoplasm\\_AreaShape\\_Zernike\\_7\\_7 & Cytoplasm\\_AreaShape\\_Zernike\\_8\\_4 & Cytoplasm\\_AreaShape\\_Zernike\\_8\\_6 & Cytoplasm\\_AreaShape\\_Zernike\\_9\\_3 & Cytoplasm\\_AreaShape\\_Zernike\\_9\\_5 & Cytoplasm\\_AreaShape\\_Zernike\\_9\\_9 & Cytoplasm\\_Correlation\\_Costes\\_RNA\\_Mito & Cytoplasm\\_Correlation\\_K\\_AGP\\_ER & Cytoplasm\\_Correlation\\_K\\_DNA\\_RNA & Cytoplasm\\_Correlation\\_K\\_ER\\_DNA & Cytoplasm\\_Correlation\\_K\\_ER\\_RNA & Cytoplasm\\_Correlation\\_Overlap\\_DNA\\_ER & Cytoplasm\\_Correlation\\_Overlap\\_DNA\\_Mito & Cytoplasm\\_Correlation\\_Overlap\\_DNA\\_RNA & Cytoplasm\\_Granularity\\_2\\_AGP & Cytoplasm\\_Granularity\\_2\\_ER & Cytoplasm\\_Granularity\\_2\\_Mito & Cytoplasm\\_Granularity\\_2\\_RNA & Cytoplasm\\_Granularity\\_3\\_Mito & Cytoplasm\\_Granularity\\_3\\_RNA & Cytoplasm\\_Intensity\\_IntegratedIntensity\\_DNA & Cytoplasm\\_Intensity\\_IntegratedIntensity\\_ER & Cytoplasm\\_Intensity\\_IntegratedIntensity\\_RNA & Cytoplasm\\_Intensity\\_LowerQuartileIntensity\\_RNA & Cytoplasm\\_Intensity\\_MedianIntensity\\_DNA & Cytoplasm\\_RadialDistribution\\_FracAtD\\_ER\\_1of4 & Cytoplasm\\_RadialDistribution\\_FracAtD\\_RNA\\_1of4 & Cytoplasm\\_RadialDistribution\\_MeanFrac\\_AGP\\_4of4 & Cytoplasm\\_RadialDistribution\\_MeanFrac\\_DNA\\_3of4 & Cytoplasm\\_RadialDistribution\\_MeanFrac\\_DNA\\_4of4 & Cytoplasm\\_RadialDistribution\\_MeanFrac\\_Mito\\_3of4 & Cytoplasm\\_RadialDistribution\\_MeanFrac\\_RNA\\_2of4 & Cytoplasm\\_RadialDistribution\\_MeanFrac\\_RNA\\_4of4 & Cytoplasm\\_Texture\\_Correlation\\_AGP\\_20\\_01 & Cytoplasm\\_Texture\\_Correlation\\_AGP\\_20\\_02 & Cytoplasm\\_Texture\\_Correlation\\_AGP\\_20\\_03 & Cytoplasm\\_Texture\\_Correlation\\_DNA\\_10\\_02 & Cytoplasm\\_Texture\\_Correlation\\_ER\\_10\\_02 & Cytoplasm\\_Texture\\_Correlation\\_ER\\_20\\_01 & Cytoplasm\\_Texture\\_Correlation\\_ER\\_20\\_02 & Cytoplasm\\_Texture\\_Correlation\\_ER\\_20\\_03 & Cytoplasm\\_Texture\\_Correlation\\_Mito\\_10\\_00 & Cytoplasm\\_Texture\\_Correlation\\_Mito\\_10\\_03 & Cytoplasm\\_Texture\\_Correlation\\_RNA\\_20\\_00 & Cytoplasm\\_Texture\\_Correlation\\_RNA\\_20\\_02 & Cytoplasm\\_Texture\\_Correlation\\_RNA\\_20\\_03 & Cytoplasm\\_Texture\\_InfoMeas1\\_AGP\\_10\\_00 & Cytoplasm\\_Texture\\_InfoMeas1\\_DNA\\_10\\_00 & Cytoplasm\\_Texture\\_InfoMeas1\\_DNA\\_10\\_03 & Cytoplasm\\_Texture\\_InfoMeas1\\_DNA\\_20\\_01 & Cytoplasm\\_Texture\\_InfoMeas1\\_DNA\\_5\\_01 & Cytoplasm\\_Texture\\_InfoMeas1\\_ER\\_5\\_02 & Cytoplasm\\_Texture\\_InfoMeas1\\_RNA\\_5\\_02 & Nuclei\\_AreaShape\\_MaxFeretDiameter & Nuclei\\_AreaShape\\_MeanRadius & Nuclei\\_AreaShape\\_MinorAxisLength & Nuclei\\_AreaShape\\_Orientation & Nuclei\\_AreaShape\\_Zernike\\_1\\_1 & Nuclei\\_AreaShape\\_Zernike\\_6\\_2 & Nuclei\\_AreaShape\\_Zernike\\_7\\_1 & Nuclei\\_AreaShape\\_Zernike\\_7\\_7 & Nuclei\\_AreaShape\\_Zernike\\_8\\_0 & Nuclei\\_AreaShape\\_Zernike\\_8\\_8 & Nuclei\\_AreaShape\\_Zernike\\_9\\_1 & Nuclei\\_Correlation\\_Correlation\\_ER\\_AGP & Nuclei\\_Correlation\\_Correlation\\_ER\\_RNA & Nuclei\\_Correlation\\_Correlation\\_Mito\\_AGP & Nuclei\\_Correlation\\_Costes\\_DNA\\_RNA & Nuclei\\_Correlation\\_K\\_AGP\\_RNA & Nuclei\\_Correlation\\_Overlap\\_DNA\\_AGP & Nuclei\\_Correlation\\_Overlap\\_DNA\\_Mito & Nuclei\\_Correlation\\_Overlap\\_DNA\\_RNA & Nuclei\\_Correlation\\_Overlap\\_ER\\_AGP & Nuclei\\_Correlation\\_Overlap\\_ER\\_RNA & Nuclei\\_Correlation\\_Overlap\\_Mito\\_RNA & Nuclei\\_Correlation\\_Overlap\\_RNA\\_AGP & Nuclei\\_Granularity\\_2\\_DNA & Nuclei\\_Granularity\\_2\\_RNA & Nuclei\\_Granularity\\_5\\_DNA & Nuclei\\_Granularity\\_7\\_DNA & Nuclei\\_Granularity\\_8\\_DNA & Nuclei\\_Granularity\\_9\\_DNA & Nuclei\\_Intensity\\_MassDisplacement\\_DNA & Nuclei\\_Intensity\\_MassDisplacement\\_RNA & Nuclei\\_Location\\_Center\\_X & Nuclei\\_Location\\_MaxIntensity\\_Y\\_RNA & Nuclei\\_Neighbors\\_NumberOfNeighbors\\_2 & Nuclei\\_Neighbors\\_PercentTouching\\_2 & Nuclei\\_RadialDistribution\\_FracAtD\\_ER\\_1of4 & Nuclei\\_RadialDistribution\\_MeanFrac\\_ER\\_1of4 & Nuclei\\_RadialDistribution\\_MeanFrac\\_Mito\\_1of4 & Nuclei\\_RadialDistribution\\_RadialCV\\_AGP\\_1of4 & Nuclei\\_RadialDistribution\\_RadialCV\\_AGP\\_2of4 & Nuclei\\_RadialDistribution\\_RadialCV\\_AGP\\_3of4 & Nuclei\\_RadialDistribution\\_RadialCV\\_DNA\\_1of4 & Nuclei\\_RadialDistribution\\_RadialCV\\_DNA\\_2of4 & Nuclei\\_RadialDistribution\\_RadialCV\\_DNA\\_3of4 & Nuclei\\_RadialDistribution\\_RadialCV\\_ER\\_1of4 & Nuclei\\_RadialDistribution\\_RadialCV\\_ER\\_2of4 & Nuclei\\_RadialDistribution\\_RadialCV\\_Mito\\_1of4 & Nuclei\\_RadialDistribution\\_RadialCV\\_RNA\\_2of4 & Nuclei\\_RadialDistribution\\_RadialCV\\_RNA\\_3of4 & Nuclei\\_Texture\\_Correlation\\_DNA\\_10\\_00 & Nuclei\\_Texture\\_Correlation\\_DNA\\_10\\_01 & Nuclei\\_Texture\\_Correlation\\_ER\\_10\\_01 & Nuclei\\_Texture\\_Correlation\\_Mito\\_5\\_02 & Nuclei\\_Texture\\_Correlation\\_Mito\\_5\\_03 & Nuclei\\_Texture\\_Correlation\\_RNA\\_10\\_01 & Nuclei\\_Texture\\_Correlation\\_RNA\\_10\\_03 & Nuclei\\_Texture\\_Correlation\\_RNA\\_20\\_00 & Nuclei\\_Texture\\_Entropy\\_ER\\_20\\_01 & Nuclei\\_Texture\\_SumVariance\\_ER\\_20\\_01 & Nuclei\\_Texture\\_SumVariance\\_RNA\\_20\\_01\\\\\n",
       " <chr> & <chr> & <chr> & <chr> & <int> & <chr> & <chr> & <dbl> & <dbl> & <dbl> & <dbl> & <dbl> & <dbl> & <dbl> & <dbl> & <dbl> & <dbl> & <dbl> & <dbl> & <dbl> & <dbl> & <dbl> & <dbl> & <dbl> & <dbl> & <dbl> & <dbl> & <dbl> & <dbl> & <dbl> & <dbl> & <dbl> & <dbl> & <dbl> & <dbl> & <dbl> & <dbl> & <dbl> & <dbl> & <dbl> & <dbl> & <dbl> & <dbl> & <dbl> & <dbl> & <dbl> & <dbl> & <dbl> & <dbl> & <dbl> & <dbl> & <dbl> & <dbl> & <dbl> & <dbl> & <dbl> & <dbl> & <dbl> & <dbl> & <dbl> & <dbl> & <dbl> & <dbl> & <dbl> & <dbl> & <dbl> & <dbl> & <dbl> & <dbl> & <dbl> & <dbl> & <dbl> & <dbl> & <dbl> & <dbl> & <dbl> & <dbl> & <dbl> & <dbl> & <dbl> & <dbl> & <dbl> & <dbl> & <dbl> & <dbl> & <dbl> & <dbl> & <dbl> & <dbl> & <dbl> & <dbl> & <dbl> & <dbl> & <dbl> & <dbl> & <dbl> & <dbl> & <dbl> & <dbl> & <dbl> & <dbl> & <dbl> & <dbl> & <dbl> & <dbl> & <dbl> & <dbl> & <dbl> & <dbl> & <dbl> & <dbl> & <dbl> & <dbl> & <dbl> & <dbl> & <dbl> & <dbl> & <dbl> & <dbl> & <dbl> & <dbl> & <dbl> & <dbl> & <dbl> & <dbl> & <dbl> & <dbl> & <dbl> & <dbl> & <dbl> & <dbl> & <dbl> & <dbl> & <dbl> & <dbl> & <dbl> & <dbl> & <dbl> & <dbl> & <dbl> & <dbl> & <dbl> & <dbl> & <dbl> & <dbl> & <dbl> & <dbl> & <dbl> & <dbl> & <dbl> & <dbl> & <dbl> & <dbl> & <dbl> & <dbl> & <dbl> & <dbl> & <dbl> & <dbl> & <dbl> & <dbl> & <dbl> & <dbl> & <dbl> & <dbl> & <dbl> & <dbl> & <dbl> & <dbl> & <dbl> & <dbl>\\\\\n",
       "\\hline\n",
       "\t 207106\\_exposure320 & B02 & 207106\\_exposure320 & PlateMap\\_207106\\_exposure320 & 2 & B02 & WT & 0 & 1.319133 & 0.9176338 & -0.3644149 & 1.2579601 & 0.3266088 & 1.035898 &  1.0767418 & -1.3764410 & -0.2346557 & 1.474482 & -1.1809820 & 0.6709217 & 1.7732342 & -0.07313334 & 0.5222259 & -0.8390427 & 0.34067422 &  0.19039051 & -1.549020 & -1.1022008 & 1.325843 & 0.9103888 & 0.4269115 & -0.1893181 & 0.5774878 & 0.5669320 & 0.1947053 & -0.6784542 & -0.5635463 & -0.2645497 &  0.01068889 & -0.5940667 & 2.614407 & 0.46379140 & 2.019795 & 0.9292615 & 0.6633108 & 0.8234075 & -0.01005373 & -0.9304920 &  0.3046289 & 0.7804867 &  0.22111834 & 0.3701422 & -0.1505390 & 0.6705197 & 0.6594608 & 1.108327 & 0.4740447 & 1.271771 & 0.3398545 & 0.07981852 & 0.8794402 & -0.1253149 & 0.3834405 & 0.6715698 & 0.6498154 & -0.6978747 & 0.6968066 & -0.009760718 & 1.125358 & 0.5836499 & 0.5771691 & -0.4063288 & -0.8911525 & -0.7475207 & -0.8794169 & 0.4091135 & -1.261564 & -0.4558448 & -0.2156777 & -0.9683684 & 0.3429528 & 0.9545814 & -0.02419472 & -0.4673317 & -0.04256258 & 2.316669 & 0.5888360 & -0.1495674 & -2.578702 & -1.326133 & 1.834928 & 0.9245386 & 1.219833 & 0.6837912 & 1.473123 & 0.1752251 & 0.5323096 & 0.9677317 & 0.6652604 & 0.4290628 & 0.5938254 & -0.5111124 & 0.45248566 & -0.1907859 & -1.304117 & -0.5347405 & -0.4220183 & -0.3814673 & -0.3079397 & -0.7243759 & -0.6762116 &  0.1105264 & -0.7248215 & -0.3485670 & -0.128300095 & 0.5994703 & -0.4721336 &  0.38417139 & 0.9565456 & 0.2902187 & 0.6354945 & -0.3052939 & 0.7450333 & 1.868461 & 1.1233261 & 0.4386679 & 0.6532832 & 0.6592504 & 0.4768467 & 0.52831233 & 0.8639605 & 1.448922 & 0.5713699 & 1.861666 & -0.4592479 & -0.5194188 & -0.6032380 & -0.12618465 & 1.2811196 & 1.7128716 & 1.764789 & 0.6466693 &  0.459215 & -0.04827062 & 1.0154410 & 0.7789377 & -0.4199005 & 0.3810571 & -0.6063521 & -0.51848975 & -0.8957263 & -0.2831913 & -1.1742227 & -1.0205580 & -0.3981737 & -0.4495494 & -0.3896678 & -0.1606760 & -0.2580794 & -0.1843277 & 0.5383234 & 0.7871451 &  0.2753495 & 0.23614066 &  0.120671490 &  0.4023975 & 0.6558692 & 0.7843925 & -0.3963174 & -0.05320719 & 0.6949548\\\\\n",
       "\t 207106\\_exposure320 & B03 & 207106\\_exposure320 & PlateMap\\_207106\\_exposure320 & 2 & B03 & WT & 0 & 1.623088 & 0.3895463 & -0.3676435 & 0.8235866 & 1.0525450 & 1.170779 & -0.3665344 & -0.9472502 & -0.2819155 & 1.896651 &  0.2763451 & 0.7308511 & 0.8315907 & -0.69807836 & 0.8131460 & -0.9575129 & 0.06585876 & -0.06591175 & -1.318339 & -0.4747454 & 1.526794 & 1.1397851 & 0.8989397 & -0.4116354 & 0.8779578 & 0.6137323 & 0.2143659 & -0.5906201 & -0.7199534 & -0.5227641 & -0.01068889 & -0.5819575 & 2.807542 & 0.09449444 & 1.559289 & 0.6822479 & 0.5120951 & 0.1939490 & -0.37010044 & -0.1179057 & -0.1635478 & 0.5216085 & -0.07067605 & 0.2310565 & -0.3396313 & 1.3448770 & 0.2258909 & 1.312795 & 1.2674485 & 1.233631 & 1.0091148 & 0.31864361 & 0.8563198 & -0.3382826 & 1.2028735 & 0.5553983 & 0.6702522 & -0.6837970 & 0.7294208 &  0.116169177 & 1.296319 & 0.2672930 & 0.1671869 & -0.7210601 & -0.7761096 & -0.7968354 & -0.7611598 & 0.7338479 & -1.235178 &  0.3274664 & -0.1927456 & -0.8930929 & 0.6208142 & 1.3645728 &  0.27299944 & -0.5885961 & -0.12598736 & 1.879725 & 0.3670167 & -0.2024746 & -2.198030 & -1.125316 & 1.404475 & 0.8391677 & 1.040843 & 0.5611666 & 1.212880 & 0.1477339 & 0.2982967 & 1.1367466 & 0.1756877 & 0.2564849 & 0.3816246 & -0.8592711 & 0.09113092 & -0.4555642 & -1.056296 & -1.3387440 & -1.0791329 & -0.7244809 & -0.7310342 & -0.4559287 & -0.3534529 & -0.1686711 & -0.7769133 & -0.6293327 &  0.006737759 & 0.3618619 & -0.7662347 & -0.02200241 & 0.9372945 & 0.1939069 & 0.6545826 & -0.1257800 & 0.5648929 & 1.842924 & 0.6860666 & 0.4541772 & 1.2539028 & 0.6897311 & 0.4098871 & 0.09205123 & 0.7266378 & 1.419978 & 0.4050571 & 1.432961 & -0.4186583 & -0.4379193 & -0.2773261 & -0.09383203 & 0.3870266 & 0.8683933 & 1.542763 & 0.4092376 & -1.019988 &  1.13087698 & 0.6164813 & 0.4884637 &  0.0341740 & 0.5118602 & -0.4894577 &  0.03566114 & -0.3726633 & -0.1910513 & -0.8953836 & -0.9813531 & -0.4809120 & -0.2786249 & -0.4102652 &  0.4150033 & -0.1630003 & -0.1332388 & 0.2344843 & 0.7169757 & -0.1075322 & 0.08524138 & -0.007435339 & -0.1742759 & 0.5114458 & 0.5909146 & -0.4505974 &  0.02310763 & 0.9688375\\\\\n",
       "\\end{tabular}\n"
      ],
      "text/markdown": [
       "\n",
       "A tibble: 2 × 171\n",
       "\n",
       "| Metadata_Plate &lt;chr&gt; | Metadata_Well &lt;chr&gt; | Metadata_Assay_Plate_Barcode &lt;chr&gt; | Metadata_Plate_Map_Name &lt;chr&gt; | Metadata_Batch_Number &lt;int&gt; | Metadata_well_position &lt;chr&gt; | Metadata_CellLine &lt;chr&gt; | Metadata_Dosage &lt;dbl&gt; | Cells_AreaShape_Compactness &lt;dbl&gt; | Cells_AreaShape_Orientation &lt;dbl&gt; | ⋯ ⋯ | Nuclei_Texture_Correlation_DNA_10_01 &lt;dbl&gt; | Nuclei_Texture_Correlation_ER_10_01 &lt;dbl&gt; | Nuclei_Texture_Correlation_Mito_5_02 &lt;dbl&gt; | Nuclei_Texture_Correlation_Mito_5_03 &lt;dbl&gt; | Nuclei_Texture_Correlation_RNA_10_01 &lt;dbl&gt; | Nuclei_Texture_Correlation_RNA_10_03 &lt;dbl&gt; | Nuclei_Texture_Correlation_RNA_20_00 &lt;dbl&gt; | Nuclei_Texture_Entropy_ER_20_01 &lt;dbl&gt; | Nuclei_Texture_SumVariance_ER_20_01 &lt;dbl&gt; | Nuclei_Texture_SumVariance_RNA_20_01 &lt;dbl&gt; |\n",
       "|---|---|---|---|---|---|---|---|---|---|---|---|---|---|---|---|---|---|---|---|---|\n",
       "| 207106_exposure320 | B02 | 207106_exposure320 | PlateMap_207106_exposure320 | 2 | B02 | WT | 0 | 1.319133 | 0.9176338 | ⋯ | 0.7871451 |  0.2753495 | 0.23614066 |  0.120671490 |  0.4023975 | 0.6558692 | 0.7843925 | -0.3963174 | -0.05320719 | 0.6949548 |\n",
       "| 207106_exposure320 | B03 | 207106_exposure320 | PlateMap_207106_exposure320 | 2 | B03 | WT | 0 | 1.623088 | 0.3895463 | ⋯ | 0.7169757 | -0.1075322 | 0.08524138 | -0.007435339 | -0.1742759 | 0.5114458 | 0.5909146 | -0.4505974 |  0.02310763 | 0.9688375 |\n",
       "\n"
      ],
      "text/plain": [
       "  Metadata_Plate     Metadata_Well Metadata_Assay_Plate_Barcode\n",
       "1 207106_exposure320 B02           207106_exposure320          \n",
       "2 207106_exposure320 B03           207106_exposure320          \n",
       "  Metadata_Plate_Map_Name     Metadata_Batch_Number Metadata_well_position\n",
       "1 PlateMap_207106_exposure320 2                     B02                   \n",
       "2 PlateMap_207106_exposure320 2                     B03                   \n",
       "  Metadata_CellLine Metadata_Dosage Cells_AreaShape_Compactness\n",
       "1 WT                0               1.319133                   \n",
       "2 WT                0               1.623088                   \n",
       "  Cells_AreaShape_Orientation ⋯ Nuclei_Texture_Correlation_DNA_10_01\n",
       "1 0.9176338                   ⋯ 0.7871451                           \n",
       "2 0.3895463                   ⋯ 0.7169757                           \n",
       "  Nuclei_Texture_Correlation_ER_10_01 Nuclei_Texture_Correlation_Mito_5_02\n",
       "1  0.2753495                          0.23614066                          \n",
       "2 -0.1075322                          0.08524138                          \n",
       "  Nuclei_Texture_Correlation_Mito_5_03 Nuclei_Texture_Correlation_RNA_10_01\n",
       "1  0.120671490                          0.4023975                          \n",
       "2 -0.007435339                         -0.1742759                          \n",
       "  Nuclei_Texture_Correlation_RNA_10_03 Nuclei_Texture_Correlation_RNA_20_00\n",
       "1 0.6558692                            0.7843925                           \n",
       "2 0.5114458                            0.5909146                           \n",
       "  Nuclei_Texture_Entropy_ER_20_01 Nuclei_Texture_SumVariance_ER_20_01\n",
       "1 -0.3963174                      -0.05320719                        \n",
       "2 -0.4505974                       0.02310763                        \n",
       "  Nuclei_Texture_SumVariance_RNA_20_01\n",
       "1 0.6949548                           \n",
       "2 0.9688375                           "
      ]
     },
     "metadata": {},
     "output_type": "display_data"
    }
   ],
   "source": [
    "batch <- \"2019_03_20_Batch2\"\n",
    "plate <- \"207106_exposure320\"\n",
    "\n",
    "file <- file.path(\"..\", \"..\", \"backend\", batch, plate, paste0(plate, \"_normalized_variable_selected.csv\"))\n",
    "batch2_df <- load_data(data_file = file)\n",
    "\n",
    "print(dim(batch2_df))\n",
    "head(batch2_df, 2)"
   ]
  },
  {
   "cell_type": "markdown",
   "metadata": {},
   "source": [
    "### Merge Data"
   ]
  },
  {
   "cell_type": "code",
   "execution_count": 5,
   "metadata": {},
   "outputs": [
    {
     "name": "stderr",
     "output_type": "stream",
     "text": [
      "Loading required package: curl\n",
      "Warning message:\n",
      "“select_() is deprecated. \n",
      "Please use select() instead\n",
      "\n",
      "The 'programming' vignette or the tidyeval book can help you\n",
      "to program with select() : https://tidyeval.tidyverse.org\n",
      "\u001b[90mThis warning is displayed once per session.\u001b[39m”Warning message:\n",
      "“`data_frame()` is deprecated, use `tibble()`.\n",
      "\u001b[90mThis warning is displayed once per session.\u001b[39m”"
     ]
    },
    {
     "data": {
      "text/html": [
       "<ol class=list-inline>\n",
       "\t<li>72</li>\n",
       "\t<li>66</li>\n",
       "</ol>\n"
      ],
      "text/latex": [
       "\\begin{enumerate*}\n",
       "\\item 72\n",
       "\\item 66\n",
       "\\end{enumerate*}\n"
      ],
      "text/markdown": [
       "1. 72\n",
       "2. 66\n",
       "\n",
       "\n"
      ],
      "text/plain": [
       "[1] 72 66"
      ]
     },
     "metadata": {},
     "output_type": "display_data"
    }
   ],
   "source": [
    "merge_file <- file.path(\"data\", \"merged_intersected_variable_selected.csv\")\n",
    "full_df <- merge_data(batch1_df, batch2_df, output_file = merge_file, output_gct = TRUE)\n",
    "\n",
    "dim(full_df)"
   ]
  },
  {
   "cell_type": "code",
   "execution_count": 6,
   "metadata": {},
   "outputs": [],
   "source": [
    "# Output GCT file with combined columns\n",
    "file <- paste0(tools::file_path_sans_ext(file), \".gct\")\n",
    "write_gct(full_df, file)"
   ]
  },
  {
   "cell_type": "markdown",
   "metadata": {},
   "source": [
    "## Load, Merge, and Output Two Plates from Batch 3"
   ]
  },
  {
   "cell_type": "markdown",
   "metadata": {},
   "source": [
    "### Load Mutated Plate"
   ]
  },
  {
   "cell_type": "code",
   "execution_count": 7,
   "metadata": {},
   "outputs": [
    {
     "name": "stdout",
     "output_type": "stream",
     "text": [
      "[1]  57 191\n"
     ]
    },
    {
     "data": {
      "text/html": [
       "<table>\n",
       "<caption>A tibble: 2 × 191</caption>\n",
       "<thead>\n",
       "\t<tr><th scope=col>Metadata_Plate</th><th scope=col>Metadata_Well</th><th scope=col>Metadata_Assay_Plate_Barcode</th><th scope=col>Metadata_Plate_Map_Name</th><th scope=col>Metadata_well_position</th><th scope=col>Metadata_clone_number</th><th scope=col>Cells_AreaShape_Compactness</th><th scope=col>Cells_AreaShape_EulerNumber</th><th scope=col>Cells_AreaShape_Extent</th><th scope=col>Cells_AreaShape_FormFactor</th><th scope=col>⋯</th><th scope=col>Nuclei_Texture_Correlation_AGP_20_00</th><th scope=col>Nuclei_Texture_Correlation_AGP_20_03</th><th scope=col>Nuclei_Texture_Correlation_AGP_5_00</th><th scope=col>Nuclei_Texture_Correlation_ER_20_02</th><th scope=col>Nuclei_Texture_Correlation_Mito_5_00</th><th scope=col>Nuclei_Texture_Correlation_RNA_20_02</th><th scope=col>Nuclei_Texture_InfoMeas1_Mito_5_00</th><th scope=col>Nuclei_Texture_InverseDifferenceMoment_AGP_20_02</th><th scope=col>Nuclei_Texture_InverseDifferenceMoment_DNA_20_03</th><th scope=col>Nuclei_Texture_InverseDifferenceMoment_ER_20_02</th></tr>\n",
       "\t<tr><th scope=col>&lt;chr&gt;</th><th scope=col>&lt;chr&gt;</th><th scope=col>&lt;chr&gt;</th><th scope=col>&lt;chr&gt;</th><th scope=col>&lt;chr&gt;</th><th scope=col>&lt;chr&gt;</th><th scope=col>&lt;dbl&gt;</th><th scope=col>&lt;dbl&gt;</th><th scope=col>&lt;dbl&gt;</th><th scope=col>&lt;dbl&gt;</th><th scope=col>⋯</th><th scope=col>&lt;dbl&gt;</th><th scope=col>&lt;dbl&gt;</th><th scope=col>&lt;dbl&gt;</th><th scope=col>&lt;dbl&gt;</th><th scope=col>&lt;dbl&gt;</th><th scope=col>&lt;dbl&gt;</th><th scope=col>&lt;dbl&gt;</th><th scope=col>&lt;dbl&gt;</th><th scope=col>&lt;dbl&gt;</th><th scope=col>&lt;dbl&gt;</th></tr>\n",
       "</thead>\n",
       "<tbody>\n",
       "\t<tr><td>MutClones</td><td>B02</td><td>MutClones</td><td>MutClones</td><td>B02</td><td>BZ001</td><td> 0.6034418</td><td>-3.05703</td><td>0.05068862</td><td> 0.6585738</td><td>⋯</td><td> 3.3582920</td><td>1.126295</td><td> 0.00000</td><td>1.204256</td><td> 0.4206682</td><td>0.5705776</td><td>-1.320394</td><td>-0.2247533</td><td>1.311671</td><td>0.212493</td></tr>\n",
       "\t<tr><td>MutClones</td><td>B03</td><td>MutClones</td><td>MutClones</td><td>B03</td><td>BZ002</td><td>-1.0295421</td><td>-1.41911</td><td>1.11426953</td><td>-0.9345095</td><td>⋯</td><td>-0.3068762</td><td>1.536572</td><td>-4.29316</td><td>3.379792</td><td>-6.8157241</td><td>0.4181798</td><td> 3.899485</td><td> 2.1667509</td><td>2.502230</td><td>2.646517</td></tr>\n",
       "</tbody>\n",
       "</table>\n"
      ],
      "text/latex": [
       "A tibble: 2 × 191\n",
       "\\begin{tabular}{r|lllllllllllllllllllllllllllllllllllllllllllllllllllllllllllllllllllllllllllllllllllllllllllllllllllllllllllllllllllllllllllllllllllllllllllllllllllllllllllllllllllllllllllllllllllllllllllllll}\n",
       " Metadata\\_Plate & Metadata\\_Well & Metadata\\_Assay\\_Plate\\_Barcode & Metadata\\_Plate\\_Map\\_Name & Metadata\\_well\\_position & Metadata\\_clone\\_number & Cells\\_AreaShape\\_Compactness & Cells\\_AreaShape\\_EulerNumber & Cells\\_AreaShape\\_Extent & Cells\\_AreaShape\\_FormFactor & Cells\\_AreaShape\\_Orientation & Cells\\_AreaShape\\_Solidity & Cells\\_AreaShape\\_Zernike\\_1\\_1 & Cells\\_AreaShape\\_Zernike\\_2\\_0 & Cells\\_AreaShape\\_Zernike\\_2\\_2 & Cells\\_AreaShape\\_Zernike\\_3\\_1 & Cells\\_AreaShape\\_Zernike\\_4\\_0 & Cells\\_AreaShape\\_Zernike\\_4\\_2 & Cells\\_AreaShape\\_Zernike\\_4\\_4 & Cells\\_AreaShape\\_Zernike\\_5\\_1 & Cells\\_AreaShape\\_Zernike\\_6\\_0 & Cells\\_AreaShape\\_Zernike\\_6\\_2 & Cells\\_AreaShape\\_Zernike\\_6\\_4 & Cells\\_AreaShape\\_Zernike\\_6\\_6 & Cells\\_AreaShape\\_Zernike\\_7\\_1 & Cells\\_AreaShape\\_Zernike\\_7\\_3 & Cells\\_AreaShape\\_Zernike\\_8\\_0 & Cells\\_AreaShape\\_Zernike\\_8\\_2 & Cells\\_AreaShape\\_Zernike\\_8\\_4 & Cells\\_AreaShape\\_Zernike\\_8\\_6 & Cells\\_AreaShape\\_Zernike\\_8\\_8 & Cells\\_AreaShape\\_Zernike\\_9\\_1 & Cells\\_AreaShape\\_Zernike\\_9\\_3 & Cells\\_AreaShape\\_Zernike\\_9\\_5 & Cells\\_Correlation\\_Costes\\_RNA\\_Mito & Cells\\_Correlation\\_K\\_DNA\\_RNA & Cells\\_Correlation\\_K\\_ER\\_DNA & Cells\\_Correlation\\_Overlap\\_DNA\\_AGP & Cells\\_Correlation\\_Overlap\\_DNA\\_ER & Cells\\_Correlation\\_Overlap\\_DNA\\_Mito & Cells\\_Correlation\\_Overlap\\_DNA\\_RNA & Cells\\_Correlation\\_Overlap\\_ER\\_RNA & Cells\\_Correlation\\_Overlap\\_Mito\\_RNA & Cells\\_Correlation\\_Overlap\\_RNA\\_AGP & Cells\\_Granularity\\_2\\_AGP & Cells\\_Granularity\\_2\\_ER & Cells\\_Granularity\\_2\\_RNA & Cells\\_Intensity\\_IntegratedIntensityEdge\\_AGP & Cells\\_Intensity\\_IntegratedIntensityEdge\\_RNA & Cells\\_Intensity\\_IntegratedIntensity\\_DNA & Cells\\_Intensity\\_IntegratedIntensity\\_ER & Cells\\_Intensity\\_LowerQuartileIntensity\\_AGP & Cells\\_Intensity\\_MaxIntensityEdge\\_ER & Cells\\_Intensity\\_MedianIntensity\\_RNA & Cells\\_Texture\\_AngularSecondMoment\\_DNA\\_10\\_03 & Cells\\_Texture\\_AngularSecondMoment\\_DNA\\_20\\_01 & Cells\\_Texture\\_Correlation\\_DNA\\_20\\_03 & Cells\\_Texture\\_Correlation\\_ER\\_20\\_03 & Cells\\_Texture\\_InfoMeas1\\_DNA\\_10\\_03 & Cells\\_Texture\\_InfoMeas1\\_Mito\\_10\\_01 & Cells\\_Texture\\_InfoMeas2\\_DNA\\_10\\_03 & Cytoplasm\\_AreaShape\\_Center\\_Y & Cytoplasm\\_AreaShape\\_EulerNumber & Cytoplasm\\_AreaShape\\_Orientation & Cytoplasm\\_AreaShape\\_Zernike\\_3\\_1 & Cytoplasm\\_AreaShape\\_Zernike\\_5\\_3 & Cytoplasm\\_AreaShape\\_Zernike\\_5\\_5 & Cytoplasm\\_AreaShape\\_Zernike\\_7\\_7 & Cytoplasm\\_AreaShape\\_Zernike\\_8\\_4 & Cytoplasm\\_AreaShape\\_Zernike\\_8\\_6 & Cytoplasm\\_AreaShape\\_Zernike\\_9\\_5 & Cytoplasm\\_AreaShape\\_Zernike\\_9\\_9 & Cytoplasm\\_Correlation\\_Costes\\_Mito\\_DNA & Cytoplasm\\_Correlation\\_Costes\\_RNA\\_AGP & Cytoplasm\\_Correlation\\_Costes\\_RNA\\_DNA & Cytoplasm\\_Correlation\\_Costes\\_RNA\\_ER & Cytoplasm\\_Correlation\\_K\\_DNA\\_Mito & Cytoplasm\\_Correlation\\_K\\_ER\\_DNA & Cytoplasm\\_Correlation\\_K\\_RNA\\_ER & Cytoplasm\\_Correlation\\_Overlap\\_DNA\\_AGP & Cytoplasm\\_Correlation\\_Overlap\\_DNA\\_Mito & Cytoplasm\\_Correlation\\_Overlap\\_DNA\\_RNA & Cytoplasm\\_Granularity\\_2\\_AGP & Cytoplasm\\_Granularity\\_2\\_ER & Cytoplasm\\_Granularity\\_2\\_Mito & Cytoplasm\\_Granularity\\_2\\_RNA & Cytoplasm\\_Granularity\\_3\\_AGP & Cytoplasm\\_Granularity\\_3\\_ER & Cytoplasm\\_Granularity\\_3\\_Mito & Cytoplasm\\_Granularity\\_3\\_RNA & Cytoplasm\\_Granularity\\_4\\_AGP & Cytoplasm\\_Granularity\\_4\\_ER & Cytoplasm\\_Intensity\\_IntegratedIntensityEdge\\_ER & Cytoplasm\\_Intensity\\_IntegratedIntensityEdge\\_RNA & Cytoplasm\\_Intensity\\_IntegratedIntensity\\_DNA & Cytoplasm\\_Intensity\\_IntegratedIntensity\\_ER & Cytoplasm\\_Intensity\\_IntegratedIntensity\\_RNA & Cytoplasm\\_Intensity\\_MaxIntensityEdge\\_DNA & Cytoplasm\\_Location\\_MaxIntensity\\_X\\_Mito & Cytoplasm\\_RadialDistribution\\_FracAtD\\_AGP\\_3of4 & Cytoplasm\\_RadialDistribution\\_FracAtD\\_DNA\\_1of4 & Cytoplasm\\_RadialDistribution\\_FracAtD\\_Mito\\_1of4 & Cytoplasm\\_RadialDistribution\\_MeanFrac\\_DNA\\_2of4 & Cytoplasm\\_RadialDistribution\\_MeanFrac\\_DNA\\_3of4 & Cytoplasm\\_RadialDistribution\\_MeanFrac\\_DNA\\_4of4 & Cytoplasm\\_RadialDistribution\\_MeanFrac\\_Mito\\_1of4 & Cytoplasm\\_RadialDistribution\\_MeanFrac\\_RNA\\_1of4 & Cytoplasm\\_Texture\\_AngularSecondMoment\\_DNA\\_20\\_03 & Cytoplasm\\_Texture\\_AngularSecondMoment\\_ER\\_5\\_00 & Cytoplasm\\_Texture\\_Correlation\\_AGP\\_5\\_00 & Cytoplasm\\_Texture\\_Correlation\\_DNA\\_10\\_00 & Cytoplasm\\_Texture\\_Correlation\\_Mito\\_10\\_00 & Cytoplasm\\_Texture\\_Correlation\\_RNA\\_20\\_00 & Cytoplasm\\_Texture\\_Correlation\\_RNA\\_20\\_01 & Cytoplasm\\_Texture\\_InfoMeas1\\_AGP\\_20\\_00 & Cytoplasm\\_Texture\\_InfoMeas1\\_AGP\\_5\\_03 & Cytoplasm\\_Texture\\_InfoMeas1\\_DNA\\_5\\_00 & Cytoplasm\\_Texture\\_InfoMeas1\\_ER\\_5\\_02 & Cytoplasm\\_Texture\\_InfoMeas1\\_RNA\\_20\\_03 & Cytoplasm\\_Texture\\_InfoMeas2\\_DNA\\_5\\_00 & Cytoplasm\\_Texture\\_InfoMeas2\\_ER\\_20\\_00 & Cytoplasm\\_Texture\\_InverseDifferenceMoment\\_ER\\_20\\_03 & Cytoplasm\\_Texture\\_SumAverage\\_AGP\\_20\\_00 & Cytoplasm\\_Texture\\_SumVariance\\_Mito\\_10\\_01 & Nuclei\\_AreaShape\\_EulerNumber & Nuclei\\_AreaShape\\_Orientation & Nuclei\\_AreaShape\\_Perimeter & Nuclei\\_AreaShape\\_Zernike\\_0\\_0 & Nuclei\\_AreaShape\\_Zernike\\_1\\_1 & Nuclei\\_AreaShape\\_Zernike\\_2\\_0 & Nuclei\\_AreaShape\\_Zernike\\_2\\_2 & Nuclei\\_AreaShape\\_Zernike\\_4\\_4 & Nuclei\\_AreaShape\\_Zernike\\_5\\_1 & Nuclei\\_AreaShape\\_Zernike\\_6\\_0 & Nuclei\\_AreaShape\\_Zernike\\_6\\_2 & Nuclei\\_AreaShape\\_Zernike\\_6\\_4 & Nuclei\\_AreaShape\\_Zernike\\_7\\_1 & Nuclei\\_AreaShape\\_Zernike\\_7\\_3 & Nuclei\\_AreaShape\\_Zernike\\_8\\_0 & Nuclei\\_AreaShape\\_Zernike\\_8\\_2 & Nuclei\\_AreaShape\\_Zernike\\_8\\_4 & Nuclei\\_AreaShape\\_Zernike\\_8\\_6 & Nuclei\\_AreaShape\\_Zernike\\_9\\_1 & Nuclei\\_AreaShape\\_Zernike\\_9\\_3 & Nuclei\\_Correlation\\_Correlation\\_ER\\_AGP & Nuclei\\_Correlation\\_Correlation\\_ER\\_RNA & Nuclei\\_Correlation\\_Correlation\\_RNA\\_AGP & Nuclei\\_Correlation\\_Costes\\_DNA\\_ER & Nuclei\\_Correlation\\_K\\_ER\\_AGP & Nuclei\\_Correlation\\_K\\_ER\\_DNA & Nuclei\\_Correlation\\_K\\_RNA\\_AGP & Nuclei\\_Correlation\\_Overlap\\_DNA\\_Mito & Nuclei\\_Correlation\\_Overlap\\_DNA\\_RNA & Nuclei\\_Correlation\\_Overlap\\_ER\\_AGP & Nuclei\\_Correlation\\_Overlap\\_ER\\_RNA & Nuclei\\_Correlation\\_Overlap\\_RNA\\_AGP & Nuclei\\_Granularity\\_10\\_DNA & Nuclei\\_Granularity\\_11\\_DNA & Nuclei\\_Granularity\\_12\\_DNA & Nuclei\\_Granularity\\_13\\_DNA & Nuclei\\_Granularity\\_2\\_DNA & Nuclei\\_Granularity\\_3\\_DNA & Nuclei\\_Granularity\\_7\\_DNA & Nuclei\\_Granularity\\_9\\_DNA & Nuclei\\_Intensity\\_IntegratedIntensityEdge\\_ER & Nuclei\\_Intensity\\_MassDisplacement\\_DNA & Nuclei\\_Intensity\\_MeanIntensityEdge\\_ER & Nuclei\\_Intensity\\_StdIntensityEdge\\_DNA & Nuclei\\_Neighbors\\_PercentTouching\\_2 & Nuclei\\_RadialDistribution\\_FracAtD\\_ER\\_1of4 & Nuclei\\_RadialDistribution\\_MeanFrac\\_AGP\\_1of4 & Nuclei\\_RadialDistribution\\_MeanFrac\\_ER\\_1of4 & Nuclei\\_RadialDistribution\\_MeanFrac\\_Mito\\_1of4 & Nuclei\\_RadialDistribution\\_RadialCV\\_AGP\\_1of4 & Nuclei\\_RadialDistribution\\_RadialCV\\_DNA\\_1of4 & Nuclei\\_RadialDistribution\\_RadialCV\\_ER\\_1of4 & Nuclei\\_RadialDistribution\\_RadialCV\\_Mito\\_1of4 & Nuclei\\_RadialDistribution\\_RadialCV\\_RNA\\_1of4 & Nuclei\\_Texture\\_AngularSecondMoment\\_DNA\\_20\\_03 & Nuclei\\_Texture\\_AngularSecondMoment\\_DNA\\_5\\_03 & Nuclei\\_Texture\\_AngularSecondMoment\\_ER\\_20\\_03 & Nuclei\\_Texture\\_Correlation\\_AGP\\_20\\_00 & Nuclei\\_Texture\\_Correlation\\_AGP\\_20\\_03 & Nuclei\\_Texture\\_Correlation\\_AGP\\_5\\_00 & Nuclei\\_Texture\\_Correlation\\_ER\\_20\\_02 & Nuclei\\_Texture\\_Correlation\\_Mito\\_5\\_00 & Nuclei\\_Texture\\_Correlation\\_RNA\\_20\\_02 & Nuclei\\_Texture\\_InfoMeas1\\_Mito\\_5\\_00 & Nuclei\\_Texture\\_InverseDifferenceMoment\\_AGP\\_20\\_02 & Nuclei\\_Texture\\_InverseDifferenceMoment\\_DNA\\_20\\_03 & Nuclei\\_Texture\\_InverseDifferenceMoment\\_ER\\_20\\_02\\\\\n",
       " <chr> & <chr> & <chr> & <chr> & <chr> & <chr> & <dbl> & <dbl> & <dbl> & <dbl> & <dbl> & <dbl> & <dbl> & <dbl> & <dbl> & <dbl> & <dbl> & <dbl> & <dbl> & <dbl> & <dbl> & <dbl> & <dbl> & <dbl> & <dbl> & <dbl> & <dbl> & <dbl> & <dbl> & <dbl> & <dbl> & <dbl> & <dbl> & <dbl> & <dbl> & <dbl> & <dbl> & <dbl> & <dbl> & <dbl> & <dbl> & <dbl> & <dbl> & <dbl> & <dbl> & <dbl> & <dbl> & <dbl> & <dbl> & <dbl> & <dbl> & <dbl> & <dbl> & <dbl> & <dbl> & <dbl> & <dbl> & <dbl> & <dbl> & <dbl> & <dbl> & <dbl> & <dbl> & <dbl> & <dbl> & <dbl> & <dbl> & <dbl> & <dbl> & <dbl> & <dbl> & <dbl> & <dbl> & <dbl> & <dbl> & <dbl> & <dbl> & <dbl> & <dbl> & <dbl> & <dbl> & <dbl> & <dbl> & <dbl> & <dbl> & <dbl> & <dbl> & <dbl> & <dbl> & <dbl> & <dbl> & <dbl> & <dbl> & <dbl> & <dbl> & <dbl> & <dbl> & <dbl> & <dbl> & <dbl> & <dbl> & <dbl> & <dbl> & <dbl> & <dbl> & <dbl> & <dbl> & <dbl> & <dbl> & <dbl> & <dbl> & <dbl> & <dbl> & <dbl> & <dbl> & <dbl> & <dbl> & <dbl> & <dbl> & <dbl> & <dbl> & <dbl> & <dbl> & <dbl> & <dbl> & <dbl> & <dbl> & <dbl> & <dbl> & <dbl> & <dbl> & <dbl> & <dbl> & <dbl> & <dbl> & <dbl> & <dbl> & <dbl> & <dbl> & <dbl> & <dbl> & <dbl> & <dbl> & <dbl> & <dbl> & <dbl> & <dbl> & <dbl> & <dbl> & <dbl> & <dbl> & <dbl> & <dbl> & <dbl> & <dbl> & <dbl> & <dbl> & <dbl> & <dbl> & <dbl> & <dbl> & <dbl> & <dbl> & <dbl> & <dbl> & <dbl> & <dbl> & <dbl> & <dbl> & <dbl> & <dbl> & <dbl> & <dbl> & <dbl> & <dbl> & <dbl> & <dbl> & <dbl> & <dbl> & <dbl> & <dbl> & <dbl> & <dbl> & <dbl> & <dbl> & <dbl> & <dbl> & <dbl> & <dbl> & <dbl> & <dbl>\\\\\n",
       "\\hline\n",
       "\t MutClones & B02 & MutClones & MutClones & B02 & BZ001 &  0.6034418 & -3.05703 & 0.05068862 &  0.6585738 & 0.91428417 &  0.8225168 &  0.6744908 & -0.5407673 & 0.6873504 & -0.4250403 &  0.0000000 &  0.6432103 &  0.2411336 & 0.61935496 &  0.1389940 & -0.4104991 & -0.6744908 & -0.4121653 &  1.0676047 & -1.1225623 & -0.2023516 & -1.181852 & -1.01688 & -1.4247107 & -0.8121534 &  1.118994 &  0.000000 & -0.5454693 & -5.925969 & 4.399128 & -2.028102 & 0.3796662 & 1.571303 &  1.823437 & 0.1606905 & -1.2713057 &  0.7421402 & -1.017278 & -0.7036421 & -0.1530867 & -0.3665509 &  4.4465965 & 2.169063 &  1.509036 &  3.6140659 &  2.0152819 &  1.436894 &  2.745819 & 8.892430 & 3.860671 & 2.4033447 & 1.2344533 & 0.8889793 & -0.7822783 & -1.890775 & -2.8367352 & -4.5804369 & 0.9400182 & -0.7562816 & -1.732702 & -0.7770541 & -1.374484 & -0.7683559 & -1.2684561 & -1.3522753 & -1.316477 &   -0.8768271 & -5.91467132 &  -1.024132 & -6.44723838 & -0.1998785 & -1.0571709 & -0.9159987 & 0.7445482 &  1.0244916 &  0.79239343 & -2.3218597 & -1.9637509 & -1.943892 & -1.53180 &  0.2172557 & -0.2637737 & -0.8986974 &  0.2677582 &  0.2977716 &  0.2530089 & 0.6744908 &  3.2537846 & 3.5584158 & 2.132992 &  3.8311977 & -1.448499 & -1.185312 & -0.5119828 & 2.524963 & 0.7188128 &  1.004038 &  0.9774841 & -2.060006 & -0.3121535 & 0.0000000 & 4.216735 & 2.9859640 & -0.1180429 &  0.5287381 &  0.8819978 & 0.07151506 & 0.6481063 & -0.6744908 & -0.6224524 & 0.8797940 & 0.4655992 & -0.07375436 & -1.22831796 & -0.6782985 & 0.6132357 &  2.192259 & -0.4089542 & -70.884001 & 0.1402924 &  3.463933 & -0.6554092 & -0.67449076 &  0.00000 & -1.384608 & -0.5763403 &  0.7297772 & 0.3514724 &  0.4808169 & -0.4144064 &  0.7337941 &  0.5679574 &  0.62783685 & -0.5759549 &  0.4160055 & -0.1766978 &  0.7424808 & -0.1504633 & -0.7090397 &  0.03279892 & -0.6653426 &  6.744908e-01 &  0.9350905 & -4.0396456 & -0.1910610 & 0.1081476 & -0.110512 & -0.5143409 & 0.6711284 & -0.6374876 &  0.2691755 & -0.1416671 &  0.3375624 &  0.2039236 & -0.7220632 &  0.06389289 &  0.2874066 &  0.4918508 &  2.0989838 &  0.6510253 &  0.5472246 & -0.1767803 &  0.5016117 & 0.3293654 &  0.7436528 & 0.6744908 &  0.78212165 & -0.02335394 & -0.9649702 &  0.02712381 & -0.3889524 & -0.2737601 & 2.746263 & 16.07267 & 1.315993 &  3.3582920 & 1.126295 &  0.00000 & 1.204256 &  0.4206682 & 0.5705776 & -1.320394 & -0.2247533 & 1.311671 & 0.212493\\\\\n",
       "\t MutClones & B03 & MutClones & MutClones & B03 & BZ002 & -1.0295421 & -1.41911 & 1.11426953 & -0.9345095 & 0.03489556 & -0.9428188 & -0.1287955 &  0.6357084 & 0.0000000 & -1.6385358 & -0.9433253 & -0.4998312 & -0.8219632 & 0.02009538 & -0.7848781 &  1.7237501 & -0.5344808 & -1.8896306 & -0.3275776 &  0.4440288 & -1.1025315 & -1.901454 &  0.31152 & -0.4675815 & -2.2662595 & -1.193960 & -0.610466 &  0.4308656 &  0.000000 & 0.000000 & -1.666799 & 0.5980944 & 1.691665 & -1.466478 & 0.6844292 &  0.4065191 & -0.5263722 &  1.515565 & -0.7506511 & -1.1690064 & -0.6324829 & -0.3081931 & 0.196355 & -2.610414 & -0.8690959 & -0.6390657 & -1.894029 & -1.012617 & 2.222972 & 1.509455 & 0.5372446 & 0.6744908 & 2.4967905 &  3.2883966 & -2.752969 & -0.4751814 &  0.1492255 & 0.6588670 &  2.4998443 &  1.303001 &  1.3452666 &  1.335531 & -0.9569703 & -0.8906182 & -0.2104985 &  1.362909 & -104.4614583 & -0.08490217 & -19.082645 & -0.09449845 & -1.0634361 & -0.5684687 &  0.9098064 & 0.3257147 & -0.8559487 & -0.03352639 &  0.6490438 & -0.7040137 &  2.463244 & -0.29697 & -1.3884755 & -1.5681971 &  0.5804420 & -1.3750683 & -0.8911064 & -1.0057973 & 0.7420993 & -0.7016526 & 0.6358591 & 1.569682 & -0.1921971 & -2.235345 & -1.018350 &  1.9030769 & 0.000000 & 0.6744908 & -1.049336 & -0.2397701 &  1.437919 & -1.2207343 & 0.4328971 & 2.037154 & 0.5867503 &  0.3994015 & -0.7239590 & -0.4060158 & 1.02891579 & 0.4216810 &  2.6205880 &  2.6878763 & 0.1570417 & 0.5564633 &  2.04370750 & -0.07918443 & -1.4055267 & 1.4813448 & -0.731073 & -1.5653827 &  -1.586081 & 0.1710747 & -1.492934 &  2.6563007 & -0.02818518 & -4.32335 & -1.249470 & -3.9814123 & -3.7829494 & 3.1440000 & -4.2132621 &  0.7528194 & -0.8451807 & -2.9396731 & -0.06033748 &  4.8422239 & -3.1658181 & -0.1531662 & -1.3276346 & -0.9137090 & -2.4292465 & -2.66557239 & -1.2427459 & -1.257853e+04 & -0.8256494 & -0.5221573 & -0.5098504 & 1.3832590 &  1.326507 &  0.9533964 & 0.8609933 &  1.1534025 & -1.5646359 & -2.0916309 & -1.1376491 & -1.6685192 & -1.1889998 & -1.75122486 & -0.5242672 & -1.5769161 & -0.8515153 & -1.3443417 & -0.3538539 & -2.5888045 & -0.2204270 & 0.4165020 & -0.1275270 & 0.1201733 & -0.07514702 & -0.67449076 & -1.8009555 & -0.82266958 &  1.1932434 & -0.4151795 & 1.207611 &  3.78495 & 1.363974 & -0.3068762 & 1.536572 & -4.29316 & 3.379792 & -6.8157241 & 0.4181798 &  3.899485 &  2.1667509 & 2.502230 & 2.646517\\\\\n",
       "\\end{tabular}\n"
      ],
      "text/markdown": [
       "\n",
       "A tibble: 2 × 191\n",
       "\n",
       "| Metadata_Plate &lt;chr&gt; | Metadata_Well &lt;chr&gt; | Metadata_Assay_Plate_Barcode &lt;chr&gt; | Metadata_Plate_Map_Name &lt;chr&gt; | Metadata_well_position &lt;chr&gt; | Metadata_clone_number &lt;chr&gt; | Cells_AreaShape_Compactness &lt;dbl&gt; | Cells_AreaShape_EulerNumber &lt;dbl&gt; | Cells_AreaShape_Extent &lt;dbl&gt; | Cells_AreaShape_FormFactor &lt;dbl&gt; | ⋯ ⋯ | Nuclei_Texture_Correlation_AGP_20_00 &lt;dbl&gt; | Nuclei_Texture_Correlation_AGP_20_03 &lt;dbl&gt; | Nuclei_Texture_Correlation_AGP_5_00 &lt;dbl&gt; | Nuclei_Texture_Correlation_ER_20_02 &lt;dbl&gt; | Nuclei_Texture_Correlation_Mito_5_00 &lt;dbl&gt; | Nuclei_Texture_Correlation_RNA_20_02 &lt;dbl&gt; | Nuclei_Texture_InfoMeas1_Mito_5_00 &lt;dbl&gt; | Nuclei_Texture_InverseDifferenceMoment_AGP_20_02 &lt;dbl&gt; | Nuclei_Texture_InverseDifferenceMoment_DNA_20_03 &lt;dbl&gt; | Nuclei_Texture_InverseDifferenceMoment_ER_20_02 &lt;dbl&gt; |\n",
       "|---|---|---|---|---|---|---|---|---|---|---|---|---|---|---|---|---|---|---|---|---|\n",
       "| MutClones | B02 | MutClones | MutClones | B02 | BZ001 |  0.6034418 | -3.05703 | 0.05068862 |  0.6585738 | ⋯ |  3.3582920 | 1.126295 |  0.00000 | 1.204256 |  0.4206682 | 0.5705776 | -1.320394 | -0.2247533 | 1.311671 | 0.212493 |\n",
       "| MutClones | B03 | MutClones | MutClones | B03 | BZ002 | -1.0295421 | -1.41911 | 1.11426953 | -0.9345095 | ⋯ | -0.3068762 | 1.536572 | -4.29316 | 3.379792 | -6.8157241 | 0.4181798 |  3.899485 |  2.1667509 | 2.502230 | 2.646517 |\n",
       "\n"
      ],
      "text/plain": [
       "  Metadata_Plate Metadata_Well Metadata_Assay_Plate_Barcode\n",
       "1 MutClones      B02           MutClones                   \n",
       "2 MutClones      B03           MutClones                   \n",
       "  Metadata_Plate_Map_Name Metadata_well_position Metadata_clone_number\n",
       "1 MutClones               B02                    BZ001                \n",
       "2 MutClones               B03                    BZ002                \n",
       "  Cells_AreaShape_Compactness Cells_AreaShape_EulerNumber\n",
       "1  0.6034418                  -3.05703                   \n",
       "2 -1.0295421                  -1.41911                   \n",
       "  Cells_AreaShape_Extent Cells_AreaShape_FormFactor ⋯\n",
       "1 0.05068862              0.6585738                 ⋯\n",
       "2 1.11426953             -0.9345095                 ⋯\n",
       "  Nuclei_Texture_Correlation_AGP_20_00 Nuclei_Texture_Correlation_AGP_20_03\n",
       "1  3.3582920                           1.126295                            \n",
       "2 -0.3068762                           1.536572                            \n",
       "  Nuclei_Texture_Correlation_AGP_5_00 Nuclei_Texture_Correlation_ER_20_02\n",
       "1  0.00000                            1.204256                           \n",
       "2 -4.29316                            3.379792                           \n",
       "  Nuclei_Texture_Correlation_Mito_5_00 Nuclei_Texture_Correlation_RNA_20_02\n",
       "1  0.4206682                           0.5705776                           \n",
       "2 -6.8157241                           0.4181798                           \n",
       "  Nuclei_Texture_InfoMeas1_Mito_5_00\n",
       "1 -1.320394                         \n",
       "2  3.899485                         \n",
       "  Nuclei_Texture_InverseDifferenceMoment_AGP_20_02\n",
       "1 -0.2247533                                      \n",
       "2  2.1667509                                      \n",
       "  Nuclei_Texture_InverseDifferenceMoment_DNA_20_03\n",
       "1 1.311671                                        \n",
       "2 2.502230                                        \n",
       "  Nuclei_Texture_InverseDifferenceMoment_ER_20_02\n",
       "1 0.212493                                       \n",
       "2 2.646517                                       "
      ]
     },
     "metadata": {},
     "output_type": "display_data"
    }
   ],
   "source": [
    "batch <- \"2019_06_25_Batch3\"\n",
    "plate <- \"MutClones\"\n",
    "\n",
    "file <- file.path(\"..\", \"..\", \"backend\", batch, plate, paste0(plate, \"_normalized_variable_selected.csv\"))\n",
    "batch3_mut_df <- load_data(file)\n",
    "\n",
    "print(dim(batch3_mut_df))\n",
    "head(batch3_mut_df, 2)"
   ]
  },
  {
   "cell_type": "markdown",
   "metadata": {},
   "source": [
    "### Load Wildtype Plate"
   ]
  },
  {
   "cell_type": "code",
   "execution_count": 8,
   "metadata": {},
   "outputs": [
    {
     "name": "stdout",
     "output_type": "stream",
     "text": [
      "[1]  48 191\n"
     ]
    },
    {
     "data": {
      "text/html": [
       "<table>\n",
       "<caption>A tibble: 2 × 191</caption>\n",
       "<thead>\n",
       "\t<tr><th scope=col>Metadata_Plate</th><th scope=col>Metadata_Well</th><th scope=col>Metadata_Assay_Plate_Barcode</th><th scope=col>Metadata_Plate_Map_Name</th><th scope=col>Metadata_well_position</th><th scope=col>Metadata_clone_number</th><th scope=col>Cells_AreaShape_Compactness</th><th scope=col>Cells_AreaShape_EulerNumber</th><th scope=col>Cells_AreaShape_Extent</th><th scope=col>Cells_AreaShape_FormFactor</th><th scope=col>⋯</th><th scope=col>Nuclei_Texture_Correlation_AGP_20_00</th><th scope=col>Nuclei_Texture_Correlation_AGP_20_03</th><th scope=col>Nuclei_Texture_Correlation_AGP_5_00</th><th scope=col>Nuclei_Texture_Correlation_ER_20_02</th><th scope=col>Nuclei_Texture_Correlation_Mito_5_00</th><th scope=col>Nuclei_Texture_Correlation_RNA_20_02</th><th scope=col>Nuclei_Texture_InfoMeas1_Mito_5_00</th><th scope=col>Nuclei_Texture_InverseDifferenceMoment_AGP_20_02</th><th scope=col>Nuclei_Texture_InverseDifferenceMoment_DNA_20_03</th><th scope=col>Nuclei_Texture_InverseDifferenceMoment_ER_20_02</th></tr>\n",
       "\t<tr><th scope=col>&lt;chr&gt;</th><th scope=col>&lt;chr&gt;</th><th scope=col>&lt;chr&gt;</th><th scope=col>&lt;chr&gt;</th><th scope=col>&lt;chr&gt;</th><th scope=col>&lt;chr&gt;</th><th scope=col>&lt;dbl&gt;</th><th scope=col>&lt;dbl&gt;</th><th scope=col>&lt;dbl&gt;</th><th scope=col>&lt;dbl&gt;</th><th scope=col>⋯</th><th scope=col>&lt;dbl&gt;</th><th scope=col>&lt;dbl&gt;</th><th scope=col>&lt;dbl&gt;</th><th scope=col>&lt;dbl&gt;</th><th scope=col>&lt;dbl&gt;</th><th scope=col>&lt;dbl&gt;</th><th scope=col>&lt;dbl&gt;</th><th scope=col>&lt;dbl&gt;</th><th scope=col>&lt;dbl&gt;</th><th scope=col>&lt;dbl&gt;</th></tr>\n",
       "</thead>\n",
       "<tbody>\n",
       "\t<tr><td>WTClones</td><td>B02</td><td>WTClones</td><td>WTClones</td><td>B02</td><td>WT001</td><td>-0.68165560</td><td> 0.2433688</td><td> 0.5543276</td><td>0.27729305</td><td>⋯</td><td>-1.992909</td><td>-0.5624821</td><td>-0.7311029</td><td>-1.798579</td><td>-2.05401899</td><td>-1.2708266</td><td> 0.67166455</td><td>-0.08257108</td><td>0.4544209</td><td>-0.6100711</td></tr>\n",
       "\t<tr><td>WTClones</td><td>B03</td><td>WTClones</td><td>WTClones</td><td>B03</td><td>WT001</td><td> 0.05125114</td><td>-0.4970395</td><td>-0.1045300</td><td>0.07257513</td><td>⋯</td><td>-1.922169</td><td>-0.7716781</td><td>-0.1594808</td><td>-1.284761</td><td> 0.01782447</td><td>-0.6921738</td><td>-0.06878273</td><td>-0.44354985</td><td>0.2891828</td><td>-0.5773808</td></tr>\n",
       "</tbody>\n",
       "</table>\n"
      ],
      "text/latex": [
       "A tibble: 2 × 191\n",
       "\\begin{tabular}{r|lllllllllllllllllllllllllllllllllllllllllllllllllllllllllllllllllllllllllllllllllllllllllllllllllllllllllllllllllllllllllllllllllllllllllllllllllllllllllllllllllllllllllllllllllllllllllllllll}\n",
       " Metadata\\_Plate & Metadata\\_Well & Metadata\\_Assay\\_Plate\\_Barcode & Metadata\\_Plate\\_Map\\_Name & Metadata\\_well\\_position & Metadata\\_clone\\_number & Cells\\_AreaShape\\_Compactness & Cells\\_AreaShape\\_EulerNumber & Cells\\_AreaShape\\_Extent & Cells\\_AreaShape\\_FormFactor & Cells\\_AreaShape\\_Orientation & Cells\\_AreaShape\\_Solidity & Cells\\_AreaShape\\_Zernike\\_1\\_1 & Cells\\_AreaShape\\_Zernike\\_2\\_0 & Cells\\_AreaShape\\_Zernike\\_2\\_2 & Cells\\_AreaShape\\_Zernike\\_3\\_1 & Cells\\_AreaShape\\_Zernike\\_4\\_0 & Cells\\_AreaShape\\_Zernike\\_4\\_2 & Cells\\_AreaShape\\_Zernike\\_4\\_4 & Cells\\_AreaShape\\_Zernike\\_5\\_1 & Cells\\_AreaShape\\_Zernike\\_6\\_0 & Cells\\_AreaShape\\_Zernike\\_6\\_2 & Cells\\_AreaShape\\_Zernike\\_6\\_4 & Cells\\_AreaShape\\_Zernike\\_6\\_6 & Cells\\_AreaShape\\_Zernike\\_7\\_1 & Cells\\_AreaShape\\_Zernike\\_7\\_3 & Cells\\_AreaShape\\_Zernike\\_8\\_0 & Cells\\_AreaShape\\_Zernike\\_8\\_2 & Cells\\_AreaShape\\_Zernike\\_8\\_4 & Cells\\_AreaShape\\_Zernike\\_8\\_6 & Cells\\_AreaShape\\_Zernike\\_8\\_8 & Cells\\_AreaShape\\_Zernike\\_9\\_1 & Cells\\_AreaShape\\_Zernike\\_9\\_3 & Cells\\_AreaShape\\_Zernike\\_9\\_5 & Cells\\_Correlation\\_Costes\\_RNA\\_Mito & Cells\\_Correlation\\_K\\_DNA\\_RNA & Cells\\_Correlation\\_K\\_ER\\_DNA & Cells\\_Correlation\\_Overlap\\_DNA\\_AGP & Cells\\_Correlation\\_Overlap\\_DNA\\_ER & Cells\\_Correlation\\_Overlap\\_DNA\\_Mito & Cells\\_Correlation\\_Overlap\\_DNA\\_RNA & Cells\\_Correlation\\_Overlap\\_ER\\_RNA & Cells\\_Correlation\\_Overlap\\_Mito\\_RNA & Cells\\_Correlation\\_Overlap\\_RNA\\_AGP & Cells\\_Granularity\\_2\\_AGP & Cells\\_Granularity\\_2\\_ER & Cells\\_Granularity\\_2\\_RNA & Cells\\_Intensity\\_IntegratedIntensityEdge\\_AGP & Cells\\_Intensity\\_IntegratedIntensityEdge\\_RNA & Cells\\_Intensity\\_IntegratedIntensity\\_DNA & Cells\\_Intensity\\_IntegratedIntensity\\_ER & Cells\\_Intensity\\_LowerQuartileIntensity\\_AGP & Cells\\_Intensity\\_MaxIntensityEdge\\_ER & Cells\\_Intensity\\_MedianIntensity\\_RNA & Cells\\_Texture\\_AngularSecondMoment\\_DNA\\_10\\_03 & Cells\\_Texture\\_AngularSecondMoment\\_DNA\\_20\\_01 & Cells\\_Texture\\_Correlation\\_DNA\\_20\\_03 & Cells\\_Texture\\_Correlation\\_ER\\_20\\_03 & Cells\\_Texture\\_InfoMeas1\\_DNA\\_10\\_03 & Cells\\_Texture\\_InfoMeas1\\_Mito\\_10\\_01 & Cells\\_Texture\\_InfoMeas2\\_DNA\\_10\\_03 & Cytoplasm\\_AreaShape\\_Center\\_Y & Cytoplasm\\_AreaShape\\_EulerNumber & Cytoplasm\\_AreaShape\\_Orientation & Cytoplasm\\_AreaShape\\_Zernike\\_3\\_1 & Cytoplasm\\_AreaShape\\_Zernike\\_5\\_3 & Cytoplasm\\_AreaShape\\_Zernike\\_5\\_5 & Cytoplasm\\_AreaShape\\_Zernike\\_7\\_7 & Cytoplasm\\_AreaShape\\_Zernike\\_8\\_4 & Cytoplasm\\_AreaShape\\_Zernike\\_8\\_6 & Cytoplasm\\_AreaShape\\_Zernike\\_9\\_5 & Cytoplasm\\_AreaShape\\_Zernike\\_9\\_9 & Cytoplasm\\_Correlation\\_Costes\\_Mito\\_DNA & Cytoplasm\\_Correlation\\_Costes\\_RNA\\_AGP & Cytoplasm\\_Correlation\\_Costes\\_RNA\\_DNA & Cytoplasm\\_Correlation\\_Costes\\_RNA\\_ER & Cytoplasm\\_Correlation\\_K\\_DNA\\_Mito & Cytoplasm\\_Correlation\\_K\\_ER\\_DNA & Cytoplasm\\_Correlation\\_K\\_RNA\\_ER & Cytoplasm\\_Correlation\\_Overlap\\_DNA\\_AGP & Cytoplasm\\_Correlation\\_Overlap\\_DNA\\_Mito & Cytoplasm\\_Correlation\\_Overlap\\_DNA\\_RNA & Cytoplasm\\_Granularity\\_2\\_AGP & Cytoplasm\\_Granularity\\_2\\_ER & Cytoplasm\\_Granularity\\_2\\_Mito & Cytoplasm\\_Granularity\\_2\\_RNA & Cytoplasm\\_Granularity\\_3\\_AGP & Cytoplasm\\_Granularity\\_3\\_ER & Cytoplasm\\_Granularity\\_3\\_Mito & Cytoplasm\\_Granularity\\_3\\_RNA & Cytoplasm\\_Granularity\\_4\\_AGP & Cytoplasm\\_Granularity\\_4\\_ER & Cytoplasm\\_Intensity\\_IntegratedIntensityEdge\\_ER & Cytoplasm\\_Intensity\\_IntegratedIntensityEdge\\_RNA & Cytoplasm\\_Intensity\\_IntegratedIntensity\\_DNA & Cytoplasm\\_Intensity\\_IntegratedIntensity\\_ER & Cytoplasm\\_Intensity\\_IntegratedIntensity\\_RNA & Cytoplasm\\_Intensity\\_MaxIntensityEdge\\_DNA & Cytoplasm\\_Location\\_MaxIntensity\\_X\\_Mito & Cytoplasm\\_RadialDistribution\\_FracAtD\\_AGP\\_3of4 & Cytoplasm\\_RadialDistribution\\_FracAtD\\_DNA\\_1of4 & Cytoplasm\\_RadialDistribution\\_FracAtD\\_Mito\\_1of4 & Cytoplasm\\_RadialDistribution\\_MeanFrac\\_DNA\\_2of4 & Cytoplasm\\_RadialDistribution\\_MeanFrac\\_DNA\\_3of4 & Cytoplasm\\_RadialDistribution\\_MeanFrac\\_DNA\\_4of4 & Cytoplasm\\_RadialDistribution\\_MeanFrac\\_Mito\\_1of4 & Cytoplasm\\_RadialDistribution\\_MeanFrac\\_RNA\\_1of4 & Cytoplasm\\_Texture\\_AngularSecondMoment\\_DNA\\_20\\_03 & Cytoplasm\\_Texture\\_AngularSecondMoment\\_ER\\_5\\_00 & Cytoplasm\\_Texture\\_Correlation\\_AGP\\_5\\_00 & Cytoplasm\\_Texture\\_Correlation\\_DNA\\_10\\_00 & Cytoplasm\\_Texture\\_Correlation\\_Mito\\_10\\_00 & Cytoplasm\\_Texture\\_Correlation\\_RNA\\_20\\_00 & Cytoplasm\\_Texture\\_Correlation\\_RNA\\_20\\_01 & Cytoplasm\\_Texture\\_InfoMeas1\\_AGP\\_20\\_00 & Cytoplasm\\_Texture\\_InfoMeas1\\_AGP\\_5\\_03 & Cytoplasm\\_Texture\\_InfoMeas1\\_DNA\\_5\\_00 & Cytoplasm\\_Texture\\_InfoMeas1\\_ER\\_5\\_02 & Cytoplasm\\_Texture\\_InfoMeas1\\_RNA\\_20\\_03 & Cytoplasm\\_Texture\\_InfoMeas2\\_DNA\\_5\\_00 & Cytoplasm\\_Texture\\_InfoMeas2\\_ER\\_20\\_00 & Cytoplasm\\_Texture\\_InverseDifferenceMoment\\_ER\\_20\\_03 & Cytoplasm\\_Texture\\_SumAverage\\_AGP\\_20\\_00 & Cytoplasm\\_Texture\\_SumVariance\\_Mito\\_10\\_01 & Nuclei\\_AreaShape\\_EulerNumber & Nuclei\\_AreaShape\\_Orientation & Nuclei\\_AreaShape\\_Perimeter & Nuclei\\_AreaShape\\_Zernike\\_0\\_0 & Nuclei\\_AreaShape\\_Zernike\\_1\\_1 & Nuclei\\_AreaShape\\_Zernike\\_2\\_0 & Nuclei\\_AreaShape\\_Zernike\\_2\\_2 & Nuclei\\_AreaShape\\_Zernike\\_4\\_4 & Nuclei\\_AreaShape\\_Zernike\\_5\\_1 & Nuclei\\_AreaShape\\_Zernike\\_6\\_0 & Nuclei\\_AreaShape\\_Zernike\\_6\\_2 & Nuclei\\_AreaShape\\_Zernike\\_6\\_4 & Nuclei\\_AreaShape\\_Zernike\\_7\\_1 & Nuclei\\_AreaShape\\_Zernike\\_7\\_3 & Nuclei\\_AreaShape\\_Zernike\\_8\\_0 & Nuclei\\_AreaShape\\_Zernike\\_8\\_2 & Nuclei\\_AreaShape\\_Zernike\\_8\\_4 & Nuclei\\_AreaShape\\_Zernike\\_8\\_6 & Nuclei\\_AreaShape\\_Zernike\\_9\\_1 & Nuclei\\_AreaShape\\_Zernike\\_9\\_3 & Nuclei\\_Correlation\\_Correlation\\_ER\\_AGP & Nuclei\\_Correlation\\_Correlation\\_ER\\_RNA & Nuclei\\_Correlation\\_Correlation\\_RNA\\_AGP & Nuclei\\_Correlation\\_Costes\\_DNA\\_ER & Nuclei\\_Correlation\\_K\\_ER\\_AGP & Nuclei\\_Correlation\\_K\\_ER\\_DNA & Nuclei\\_Correlation\\_K\\_RNA\\_AGP & Nuclei\\_Correlation\\_Overlap\\_DNA\\_Mito & Nuclei\\_Correlation\\_Overlap\\_DNA\\_RNA & Nuclei\\_Correlation\\_Overlap\\_ER\\_AGP & Nuclei\\_Correlation\\_Overlap\\_ER\\_RNA & Nuclei\\_Correlation\\_Overlap\\_RNA\\_AGP & Nuclei\\_Granularity\\_10\\_DNA & Nuclei\\_Granularity\\_11\\_DNA & Nuclei\\_Granularity\\_12\\_DNA & Nuclei\\_Granularity\\_13\\_DNA & Nuclei\\_Granularity\\_2\\_DNA & Nuclei\\_Granularity\\_3\\_DNA & Nuclei\\_Granularity\\_7\\_DNA & Nuclei\\_Granularity\\_9\\_DNA & Nuclei\\_Intensity\\_IntegratedIntensityEdge\\_ER & Nuclei\\_Intensity\\_MassDisplacement\\_DNA & Nuclei\\_Intensity\\_MeanIntensityEdge\\_ER & Nuclei\\_Intensity\\_StdIntensityEdge\\_DNA & Nuclei\\_Neighbors\\_PercentTouching\\_2 & Nuclei\\_RadialDistribution\\_FracAtD\\_ER\\_1of4 & Nuclei\\_RadialDistribution\\_MeanFrac\\_AGP\\_1of4 & Nuclei\\_RadialDistribution\\_MeanFrac\\_ER\\_1of4 & Nuclei\\_RadialDistribution\\_MeanFrac\\_Mito\\_1of4 & Nuclei\\_RadialDistribution\\_RadialCV\\_AGP\\_1of4 & Nuclei\\_RadialDistribution\\_RadialCV\\_DNA\\_1of4 & Nuclei\\_RadialDistribution\\_RadialCV\\_ER\\_1of4 & Nuclei\\_RadialDistribution\\_RadialCV\\_Mito\\_1of4 & Nuclei\\_RadialDistribution\\_RadialCV\\_RNA\\_1of4 & Nuclei\\_Texture\\_AngularSecondMoment\\_DNA\\_20\\_03 & Nuclei\\_Texture\\_AngularSecondMoment\\_DNA\\_5\\_03 & Nuclei\\_Texture\\_AngularSecondMoment\\_ER\\_20\\_03 & Nuclei\\_Texture\\_Correlation\\_AGP\\_20\\_00 & Nuclei\\_Texture\\_Correlation\\_AGP\\_20\\_03 & Nuclei\\_Texture\\_Correlation\\_AGP\\_5\\_00 & Nuclei\\_Texture\\_Correlation\\_ER\\_20\\_02 & Nuclei\\_Texture\\_Correlation\\_Mito\\_5\\_00 & Nuclei\\_Texture\\_Correlation\\_RNA\\_20\\_02 & Nuclei\\_Texture\\_InfoMeas1\\_Mito\\_5\\_00 & Nuclei\\_Texture\\_InverseDifferenceMoment\\_AGP\\_20\\_02 & Nuclei\\_Texture\\_InverseDifferenceMoment\\_DNA\\_20\\_03 & Nuclei\\_Texture\\_InverseDifferenceMoment\\_ER\\_20\\_02\\\\\n",
       " <chr> & <chr> & <chr> & <chr> & <chr> & <chr> & <dbl> & <dbl> & <dbl> & <dbl> & <dbl> & <dbl> & <dbl> & <dbl> & <dbl> & <dbl> & <dbl> & <dbl> & <dbl> & <dbl> & <dbl> & <dbl> & <dbl> & <dbl> & <dbl> & <dbl> & <dbl> & <dbl> & <dbl> & <dbl> & <dbl> & <dbl> & <dbl> & <dbl> & <dbl> & <dbl> & <dbl> & <dbl> & <dbl> & <dbl> & <dbl> & <dbl> & <dbl> & <dbl> & <dbl> & <dbl> & <dbl> & <dbl> & <dbl> & <dbl> & <dbl> & <dbl> & <dbl> & <dbl> & <dbl> & <dbl> & <dbl> & <dbl> & <dbl> & <dbl> & <dbl> & <dbl> & <dbl> & <dbl> & <dbl> & <dbl> & <dbl> & <dbl> & <dbl> & <dbl> & <dbl> & <dbl> & <dbl> & <dbl> & <dbl> & <dbl> & <dbl> & <dbl> & <dbl> & <dbl> & <dbl> & <dbl> & <dbl> & <dbl> & <dbl> & <dbl> & <dbl> & <dbl> & <dbl> & <dbl> & <dbl> & <dbl> & <dbl> & <dbl> & <dbl> & <dbl> & <dbl> & <dbl> & <dbl> & <dbl> & <dbl> & <dbl> & <dbl> & <dbl> & <dbl> & <dbl> & <dbl> & <dbl> & <dbl> & <dbl> & <dbl> & <dbl> & <dbl> & <dbl> & <dbl> & <dbl> & <dbl> & <dbl> & <dbl> & <dbl> & <dbl> & <dbl> & <dbl> & <dbl> & <dbl> & <dbl> & <dbl> & <dbl> & <dbl> & <dbl> & <dbl> & <dbl> & <dbl> & <dbl> & <dbl> & <dbl> & <dbl> & <dbl> & <dbl> & <dbl> & <dbl> & <dbl> & <dbl> & <dbl> & <dbl> & <dbl> & <dbl> & <dbl> & <dbl> & <dbl> & <dbl> & <dbl> & <dbl> & <dbl> & <dbl> & <dbl> & <dbl> & <dbl> & <dbl> & <dbl> & <dbl> & <dbl> & <dbl> & <dbl> & <dbl> & <dbl> & <dbl> & <dbl> & <dbl> & <dbl> & <dbl> & <dbl> & <dbl> & <dbl> & <dbl> & <dbl> & <dbl> & <dbl> & <dbl> & <dbl> & <dbl> & <dbl> & <dbl> & <dbl> & <dbl> & <dbl> & <dbl> & <dbl> & <dbl> & <dbl> & <dbl>\\\\\n",
       "\\hline\n",
       "\t WTClones & B02 & WTClones & WTClones & B02 & WT001 & -0.68165560 &  0.2433688 &  0.5543276 & 0.27729305 & -1.3000090 & -0.1365990 &  1.5698406 &  0.2141031 & 0.3717444 & -0.6113439 & -2.3174113 & -0.58164161 & 0.03017009 & 1.4889301 & -1.5706086 & -0.2447178 & -1.0864652 & 0.6030137 & -0.1554458 & 0.4886395 & -2.2160464 & -0.2020866 & 0.4069333 & -0.53377232 & 0.4481108 & -0.2704104 &  0.05570517 & 0.09289697 & -2.6937079 & 0.6277322 & -1.240957 &  0.56170033 & -0.07353681 & 0.4157878 & -0.3370094 & -0.05877977 & 0.5360322 & 2.116330 & -0.6828268 & -1.851432 & -0.1750853 & 0.6582425 & 1.820259 & -0.7179715 & -0.9384254 & 1.291011 & 0.3860860 & 0.8558498 & -0.24546333 & 0.5166148 & -0.2917426 & -0.7797561 & 0.6589794 & 1.45104706 & -0.4498256 & -0.9213782 & -0.01240881 & -0.6707998 & -1.674445 & -1.7133766 & -1.339735 & -0.6362805 & -2.571962 & -1.552892 & -1.2126505 & -0.5145461 & -1.520601 & -0.8473811 & -0.3531263 & -0.9174802 & -2.4338314 &  0.02588216 &  0.2123070 &  0.59460047 & 0.7080788 & -0.1818550 & 1.0077299 & 0.7176537 & -0.1070234 & 1.4180858 & -0.6760521 & -0.8054778 & -0.7020483 &  1.0341491 & -1.539406 & -2.500817 & 1.913996 & 0.9511873 & -0.6151826 & -0.5715616 & -0.4902888 & 0.3662078 & 0.6702432 & -0.8881482 & -0.1089763 & 0.3673510 & 0.35619820 & -0.008383341 & -0.8074619 & 1.8284262 & 0.9785446 & 0.2299408 & 0.55908098 & -1.1702422 & -0.7017749 & -1.654479305 & -0.591152010 & -0.3558254 & -0.4764457 & -0.4139617 & -1.201584 & -0.6937399 & -0.4624232 & -0.07692181 & -0.2463347 & -0.01290436 & 1.394065 & -1.7165423 & -0.9939401 & -1.13547101 & -0.4477945 & -0.7380679 & 0.7603600 & 0.2721957 & 0.4160488 & 0.3014623 & 0.4375347 & -0.1821993 &  0.008303413 & 1.4212699 & -0.009545063 & 0.3761040 & -0.60762 & -0.18982674 & 0.07326708 & 1.0690240 & -0.11857167 & 0.2480654 & -1.5964996 & -2.0861605 & -1.412037 & 0.5252934 & -0.6806941 & -0.2850597 & -1.2302056 & 2.879925 & 1.1362358 & 0.7038624 & 0.07297652 & 1.8725546 & -1.1803670 & -1.0308407 & -0.1810568 & -0.5260078 & -0.33468536 & -0.6756280 & -1.1885308 & -0.9376779 & 0.8057601 & -0.47248951 & 0.8535850 & 0.3458049 & 1.276268 & -1.916640 & -0.9192596 & -1.3388825 & -1.0268190 & -1.642040 & -0.8973589 & -1.752679 & -1.5749971 & -0.7573272 & 1.388695 & 0.49171384 &  0.2650884 & -1.992909 & -0.5624821 & -0.7311029 & -1.798579 & -2.05401899 & -1.2708266 &  0.67166455 & -0.08257108 & 0.4544209 & -0.6100711\\\\\n",
       "\t WTClones & B03 & WTClones & WTClones & B03 & WT001 &  0.05125114 & -0.4970395 & -0.1045300 & 0.07257513 & -0.3636073 & -0.5539432 & -0.3432208 & -0.4202204 & 1.0383049 & -0.3460640 & -0.4802944 & -0.08912462 & 1.31804972 & 0.3848415 & -0.6101715 &  1.1239792 & -0.1942603 & 0.8297624 &  0.7675562 & 0.6084058 & -0.2104681 & -0.7190218 & 1.2089921 & -0.07024564 & 1.3970090 & -0.2284575 & -0.96637348 & 1.48434150 &  0.9040093 & 1.0505967 & -1.656292 & -0.01935841 &  0.07429716 & 0.2837777 & -0.2444584 &  0.47941392 & 0.5499935 & 1.482231 & -0.9010006 & -1.573300 & -0.7312997 & 1.0763107 & 1.908559 & -0.7770077 & -0.4345803 & 1.256429 & 0.5106478 & 0.8552279 & -0.05470441 & 0.6206287 & -0.2021503 & -0.4572275 & 0.2202328 & 0.09037635 & -0.1711372 & -0.1754464 & -1.09365002 & -0.6380891 & -0.677928 & -0.9498322 & -1.534101 & -1.0505571 & -1.839617 & -1.049516 & -0.4769861 & -0.8137980 &  0.576322 &  0.7225455 &  0.6230160 &  0.6622367 & -0.0107395 & -0.70338335 & -0.3427017 & -0.01880514 & 0.3295675 & -0.3398215 & 0.5566752 & 0.3177945 & -0.1442076 & 0.7247436 & -1.0596518 & -1.2675938 & -0.4450079 & -0.1829216 & -1.354555 & -2.408998 & 1.739609 & 1.0995773 & -0.7522103 & -0.3347021 & -0.1147139 & 0.1459243 & 0.4060620 & -0.1428559 &  0.2038816 & 0.2113096 & 0.04514318 & -0.306696919 &  0.1319480 & 0.6836051 & 0.3109707 & 0.3814705 & 0.07359895 & -0.5108213 & -0.1184713 &  0.009151023 & -0.002978445 &  0.0619474 & -0.5576966 & -0.4731923 & -1.201585 & -0.6552416 & -0.5665189 & -0.04983864 &  0.2087233 & -0.24399056 & 1.503520 & -0.4018911 & -0.2877115 & -0.06715362 & -0.2869181 & -0.5353447 & 0.6825839 & 0.1639280 & 0.4993529 & 0.2611871 & 0.4899571 & -0.3489192 & -0.008303413 & 0.7603953 &  0.055748070 & 0.4900996 & -1.12497 & -0.08695257 & 0.25902527 & 0.6363265 & -0.08629799 & 0.4836350 & -0.7558254 & -0.9004493 & -1.064540 & 0.5868411 & -0.1216723 & -0.8061924 & -0.8970449 & 1.753859 & 0.6352184 & 0.7193187 & 0.50793349 & 0.7254629 & -0.8313732 & -0.6397323 & -0.2876970 &  0.1445830 & -0.08894239 & -0.1367066 & -0.8992666 & -0.6938800 & 0.7728175 & -0.02874098 & 0.7782351 & 0.3948581 & 1.030456 & -1.249222 & -1.2496507 & -0.7907385 & -0.6377618 & -1.037291 &  0.2028361 & -1.115776 & -0.8383183 & -0.5277554 & 1.089553 & 0.09479359 & -0.2966120 & -1.922169 & -0.7716781 & -0.1594808 & -1.284761 &  0.01782447 & -0.6921738 & -0.06878273 & -0.44354985 & 0.2891828 & -0.5773808\\\\\n",
       "\\end{tabular}\n"
      ],
      "text/markdown": [
       "\n",
       "A tibble: 2 × 191\n",
       "\n",
       "| Metadata_Plate &lt;chr&gt; | Metadata_Well &lt;chr&gt; | Metadata_Assay_Plate_Barcode &lt;chr&gt; | Metadata_Plate_Map_Name &lt;chr&gt; | Metadata_well_position &lt;chr&gt; | Metadata_clone_number &lt;chr&gt; | Cells_AreaShape_Compactness &lt;dbl&gt; | Cells_AreaShape_EulerNumber &lt;dbl&gt; | Cells_AreaShape_Extent &lt;dbl&gt; | Cells_AreaShape_FormFactor &lt;dbl&gt; | ⋯ ⋯ | Nuclei_Texture_Correlation_AGP_20_00 &lt;dbl&gt; | Nuclei_Texture_Correlation_AGP_20_03 &lt;dbl&gt; | Nuclei_Texture_Correlation_AGP_5_00 &lt;dbl&gt; | Nuclei_Texture_Correlation_ER_20_02 &lt;dbl&gt; | Nuclei_Texture_Correlation_Mito_5_00 &lt;dbl&gt; | Nuclei_Texture_Correlation_RNA_20_02 &lt;dbl&gt; | Nuclei_Texture_InfoMeas1_Mito_5_00 &lt;dbl&gt; | Nuclei_Texture_InverseDifferenceMoment_AGP_20_02 &lt;dbl&gt; | Nuclei_Texture_InverseDifferenceMoment_DNA_20_03 &lt;dbl&gt; | Nuclei_Texture_InverseDifferenceMoment_ER_20_02 &lt;dbl&gt; |\n",
       "|---|---|---|---|---|---|---|---|---|---|---|---|---|---|---|---|---|---|---|---|---|\n",
       "| WTClones | B02 | WTClones | WTClones | B02 | WT001 | -0.68165560 |  0.2433688 |  0.5543276 | 0.27729305 | ⋯ | -1.992909 | -0.5624821 | -0.7311029 | -1.798579 | -2.05401899 | -1.2708266 |  0.67166455 | -0.08257108 | 0.4544209 | -0.6100711 |\n",
       "| WTClones | B03 | WTClones | WTClones | B03 | WT001 |  0.05125114 | -0.4970395 | -0.1045300 | 0.07257513 | ⋯ | -1.922169 | -0.7716781 | -0.1594808 | -1.284761 |  0.01782447 | -0.6921738 | -0.06878273 | -0.44354985 | 0.2891828 | -0.5773808 |\n",
       "\n"
      ],
      "text/plain": [
       "  Metadata_Plate Metadata_Well Metadata_Assay_Plate_Barcode\n",
       "1 WTClones       B02           WTClones                    \n",
       "2 WTClones       B03           WTClones                    \n",
       "  Metadata_Plate_Map_Name Metadata_well_position Metadata_clone_number\n",
       "1 WTClones                B02                    WT001                \n",
       "2 WTClones                B03                    WT001                \n",
       "  Cells_AreaShape_Compactness Cells_AreaShape_EulerNumber\n",
       "1 -0.68165560                  0.2433688                 \n",
       "2  0.05125114                 -0.4970395                 \n",
       "  Cells_AreaShape_Extent Cells_AreaShape_FormFactor ⋯\n",
       "1  0.5543276             0.27729305                 ⋯\n",
       "2 -0.1045300             0.07257513                 ⋯\n",
       "  Nuclei_Texture_Correlation_AGP_20_00 Nuclei_Texture_Correlation_AGP_20_03\n",
       "1 -1.992909                            -0.5624821                          \n",
       "2 -1.922169                            -0.7716781                          \n",
       "  Nuclei_Texture_Correlation_AGP_5_00 Nuclei_Texture_Correlation_ER_20_02\n",
       "1 -0.7311029                          -1.798579                          \n",
       "2 -0.1594808                          -1.284761                          \n",
       "  Nuclei_Texture_Correlation_Mito_5_00 Nuclei_Texture_Correlation_RNA_20_02\n",
       "1 -2.05401899                          -1.2708266                          \n",
       "2  0.01782447                          -0.6921738                          \n",
       "  Nuclei_Texture_InfoMeas1_Mito_5_00\n",
       "1  0.67166455                       \n",
       "2 -0.06878273                       \n",
       "  Nuclei_Texture_InverseDifferenceMoment_AGP_20_02\n",
       "1 -0.08257108                                     \n",
       "2 -0.44354985                                     \n",
       "  Nuclei_Texture_InverseDifferenceMoment_DNA_20_03\n",
       "1 0.4544209                                       \n",
       "2 0.2891828                                       \n",
       "  Nuclei_Texture_InverseDifferenceMoment_ER_20_02\n",
       "1 -0.6100711                                     \n",
       "2 -0.5773808                                     "
      ]
     },
     "metadata": {},
     "output_type": "display_data"
    }
   ],
   "source": [
    "plate <- \"WTClones\"\n",
    "\n",
    "file <- file.path(\"..\", \"..\", \"backend\", batch, plate, paste0(plate, \"_normalized_variable_selected.csv\"))\n",
    "batch3_wt_df <- load_data(file)\n",
    "\n",
    "print(dim(batch3_wt_df))\n",
    "head(batch3_wt_df, 2)"
   ]
  },
  {
   "cell_type": "markdown",
   "metadata": {},
   "source": [
    "### Merge Data"
   ]
  },
  {
   "cell_type": "code",
   "execution_count": 9,
   "metadata": {},
   "outputs": [
    {
     "data": {
      "text/html": [
       "<ol class=list-inline>\n",
       "\t<li>105</li>\n",
       "\t<li>191</li>\n",
       "</ol>\n"
      ],
      "text/latex": [
       "\\begin{enumerate*}\n",
       "\\item 105\n",
       "\\item 191\n",
       "\\end{enumerate*}\n"
      ],
      "text/markdown": [
       "1. 105\n",
       "2. 191\n",
       "\n",
       "\n"
      ],
      "text/plain": [
       "[1] 105 191"
      ]
     },
     "metadata": {},
     "output_type": "display_data"
    }
   ],
   "source": [
    "merge_file <- file.path(\"data\", paste0(batch, \"_merged_intersected_variable_selected.csv\"))\n",
    "full_df <- merge_data(batch3_mut_df, batch3_wt_df, output_file = merge_file, output_gct = TRUE)\n",
    "\n",
    "dim(full_df)"
   ]
  }
 ],
 "metadata": {
  "kernelspec": {
   "display_name": "R [conda env:resistance-mechanisms] *",
   "language": "R",
   "name": "conda-env-resistance-mechanisms-r"
  },
  "language_info": {
   "codemirror_mode": "r",
   "file_extension": ".r",
   "mimetype": "text/x-r-source",
   "name": "R",
   "pygments_lexer": "r",
   "version": "3.5.1"
  }
 },
 "nbformat": 4,
 "nbformat_minor": 2
}
