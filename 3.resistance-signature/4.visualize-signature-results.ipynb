{
 "cells": [
  {
   "cell_type": "code",
   "execution_count": 1,
   "id": "recorded-colombia",
   "metadata": {},
   "outputs": [],
   "source": [
    "suppressPackageStartupMessages(library(dplyr))\n",
    "suppressPackageStartupMessages(library(ggplot2))"
   ]
  },
  {
   "cell_type": "code",
   "execution_count": 2,
   "id": "moderate-terrace",
   "metadata": {},
   "outputs": [],
   "source": [
    "seed <- 1234\n",
    "set.seed(seed)\n",
    "\n",
    "dataset <- \"bortezomib\"\n",
    "sig_dir <- file.path(\"results\", \"singscore\")\n",
    "\n",
    "results_file <- file.path(sig_dir, paste0(\"singscore_results\", dataset, \".tsv.gz\"))\n",
    "\n",
    "figure_dir <- file.path(\"figures\", \"singscore\")"
   ]
  },
  {
   "cell_type": "code",
   "execution_count": 15,
   "id": "friendly-adventure",
   "metadata": {},
   "outputs": [],
   "source": [
    "# Plotting options\n",
    "legend_labels <- c(\n",
    "    \"training\" = \"Training\",\n",
    "    \"test\" = \"Test\",\n",
    "    \"validation\" = \"validation\"\n",
    ")\n",
    "\n",
    "legend_colors <- c(\n",
    "    \"training\" = \"#DAC19A\",\n",
    "    \"test\" = \"#8EB2B1\",\n",
    "    \"validation\" = \"#9F95B9\"\n",
    ")"
   ]
  },
  {
   "cell_type": "code",
   "execution_count": 31,
   "id": "actual-davis",
   "metadata": {},
   "outputs": [
    {
     "name": "stdout",
     "output_type": "stream",
     "text": [
      "[1] 300  28\n"
     ]
    },
    {
     "data": {
      "text/html": [
       "<table>\n",
       "<caption>A tibble: 4 × 28</caption>\n",
       "<thead>\n",
       "\t<tr><th scope=col>Metadata_Plate</th><th scope=col>Metadata_Well</th><th scope=col>Metadata_batch</th><th scope=col>Metadata_cell_count</th><th scope=col>Metadata_cell_density</th><th scope=col>Metadata_celltype_shorthand_from_plate_graph</th><th scope=col>Metadata_clone_number</th><th scope=col>Metadata_date</th><th scope=col>Metadata_plate_map_name</th><th scope=col>Metadata_time_to_adhere</th><th scope=col>⋯</th><th scope=col>TotalScore</th><th scope=col>TotalDispersion</th><th scope=col>UpScore</th><th scope=col>UpDispersion</th><th scope=col>DownScore</th><th scope=col>DownDispersion</th><th scope=col>Metadata_permuted_p_value</th><th scope=col>dataset</th><th scope=col>min_permuted_value</th><th scope=col>max_permuted_value</th></tr>\n",
       "\t<tr><th scope=col>&lt;chr&gt;</th><th scope=col>&lt;chr&gt;</th><th scope=col>&lt;chr&gt;</th><th scope=col>&lt;chr&gt;</th><th scope=col>&lt;chr&gt;</th><th scope=col>&lt;int&gt;</th><th scope=col>&lt;chr&gt;</th><th scope=col>&lt;int&gt;</th><th scope=col>&lt;chr&gt;</th><th scope=col>&lt;chr&gt;</th><th scope=col>⋯</th><th scope=col>&lt;dbl&gt;</th><th scope=col>&lt;dbl&gt;</th><th scope=col>&lt;dbl&gt;</th><th scope=col>&lt;dbl&gt;</th><th scope=col>&lt;dbl&gt;</th><th scope=col>&lt;dbl&gt;</th><th scope=col>&lt;dbl&gt;</th><th scope=col>&lt;chr&gt;</th><th scope=col>&lt;dbl&gt;</th><th scope=col>&lt;dbl&gt;</th></tr>\n",
       "</thead>\n",
       "<tbody>\n",
       "\t<tr><td>219907</td><td>B02</td><td>2021_03_03_Batch12</td><td>6139</td><td>2.5x10^3 cells/well</td><td>1</td><td>WT_parental</td><td>20210205</td><td>219814</td><td>48 hr</td><td>⋯</td><td>-0.22817175</td><td>2882.1744</td><td>-0.1235357</td><td>1598.2428</td><td>-0.104636026</td><td>1283.9316</td><td>0.977</td><td>bortezomib</td><td>-0.1877069</td><td>0.1892476</td></tr>\n",
       "\t<tr><td>219907</td><td>B03</td><td>2021_03_03_Batch12</td><td>4567</td><td>2.5x10^3 cells/well</td><td>2</td><td>CloneA     </td><td>20210205</td><td>219814</td><td>48 hr</td><td>⋯</td><td> 0.09777312</td><td> 825.8082</td><td> 0.1351868</td><td> 545.5968</td><td>-0.037413645</td><td> 280.2114</td><td>0.188</td><td>bortezomib</td><td>-0.1877069</td><td>0.1892476</td></tr>\n",
       "\t<tr><td>219907</td><td>B04</td><td>2021_03_03_Batch12</td><td>5624</td><td>2.5x10^3 cells/well</td><td>3</td><td>CloneE     </td><td>20210205</td><td>219814</td><td>48 hr</td><td>⋯</td><td> 0.24496199</td><td>1498.9086</td><td> 0.1566891</td><td> 539.6664</td><td> 0.088272909</td><td> 959.2422</td><td>0.014</td><td>bortezomib</td><td>-0.1877069</td><td>0.1892476</td></tr>\n",
       "\t<tr><td>219907</td><td>B05</td><td>2021_03_03_Batch12</td><td>5894</td><td>2.5x10^3 cells/well</td><td>4</td><td>WT clone 01</td><td>20210205</td><td>219814</td><td>48 hr</td><td>⋯</td><td> 0.13694715</td><td>1676.8206</td><td> 0.1449117</td><td> 849.5298</td><td>-0.007964602</td><td> 827.2908</td><td>0.113</td><td>bortezomib</td><td>-0.1877069</td><td>0.1892476</td></tr>\n",
       "</tbody>\n",
       "</table>\n"
      ],
      "text/latex": [
       "A tibble: 4 × 28\n",
       "\\begin{tabular}{lllllllllllllllllllll}\n",
       " Metadata\\_Plate & Metadata\\_Well & Metadata\\_batch & Metadata\\_cell\\_count & Metadata\\_cell\\_density & Metadata\\_celltype\\_shorthand\\_from\\_plate\\_graph & Metadata\\_clone\\_number & Metadata\\_date & Metadata\\_plate\\_map\\_name & Metadata\\_time\\_to\\_adhere & ⋯ & TotalScore & TotalDispersion & UpScore & UpDispersion & DownScore & DownDispersion & Metadata\\_permuted\\_p\\_value & dataset & min\\_permuted\\_value & max\\_permuted\\_value\\\\\n",
       " <chr> & <chr> & <chr> & <chr> & <chr> & <int> & <chr> & <int> & <chr> & <chr> & ⋯ & <dbl> & <dbl> & <dbl> & <dbl> & <dbl> & <dbl> & <dbl> & <chr> & <dbl> & <dbl>\\\\\n",
       "\\hline\n",
       "\t 219907 & B02 & 2021\\_03\\_03\\_Batch12 & 6139 & 2.5x10\\textasciicircum{}3 cells/well & 1 & WT\\_parental & 20210205 & 219814 & 48 hr & ⋯ & -0.22817175 & 2882.1744 & -0.1235357 & 1598.2428 & -0.104636026 & 1283.9316 & 0.977 & bortezomib & -0.1877069 & 0.1892476\\\\\n",
       "\t 219907 & B03 & 2021\\_03\\_03\\_Batch12 & 4567 & 2.5x10\\textasciicircum{}3 cells/well & 2 & CloneA      & 20210205 & 219814 & 48 hr & ⋯ &  0.09777312 &  825.8082 &  0.1351868 &  545.5968 & -0.037413645 &  280.2114 & 0.188 & bortezomib & -0.1877069 & 0.1892476\\\\\n",
       "\t 219907 & B04 & 2021\\_03\\_03\\_Batch12 & 5624 & 2.5x10\\textasciicircum{}3 cells/well & 3 & CloneE      & 20210205 & 219814 & 48 hr & ⋯ &  0.24496199 & 1498.9086 &  0.1566891 &  539.6664 &  0.088272909 &  959.2422 & 0.014 & bortezomib & -0.1877069 & 0.1892476\\\\\n",
       "\t 219907 & B05 & 2021\\_03\\_03\\_Batch12 & 5894 & 2.5x10\\textasciicircum{}3 cells/well & 4 & WT clone 01 & 20210205 & 219814 & 48 hr & ⋯ &  0.13694715 & 1676.8206 &  0.1449117 &  849.5298 & -0.007964602 &  827.2908 & 0.113 & bortezomib & -0.1877069 & 0.1892476\\\\\n",
       "\\end{tabular}\n"
      ],
      "text/markdown": [
       "\n",
       "A tibble: 4 × 28\n",
       "\n",
       "| Metadata_Plate &lt;chr&gt; | Metadata_Well &lt;chr&gt; | Metadata_batch &lt;chr&gt; | Metadata_cell_count &lt;chr&gt; | Metadata_cell_density &lt;chr&gt; | Metadata_celltype_shorthand_from_plate_graph &lt;int&gt; | Metadata_clone_number &lt;chr&gt; | Metadata_date &lt;int&gt; | Metadata_plate_map_name &lt;chr&gt; | Metadata_time_to_adhere &lt;chr&gt; | ⋯ ⋯ | TotalScore &lt;dbl&gt; | TotalDispersion &lt;dbl&gt; | UpScore &lt;dbl&gt; | UpDispersion &lt;dbl&gt; | DownScore &lt;dbl&gt; | DownDispersion &lt;dbl&gt; | Metadata_permuted_p_value &lt;dbl&gt; | dataset &lt;chr&gt; | min_permuted_value &lt;dbl&gt; | max_permuted_value &lt;dbl&gt; |\n",
       "|---|---|---|---|---|---|---|---|---|---|---|---|---|---|---|---|---|---|---|---|---|\n",
       "| 219907 | B02 | 2021_03_03_Batch12 | 6139 | 2.5x10^3 cells/well | 1 | WT_parental | 20210205 | 219814 | 48 hr | ⋯ | -0.22817175 | 2882.1744 | -0.1235357 | 1598.2428 | -0.104636026 | 1283.9316 | 0.977 | bortezomib | -0.1877069 | 0.1892476 |\n",
       "| 219907 | B03 | 2021_03_03_Batch12 | 4567 | 2.5x10^3 cells/well | 2 | CloneA      | 20210205 | 219814 | 48 hr | ⋯ |  0.09777312 |  825.8082 |  0.1351868 |  545.5968 | -0.037413645 |  280.2114 | 0.188 | bortezomib | -0.1877069 | 0.1892476 |\n",
       "| 219907 | B04 | 2021_03_03_Batch12 | 5624 | 2.5x10^3 cells/well | 3 | CloneE      | 20210205 | 219814 | 48 hr | ⋯ |  0.24496199 | 1498.9086 |  0.1566891 |  539.6664 |  0.088272909 |  959.2422 | 0.014 | bortezomib | -0.1877069 | 0.1892476 |\n",
       "| 219907 | B05 | 2021_03_03_Batch12 | 5894 | 2.5x10^3 cells/well | 4 | WT clone 01 | 20210205 | 219814 | 48 hr | ⋯ |  0.13694715 | 1676.8206 |  0.1449117 |  849.5298 | -0.007964602 |  827.2908 | 0.113 | bortezomib | -0.1877069 | 0.1892476 |\n",
       "\n"
      ],
      "text/plain": [
       "  Metadata_Plate Metadata_Well Metadata_batch     Metadata_cell_count\n",
       "1 219907         B02           2021_03_03_Batch12 6139               \n",
       "2 219907         B03           2021_03_03_Batch12 4567               \n",
       "3 219907         B04           2021_03_03_Batch12 5624               \n",
       "4 219907         B05           2021_03_03_Batch12 5894               \n",
       "  Metadata_cell_density Metadata_celltype_shorthand_from_plate_graph\n",
       "1 2.5x10^3 cells/well   1                                           \n",
       "2 2.5x10^3 cells/well   2                                           \n",
       "3 2.5x10^3 cells/well   3                                           \n",
       "4 2.5x10^3 cells/well   4                                           \n",
       "  Metadata_clone_number Metadata_date Metadata_plate_map_name\n",
       "1 WT_parental           20210205      219814                 \n",
       "2 CloneA                20210205      219814                 \n",
       "3 CloneE                20210205      219814                 \n",
       "4 WT clone 01           20210205      219814                 \n",
       "  Metadata_time_to_adhere ⋯ TotalScore  TotalDispersion UpScore    UpDispersion\n",
       "1 48 hr                   ⋯ -0.22817175 2882.1744       -0.1235357 1598.2428   \n",
       "2 48 hr                   ⋯  0.09777312  825.8082        0.1351868  545.5968   \n",
       "3 48 hr                   ⋯  0.24496199 1498.9086        0.1566891  539.6664   \n",
       "4 48 hr                   ⋯  0.13694715 1676.8206        0.1449117  849.5298   \n",
       "  DownScore    DownDispersion Metadata_permuted_p_value dataset   \n",
       "1 -0.104636026 1283.9316      0.977                     bortezomib\n",
       "2 -0.037413645  280.2114      0.188                     bortezomib\n",
       "3  0.088272909  959.2422      0.014                     bortezomib\n",
       "4 -0.007964602  827.2908      0.113                     bortezomib\n",
       "  min_permuted_value max_permuted_value\n",
       "1 -0.1877069         0.1892476         \n",
       "2 -0.1877069         0.1892476         \n",
       "3 -0.1877069         0.1892476         \n",
       "4 -0.1877069         0.1892476         "
      ]
     },
     "metadata": {},
     "output_type": "display_data"
    }
   ],
   "source": [
    "sig_cols <- readr::cols(\n",
    "    .default = readr::col_character(),\n",
    "    Metadata_clone_type_indicator = readr::col_integer(),\n",
    "    Metadata_celltype_shorthand_from_plate_graph = readr::col_integer(),\n",
    "    Metadata_date = readr::col_integer(),\n",
    "    Metadata_treatment_shorthand_from_plate_graph = readr::col_integer(),\n",
    "    TotalScore = readr::col_double(),\n",
    "    TotalDispersion = readr::col_double(),\n",
    "    UpScore = readr::col_double(),\n",
    "    UpDispersion = readr::col_double(),\n",
    "    DownScore = readr::col_double(),\n",
    "    DownDispersion = readr::col_double(),\n",
    "    Metadata_permuted_p_value = readr::col_double(),\n",
    "    min_permuted_value = readr::col_double(),\n",
    "    max_permuted_value = readr::col_double()\n",
    ")\n",
    "\n",
    "inference_df <- readr::read_tsv(results_file, col_types = sig_cols) %>%\n",
    "    dplyr::filter(Metadata_model_split == \"inference\")\n",
    "signature_df <- readr::read_tsv(results_file, col_types = sig_cols) %>%\n",
    "    dplyr::filter(Metadata_model_split != \"inference\")\n",
    "\n",
    "print(dim(signature_df))\n",
    "head(signature_df, 4)"
   ]
  },
  {
   "cell_type": "code",
   "execution_count": 32,
   "id": "labeled-device",
   "metadata": {},
   "outputs": [
    {
     "data": {
      "text/plain": [
       "\n",
       "      test   training validation \n",
       "        36        204         60 "
      ]
     },
     "metadata": {},
     "output_type": "display_data"
    }
   ],
   "source": [
    "table(signature_df$Metadata_model_split)"
   ]
  },
  {
   "cell_type": "code",
   "execution_count": 33,
   "id": "illegal-portsmouth",
   "metadata": {},
   "outputs": [],
   "source": [
    "signature_df$Metadata_model_split <- factor(\n",
    "    signature_df$Metadata_model_split, levels = c(\"training\", \"test\", \"validation\")\n",
    ")\n",
    "\n",
    "min_val <- unique(signature_df$min_permuted_value)\n",
    "max_val <- unique(signature_df$max_permuted_value)"
   ]
  },
  {
   "cell_type": "code",
   "execution_count": 37,
   "id": "printable-socket",
   "metadata": {},
   "outputs": [
    {
     "name": "stderr",
     "output_type": "stream",
     "text": [
      "Warning message:\n",
      "“Duplicated aesthetics after name standardisation: size”"
     ]
    }
   ],
   "source": [
    "append_sig <- function(string) paste0(dataset, \": \", string)\n",
    "\n",
    "result_gg <- (\n",
    "    ggplot(signature_df,\n",
    "           aes(x = Metadata_clone_number,\n",
    "               y = TotalScore,\n",
    "               group = paste(Metadata_clone_number, Metadata_model_split))) +\n",
    "    geom_boxplot(aes(fill = Metadata_model_split), lwd = 0.25, outlier.alpha = 0) +\n",
    "    geom_jitter(position = position_jitterdodge(jitter.width = 0.3, dodge.width = 0.75),\n",
    "                aes(fill = Metadata_model_split),\n",
    "                stroke = 0.2,\n",
    "                size = 0.5,\n",
    "                alpha = 0.8,\n",
    "                shape = 21,\n",
    "                lwd = 0.25) +\n",
    "    facet_wrap(\"~Metadata_clone_type\",\n",
    "               ncol = 2,\n",
    "               scales = \"free_x\",\n",
    "               labeller = labeller(Metadata_clone_type = as_labeller(append_sig))) +\n",
    "    xlab(\"\") +\n",
    "    ylab(\"Signature score\\n(singscore)\") +\n",
    "    ylim(c(-1, 1)) +\n",
    "    scale_fill_manual(\"Splits\", values = legend_colors, labels = legend_labels) +\n",
    "    theme_bw() +\n",
    "    theme(\n",
    "        legend.title = element_text(size = 8),\n",
    "        legend.text = element_text(size = 5),\n",
    "        axis.title = element_text(size = 8),\n",
    "        axis.text.y = element_text(size = 6),\n",
    "        axis.text.x = element_text(angle = 90, size = 5),\n",
    "        strip.text = element_text(size = 7),\n",
    "        strip.background = element_rect(colour=\"black\", fill=\"#fdfff4\")\n",
    "    ) +\n",
    "    annotate(\n",
    "        \"rect\",\n",
    "         ymin = min_val,\n",
    "         ymax = max_val,\n",
    "         xmin = 0,\n",
    "         xmax = ceiling(length(unique(signature_df$Metadata_clone_number)) / 2) + 1,\n",
    "         alpha = 0.2,\n",
    "         color = \"red\",\n",
    "         linetype = \"dashed\",\n",
    "         fill = \"grey\",\n",
    "         lwd = 0.25\n",
    "    ) +\n",
    "    geom_hline(yintercept = 0, linetype = \"dashed\", color = \"blue\")\n",
    ")\n",
    "\n",
    "output_fig_file <- file.path(\"figures\", \"signature_scores_training_testing_validation.png\")\n",
    "ggsave(output_fig_file, result_gg, dpi = 500, height = 3, width = 5)"
   ]
  },
  {
   "cell_type": "code",
   "execution_count": null,
   "id": "spanish-competition",
   "metadata": {},
   "outputs": [],
   "source": [
    "inference_df"
   ]
  },
  {
   "cell_type": "code",
   "execution_count": 38,
   "id": "departmental-highlight",
   "metadata": {},
   "outputs": [
    {
     "name": "stderr",
     "output_type": "stream",
     "text": [
      "Warning message:\n",
      "“Duplicated aesthetics after name standardisation: size”"
     ]
    }
   ],
   "source": [
    "inference_gg <- ggplot(inference_df,\n",
    "           aes(x = Metadata_clone_number,\n",
    "               y = TotalScore,\n",
    "               group = paste(Metadata_clone_number, Metadata_model_split))) +\n",
    "    geom_boxplot(aes(fill = Metadata_model_split), lwd = 0.25, outlier.alpha = 0) +\n",
    "    geom_jitter(position = position_jitterdodge(jitter.width = 0.3, dodge.width = 0.75),\n",
    "                aes(fill = Metadata_model_split),\n",
    "                stroke = 0.2,\n",
    "                size = 0.5,\n",
    "                alpha = 0.8,\n",
    "                shape = 21,\n",
    "                lwd = 0.25) +\n",
    "    facet_wrap(\"~Metadata_clone_type\",\n",
    "               ncol = 2,\n",
    "               scales = \"free_x\",\n",
    "               labeller = labeller(Metadata_clone_type = as_labeller(append_sig))) +\n",
    "    xlab(\"\") +\n",
    "    ylab(\"Signature score\\n(singscore)\") +\n",
    "    ylim(c(-1, 1)) +\n",
    "    scale_fill_manual(\"Splits\", values = legend_colors, labels = legend_labels) +\n",
    "    theme_bw() +\n",
    "    theme(\n",
    "        legend.title = element_text(size = 8),\n",
    "        legend.text = element_text(size = 5),\n",
    "        axis.title = element_text(size = 8),\n",
    "        axis.text.y = element_text(size = 6),\n",
    "        axis.text.x = element_text(angle = 90, size = 5),\n",
    "        strip.text = element_text(size = 7),\n",
    "        strip.background = element_rect(colour=\"black\", fill=\"#fdfff4\")\n",
    "    ) +\n",
    "    annotate(\n",
    "        \"rect\",\n",
    "         ymin = min_val,\n",
    "         ymax = max_val,\n",
    "         xmin = 0,\n",
    "         xmax = ceiling(length(unique(inference_df$Metadata_clone_number)) / 2) + 1,\n",
    "         alpha = 0.2,\n",
    "         color = \"red\",\n",
    "         linetype = \"dashed\",\n",
    "         fill = \"grey\",\n",
    "         lwd = 0.25\n",
    "    ) +\n",
    "    geom_hline(yintercept = 0, linetype = \"dashed\", color = \"blue\")\n",
    "\n",
    "output_fig_file <- file.path(\"figures\", \"signature_scores_inference.png\")\n",
    "ggsave(output_fig_file, inference_gg, dpi = 500, height = 3, width = 5)"
   ]
  },
  {
   "cell_type": "code",
   "execution_count": null,
   "id": "joint-complex",
   "metadata": {},
   "outputs": [],
   "source": []
  },
  {
   "cell_type": "code",
   "execution_count": null,
   "id": "liable-guyana",
   "metadata": {},
   "outputs": [],
   "source": []
  },
  {
   "cell_type": "code",
   "execution_count": 27,
   "id": "colonial-agriculture",
   "metadata": {},
   "outputs": [],
   "source": [
    "perf_dir <- file.path(\"results\", \"performance\")\n",
    "\n",
    "metric_levels <- c(\"total\", \"plate\", \"sample\")\n",
    "shuffle_levels <- c(\"\", \"shuffle\")\n",
    "\n",
    "performance_data <- list()\n",
    "for (metric_level in metric_levels) {\n",
    "    performance_data[[metric_level]] <- list()\n",
    "    for (shuffle_level in shuffle_levels) {\n",
    "        if (shuffle_level == \"shuffle\") {\n",
    "            shuffle_id <- \"_shuffle\"\n",
    "        } else {\n",
    "            shuffle_id <- \"\"\n",
    "        }\n",
    "        \n",
    "        input_file <- paste0(metric_level, \"_bortezomib\", shuffle_id, \"_metric_performance.tsv\")\n",
    "        input_file <- file.path(perf_dir, input_file)\n",
    "        performance_data[[metric_level]][[shuffle_level]] <-\n",
    "            readr::read_tsv(input_file, col_types = readr::cols())\n",
    "    }\n",
    "}"
   ]
  },
  {
   "cell_type": "code",
   "execution_count": 28,
   "id": "configured-usage",
   "metadata": {},
   "outputs": [],
   "source": [
    "metric_compare <- \"total\"\n",
    "split_order <- c(\"training\", \"test\", \"validation\", \"inference\")\n",
    "\n",
    "plot_df <- performance_data[[metric_compare]][[1]]\n",
    "shuff_df <- performance_data[[metric_compare]][[\"shuffle\"]]\n",
    "\n",
    "plot_df$Metadata_model_split <- factor(\n",
    "    plot_df$Metadata_model_split,\n",
    "    levels = split_order\n",
    ")\n",
    "\n",
    "shuff_df$Metadata_model_split <- factor(\n",
    "    shuff_df$Metadata_model_split,\n",
    "    levels = split_order\n",
    ")"
   ]
  },
  {
   "cell_type": "code",
   "execution_count": 39,
   "id": "accompanied-morning",
   "metadata": {},
   "outputs": [],
   "source": [
    "total_performance_gg <- (\n",
    "    ggplot(plot_df, aes(x = metric, y = metric_value)) +\n",
    "    geom_bar(\n",
    "        aes(fill = dataset),\n",
    "        color = \"black\",\n",
    "        stat = \"identity\",\n",
    "        position = \"dodge\",\n",
    "        lwd = 0.3\n",
    "    ) +\n",
    "    geom_boxplot(\n",
    "        data = shuff_df,\n",
    "        aes(fill = dataset),\n",
    "        position = position_dodge(width = 0.9),\n",
    "        outlier.alpha = 0,\n",
    "        lwd = 0.2\n",
    "    ) +\n",
    "    geom_jitter(\n",
    "        data = shuff_df,\n",
    "        position = position_jitterdodge(jitter.width = 0.4, dodge.width = 0.9),\n",
    "        aes(fill = dataset),\n",
    "        size = 0.4,\n",
    "        alpha = 0.5,\n",
    "        shape = 21,\n",
    "        stroke = 0.2\n",
    "    ) +\n",
    "    facet_wrap(\"~Metadata_model_split\") +\n",
    "    xlab(\"\") +\n",
    "    ylab(\"Performance\") +\n",
    "    theme_bw() +\n",
    "    theme(\n",
    "        legend.title = element_text(size = 8),\n",
    "        legend.text = element_text(size = 5),\n",
    "        legend.key.size = unit(0.4, \"cm\"),\n",
    "        axis.title = element_text(size = 8),\n",
    "        axis.text = element_text(size = 6),\n",
    "        strip.text = element_text(size = 7),\n",
    "        strip.background = element_rect(colour=\"black\", fill=\"#fdfff4\")\n",
    "    )\n",
    ")\n",
    "\n",
    "output_fig_file <- file.path(\"figures\", \"total_performance.png\")\n",
    "ggsave(output_fig_file, total_performance_gg, dpi = 500, height = 4.2, width = 4)"
   ]
  },
  {
   "cell_type": "code",
   "execution_count": 30,
   "id": "close-allowance",
   "metadata": {},
   "outputs": [
    {
     "data": {
      "image/png": "[encoded data removed]",
      "text/plain": [
       "plot without title"
      ]
     },
     "metadata": {},
     "output_type": "display_data"
    }
   ],
   "source": [
    "total_performance_gg"
   ]
  },
  {
   "cell_type": "code",
   "execution_count": null,
   "id": "accepted-translator",
   "metadata": {},
   "outputs": [],
   "source": []
  }
 ],
 "metadata": {
  "kernelspec": {
   "display_name": "R",
   "language": "R",
   "name": "ir"
  },
  "language_info": {
   "codemirror_mode": "r",
   "file_extension": ".r",
   "mimetype": "text/x-r-source",
   "name": "R",
   "pygments_lexer": "r",
   "version": "3.5.1"
  }
 },
 "nbformat": 4,
 "nbformat_minor": 5
}
