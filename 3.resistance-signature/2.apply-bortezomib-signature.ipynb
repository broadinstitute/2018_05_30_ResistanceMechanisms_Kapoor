{
 "cells": [
  {
   "cell_type": "code",
   "execution_count": 1,
   "metadata": {},
   "outputs": [],
   "source": [
    "suppressPackageStartupMessages(library(dplyr))\n",
    "suppressPackageStartupMessages(library(singscore))\n",
    "\n",
    "source(file.path(\"../3.bulk-signatures/utils\", \"singscore_utils.R\"))"
   ]
  },
  {
   "cell_type": "code",
   "execution_count": 2,
   "metadata": {},
   "outputs": [],
   "source": [
    "seed <- 1234\n",
    "num_permutations <- 1000\n",
    "dataset <- \"bortezomib\"\n",
    "\n",
    "data_dir <- \"data\"\n",
    "data_file <- file.path(data_dir, paste0(dataset, \"_signature_analytical_set.tsv.gz\"))\n",
    "\n",
    "input_results_dir <- file.path(\"results\", \"signatures\")\n",
    "signature_file <- file.path(input_results_dir, paste0(\"signature_summary_\", dataset, \"_signature.tsv\"))\n",
    "tukey_file <- file.path(input_results_dir, paste0(\"tukey_results_\", dataset, \"_signature.tsv.gz\"))\n",
    "\n",
    "output_dir <- file.path(\"results\", \"singscore\")\n",
    "output_results_file <- file.path(output_dir, paste0(\"singscore_results\", dataset, \".tsv.gz\"))"
   ]
  },
  {
   "cell_type": "code",
   "execution_count": 3,
   "metadata": {},
   "outputs": [],
   "source": [
    "set.seed(seed)"
   ]
  },
  {
   "cell_type": "code",
   "execution_count": 4,
   "metadata": {},
   "outputs": [
    {
     "name": "stdout",
     "output_type": "stream",
     "text": [
      "[1] 165 272\n"
     ]
    },
    {
     "data": {
      "text/html": [
       "<table>\n",
       "<caption>A tibble: 4 × 272</caption>\n",
       "<thead>\n",
       "\t<tr><th scope=col>Metadata_Plate</th><th scope=col>Metadata_Well</th><th scope=col>Metadata_batch</th><th scope=col>Metadata_cell_count</th><th scope=col>Metadata_cell_density</th><th scope=col>Metadata_celltype_shorthand_from_plate_graph</th><th scope=col>Metadata_clone_number</th><th scope=col>Metadata_date</th><th scope=col>Metadata_plate_map_name</th><th scope=col>Metadata_time_to_adhere</th><th scope=col>⋯</th><th scope=col>Nuclei_RadialDistribution_MeanFrac_Mito_1of4</th><th scope=col>Nuclei_RadialDistribution_MeanFrac_Mito_4of4</th><th scope=col>Nuclei_RadialDistribution_MeanFrac_RNA_1of4</th><th scope=col>Nuclei_RadialDistribution_MeanFrac_RNA_4of4</th><th scope=col>Nuclei_RadialDistribution_RadialCV_DNA_1of4</th><th scope=col>Nuclei_Texture_Correlation_DNA_10_03</th><th scope=col>Nuclei_Texture_Correlation_ER_10_00</th><th scope=col>Nuclei_Texture_Correlation_ER_10_01</th><th scope=col>Nuclei_Texture_Correlation_ER_10_03</th><th scope=col>Nuclei_Texture_Correlation_Mito_10_02</th></tr>\n",
       "\t<tr><th scope=col>&lt;chr&gt;</th><th scope=col>&lt;chr&gt;</th><th scope=col>&lt;chr&gt;</th><th scope=col>&lt;int&gt;</th><th scope=col>&lt;chr&gt;</th><th scope=col>&lt;dbl&gt;</th><th scope=col>&lt;chr&gt;</th><th scope=col>&lt;dbl&gt;</th><th scope=col>&lt;chr&gt;</th><th scope=col>&lt;chr&gt;</th><th scope=col>⋯</th><th scope=col>&lt;dbl&gt;</th><th scope=col>&lt;dbl&gt;</th><th scope=col>&lt;dbl&gt;</th><th scope=col>&lt;dbl&gt;</th><th scope=col>&lt;dbl&gt;</th><th scope=col>&lt;dbl&gt;</th><th scope=col>&lt;dbl&gt;</th><th scope=col>&lt;dbl&gt;</th><th scope=col>&lt;dbl&gt;</th><th scope=col>&lt;dbl&gt;</th></tr>\n",
       "</thead>\n",
       "<tbody>\n",
       "\t<tr><td>219814</td><td>B10</td><td>2021_02_08_Batch11</td><td>12453</td><td>2.5x10^3 cells/well</td><td> 4</td><td>WT clone 01</td><td>20210205</td><td>219814</td><td>48 hr</td><td>⋯</td><td>0.9207350</td><td> 2.292470</td><td>2.786923</td><td> 0.2150331</td><td>1.801948</td><td> 2.8111508</td><td>-0.3725710</td><td>-0.41285981</td><td>-0.41128528</td><td>1.5414147</td></tr>\n",
       "\t<tr><td>219814</td><td>B11</td><td>2021_02_08_Batch11</td><td> 2914</td><td>2.5x10^3 cells/well</td><td> 5</td><td>WT clone 02</td><td>20210205</td><td>219814</td><td>48 hr</td><td>⋯</td><td>0.4977887</td><td>-1.757208</td><td>1.136210</td><td>-4.1661807</td><td>2.112966</td><td> 0.1271175</td><td> 0.2419688</td><td>-0.07904743</td><td>-0.07081247</td><td>1.9853635</td></tr>\n",
       "\t<tr><td>219814</td><td>C02</td><td>2021_02_08_Batch11</td><td> 6314</td><td>2.5x10^3 cells/well</td><td>10</td><td>BZ002      </td><td>20210205</td><td>219814</td><td>48 hr</td><td>⋯</td><td>3.4329133</td><td> 2.349513</td><td>2.210480</td><td> 6.0104808</td><td>1.421137</td><td> 3.3594385</td><td> 0.0205416</td><td>-0.18167256</td><td>-0.18991518</td><td>0.8667502</td></tr>\n",
       "\t<tr><td>219814</td><td>C03</td><td>2021_02_08_Batch11</td><td> 4275</td><td>2.5x10^3 cells/well</td><td> 9</td><td>BZ001      </td><td>20210205</td><td>219814</td><td>48 hr</td><td>⋯</td><td>5.8284016</td><td>-4.883283</td><td>3.258141</td><td>-5.7022461</td><td>3.305521</td><td>-2.6333408</td><td> 0.3541864</td><td>-0.35552921</td><td>-0.37832162</td><td>1.8785706</td></tr>\n",
       "</tbody>\n",
       "</table>\n"
      ],
      "text/latex": [
       "A tibble: 4 × 272\n",
       "\\begin{tabular}{lllllllllllllllllllll}\n",
       " Metadata\\_Plate & Metadata\\_Well & Metadata\\_batch & Metadata\\_cell\\_count & Metadata\\_cell\\_density & Metadata\\_celltype\\_shorthand\\_from\\_plate\\_graph & Metadata\\_clone\\_number & Metadata\\_date & Metadata\\_plate\\_map\\_name & Metadata\\_time\\_to\\_adhere & ⋯ & Nuclei\\_RadialDistribution\\_MeanFrac\\_Mito\\_1of4 & Nuclei\\_RadialDistribution\\_MeanFrac\\_Mito\\_4of4 & Nuclei\\_RadialDistribution\\_MeanFrac\\_RNA\\_1of4 & Nuclei\\_RadialDistribution\\_MeanFrac\\_RNA\\_4of4 & Nuclei\\_RadialDistribution\\_RadialCV\\_DNA\\_1of4 & Nuclei\\_Texture\\_Correlation\\_DNA\\_10\\_03 & Nuclei\\_Texture\\_Correlation\\_ER\\_10\\_00 & Nuclei\\_Texture\\_Correlation\\_ER\\_10\\_01 & Nuclei\\_Texture\\_Correlation\\_ER\\_10\\_03 & Nuclei\\_Texture\\_Correlation\\_Mito\\_10\\_02\\\\\n",
       " <chr> & <chr> & <chr> & <int> & <chr> & <dbl> & <chr> & <dbl> & <chr> & <chr> & ⋯ & <dbl> & <dbl> & <dbl> & <dbl> & <dbl> & <dbl> & <dbl> & <dbl> & <dbl> & <dbl>\\\\\n",
       "\\hline\n",
       "\t 219814 & B10 & 2021\\_02\\_08\\_Batch11 & 12453 & 2.5x10\\textasciicircum{}3 cells/well &  4 & WT clone 01 & 20210205 & 219814 & 48 hr & ⋯ & 0.9207350 &  2.292470 & 2.786923 &  0.2150331 & 1.801948 &  2.8111508 & -0.3725710 & -0.41285981 & -0.41128528 & 1.5414147\\\\\n",
       "\t 219814 & B11 & 2021\\_02\\_08\\_Batch11 &  2914 & 2.5x10\\textasciicircum{}3 cells/well &  5 & WT clone 02 & 20210205 & 219814 & 48 hr & ⋯ & 0.4977887 & -1.757208 & 1.136210 & -4.1661807 & 2.112966 &  0.1271175 &  0.2419688 & -0.07904743 & -0.07081247 & 1.9853635\\\\\n",
       "\t 219814 & C02 & 2021\\_02\\_08\\_Batch11 &  6314 & 2.5x10\\textasciicircum{}3 cells/well & 10 & BZ002       & 20210205 & 219814 & 48 hr & ⋯ & 3.4329133 &  2.349513 & 2.210480 &  6.0104808 & 1.421137 &  3.3594385 &  0.0205416 & -0.18167256 & -0.18991518 & 0.8667502\\\\\n",
       "\t 219814 & C03 & 2021\\_02\\_08\\_Batch11 &  4275 & 2.5x10\\textasciicircum{}3 cells/well &  9 & BZ001       & 20210205 & 219814 & 48 hr & ⋯ & 5.8284016 & -4.883283 & 3.258141 & -5.7022461 & 3.305521 & -2.6333408 &  0.3541864 & -0.35552921 & -0.37832162 & 1.8785706\\\\\n",
       "\\end{tabular}\n"
      ],
      "text/markdown": [
       "\n",
       "A tibble: 4 × 272\n",
       "\n",
       "| Metadata_Plate &lt;chr&gt; | Metadata_Well &lt;chr&gt; | Metadata_batch &lt;chr&gt; | Metadata_cell_count &lt;int&gt; | Metadata_cell_density &lt;chr&gt; | Metadata_celltype_shorthand_from_plate_graph &lt;dbl&gt; | Metadata_clone_number &lt;chr&gt; | Metadata_date &lt;dbl&gt; | Metadata_plate_map_name &lt;chr&gt; | Metadata_time_to_adhere &lt;chr&gt; | ⋯ ⋯ | Nuclei_RadialDistribution_MeanFrac_Mito_1of4 &lt;dbl&gt; | Nuclei_RadialDistribution_MeanFrac_Mito_4of4 &lt;dbl&gt; | Nuclei_RadialDistribution_MeanFrac_RNA_1of4 &lt;dbl&gt; | Nuclei_RadialDistribution_MeanFrac_RNA_4of4 &lt;dbl&gt; | Nuclei_RadialDistribution_RadialCV_DNA_1of4 &lt;dbl&gt; | Nuclei_Texture_Correlation_DNA_10_03 &lt;dbl&gt; | Nuclei_Texture_Correlation_ER_10_00 &lt;dbl&gt; | Nuclei_Texture_Correlation_ER_10_01 &lt;dbl&gt; | Nuclei_Texture_Correlation_ER_10_03 &lt;dbl&gt; | Nuclei_Texture_Correlation_Mito_10_02 &lt;dbl&gt; |\n",
       "|---|---|---|---|---|---|---|---|---|---|---|---|---|---|---|---|---|---|---|---|---|\n",
       "| 219814 | B10 | 2021_02_08_Batch11 | 12453 | 2.5x10^3 cells/well |  4 | WT clone 01 | 20210205 | 219814 | 48 hr | ⋯ | 0.9207350 |  2.292470 | 2.786923 |  0.2150331 | 1.801948 |  2.8111508 | -0.3725710 | -0.41285981 | -0.41128528 | 1.5414147 |\n",
       "| 219814 | B11 | 2021_02_08_Batch11 |  2914 | 2.5x10^3 cells/well |  5 | WT clone 02 | 20210205 | 219814 | 48 hr | ⋯ | 0.4977887 | -1.757208 | 1.136210 | -4.1661807 | 2.112966 |  0.1271175 |  0.2419688 | -0.07904743 | -0.07081247 | 1.9853635 |\n",
       "| 219814 | C02 | 2021_02_08_Batch11 |  6314 | 2.5x10^3 cells/well | 10 | BZ002       | 20210205 | 219814 | 48 hr | ⋯ | 3.4329133 |  2.349513 | 2.210480 |  6.0104808 | 1.421137 |  3.3594385 |  0.0205416 | -0.18167256 | -0.18991518 | 0.8667502 |\n",
       "| 219814 | C03 | 2021_02_08_Batch11 |  4275 | 2.5x10^3 cells/well |  9 | BZ001       | 20210205 | 219814 | 48 hr | ⋯ | 5.8284016 | -4.883283 | 3.258141 | -5.7022461 | 3.305521 | -2.6333408 |  0.3541864 | -0.35552921 | -0.37832162 | 1.8785706 |\n",
       "\n"
      ],
      "text/plain": [
       "  Metadata_Plate Metadata_Well Metadata_batch     Metadata_cell_count\n",
       "1 219814         B10           2021_02_08_Batch11 12453              \n",
       "2 219814         B11           2021_02_08_Batch11  2914              \n",
       "3 219814         C02           2021_02_08_Batch11  6314              \n",
       "4 219814         C03           2021_02_08_Batch11  4275              \n",
       "  Metadata_cell_density Metadata_celltype_shorthand_from_plate_graph\n",
       "1 2.5x10^3 cells/well    4                                          \n",
       "2 2.5x10^3 cells/well    5                                          \n",
       "3 2.5x10^3 cells/well   10                                          \n",
       "4 2.5x10^3 cells/well    9                                          \n",
       "  Metadata_clone_number Metadata_date Metadata_plate_map_name\n",
       "1 WT clone 01           20210205      219814                 \n",
       "2 WT clone 02           20210205      219814                 \n",
       "3 BZ002                 20210205      219814                 \n",
       "4 BZ001                 20210205      219814                 \n",
       "  Metadata_time_to_adhere ⋯ Nuclei_RadialDistribution_MeanFrac_Mito_1of4\n",
       "1 48 hr                   ⋯ 0.9207350                                   \n",
       "2 48 hr                   ⋯ 0.4977887                                   \n",
       "3 48 hr                   ⋯ 3.4329133                                   \n",
       "4 48 hr                   ⋯ 5.8284016                                   \n",
       "  Nuclei_RadialDistribution_MeanFrac_Mito_4of4\n",
       "1  2.292470                                   \n",
       "2 -1.757208                                   \n",
       "3  2.349513                                   \n",
       "4 -4.883283                                   \n",
       "  Nuclei_RadialDistribution_MeanFrac_RNA_1of4\n",
       "1 2.786923                                   \n",
       "2 1.136210                                   \n",
       "3 2.210480                                   \n",
       "4 3.258141                                   \n",
       "  Nuclei_RadialDistribution_MeanFrac_RNA_4of4\n",
       "1  0.2150331                                 \n",
       "2 -4.1661807                                 \n",
       "3  6.0104808                                 \n",
       "4 -5.7022461                                 \n",
       "  Nuclei_RadialDistribution_RadialCV_DNA_1of4\n",
       "1 1.801948                                   \n",
       "2 2.112966                                   \n",
       "3 1.421137                                   \n",
       "4 3.305521                                   \n",
       "  Nuclei_Texture_Correlation_DNA_10_03 Nuclei_Texture_Correlation_ER_10_00\n",
       "1  2.8111508                           -0.3725710                         \n",
       "2  0.1271175                            0.2419688                         \n",
       "3  3.3594385                            0.0205416                         \n",
       "4 -2.6333408                            0.3541864                         \n",
       "  Nuclei_Texture_Correlation_ER_10_01 Nuclei_Texture_Correlation_ER_10_03\n",
       "1 -0.41285981                         -0.41128528                        \n",
       "2 -0.07904743                         -0.07081247                        \n",
       "3 -0.18167256                         -0.18991518                        \n",
       "4 -0.35552921                         -0.37832162                        \n",
       "  Nuclei_Texture_Correlation_Mito_10_02\n",
       "1 1.5414147                            \n",
       "2 1.9853635                            \n",
       "3 0.8667502                            \n",
       "4 1.8785706                            "
      ]
     },
     "metadata": {},
     "output_type": "display_data"
    }
   ],
   "source": [
    "# Load profiles\n",
    "bulk_col_types <- readr::cols(\n",
    "    .default = readr::col_double(),\n",
    "    Metadata_Plate = readr::col_character(),\n",
    "    Metadata_Well = readr::col_character(),\n",
    "    Metadata_cell_count = readr::col_integer(),\n",
    "    Metadata_batch = readr::col_character(),\n",
    "    Metadata_clone_number = readr::col_character(),\n",
    "    Metadata_plate_map_name = readr::col_character(),\n",
    "    Metadata_treatment = readr::col_character(),\n",
    "    Metadata_dataset = readr::col_character(),\n",
    "    Metadata_clone_type = readr::col_character(),\n",
    "    Metadata_clone_type_indicator = readr::col_character(),\n",
    "    Metadata_model_split = readr::col_character(),\n",
    "    Metadata_cell_density = readr::col_character(),\n",
    "    Metadata_treatment_time = readr::col_character(),\n",
    "    Metadata_unique_sample_name = readr::col_character(),\n",
    "    Metadata_time_to_adhere = readr::col_character()\n",
    ")\n",
    "\n",
    "data_df <- readr::read_tsv(data_file, col_types = bulk_col_types)\n",
    "\n",
    "print(dim(data_df))\n",
    "head(data_df, 4)"
   ]
  },
  {
   "cell_type": "code",
   "execution_count": 5,
   "metadata": {},
   "outputs": [
    {
     "name": "stdout",
     "output_type": "stream",
     "text": [
      "[1] 260   6\n"
     ]
    },
    {
     "data": {
      "text/html": [
       "<table>\n",
       "<caption>A tibble: 4 × 6</caption>\n",
       "<thead>\n",
       "\t<tr><th scope=col>features</th><th scope=col>non_status_significant_exclude</th><th scope=col>cell_count_exclude</th><th scope=col>non_specific_exclude</th><th scope=col>final_signature</th><th scope=col>dataset</th></tr>\n",
       "\t<tr><th scope=col>&lt;chr&gt;</th><th scope=col>&lt;lgl&gt;</th><th scope=col>&lt;lgl&gt;</th><th scope=col>&lt;lgl&gt;</th><th scope=col>&lt;lgl&gt;</th><th scope=col>&lt;chr&gt;</th></tr>\n",
       "</thead>\n",
       "<tbody>\n",
       "\t<tr><td>Cells_AreaShape_Compactness </td><td>FALSE</td><td>FALSE</td><td> TRUE</td><td>FALSE</td><td>bortezomib</td></tr>\n",
       "\t<tr><td>Cells_AreaShape_Eccentricity</td><td>FALSE</td><td>FALSE</td><td> TRUE</td><td>FALSE</td><td>bortezomib</td></tr>\n",
       "\t<tr><td>Cells_AreaShape_MeanRadius  </td><td> TRUE</td><td>FALSE</td><td>FALSE</td><td>FALSE</td><td>bortezomib</td></tr>\n",
       "\t<tr><td>Cells_AreaShape_MedianRadius</td><td> TRUE</td><td>FALSE</td><td>FALSE</td><td>FALSE</td><td>bortezomib</td></tr>\n",
       "</tbody>\n",
       "</table>\n"
      ],
      "text/latex": [
       "A tibble: 4 × 6\n",
       "\\begin{tabular}{llllll}\n",
       " features & non\\_status\\_significant\\_exclude & cell\\_count\\_exclude & non\\_specific\\_exclude & final\\_signature & dataset\\\\\n",
       " <chr> & <lgl> & <lgl> & <lgl> & <lgl> & <chr>\\\\\n",
       "\\hline\n",
       "\t Cells\\_AreaShape\\_Compactness  & FALSE & FALSE &  TRUE & FALSE & bortezomib\\\\\n",
       "\t Cells\\_AreaShape\\_Eccentricity & FALSE & FALSE &  TRUE & FALSE & bortezomib\\\\\n",
       "\t Cells\\_AreaShape\\_MeanRadius   &  TRUE & FALSE & FALSE & FALSE & bortezomib\\\\\n",
       "\t Cells\\_AreaShape\\_MedianRadius &  TRUE & FALSE & FALSE & FALSE & bortezomib\\\\\n",
       "\\end{tabular}\n"
      ],
      "text/markdown": [
       "\n",
       "A tibble: 4 × 6\n",
       "\n",
       "| features &lt;chr&gt; | non_status_significant_exclude &lt;lgl&gt; | cell_count_exclude &lt;lgl&gt; | non_specific_exclude &lt;lgl&gt; | final_signature &lt;lgl&gt; | dataset &lt;chr&gt; |\n",
       "|---|---|---|---|---|---|\n",
       "| Cells_AreaShape_Compactness  | FALSE | FALSE |  TRUE | FALSE | bortezomib |\n",
       "| Cells_AreaShape_Eccentricity | FALSE | FALSE |  TRUE | FALSE | bortezomib |\n",
       "| Cells_AreaShape_MeanRadius   |  TRUE | FALSE | FALSE | FALSE | bortezomib |\n",
       "| Cells_AreaShape_MedianRadius |  TRUE | FALSE | FALSE | FALSE | bortezomib |\n",
       "\n"
      ],
      "text/plain": [
       "  features                     non_status_significant_exclude\n",
       "1 Cells_AreaShape_Compactness  FALSE                         \n",
       "2 Cells_AreaShape_Eccentricity FALSE                         \n",
       "3 Cells_AreaShape_MeanRadius    TRUE                         \n",
       "4 Cells_AreaShape_MedianRadius  TRUE                         \n",
       "  cell_count_exclude non_specific_exclude final_signature dataset   \n",
       "1 FALSE               TRUE                FALSE           bortezomib\n",
       "2 FALSE               TRUE                FALSE           bortezomib\n",
       "3 FALSE              FALSE                FALSE           bortezomib\n",
       "4 FALSE              FALSE                FALSE           bortezomib"
      ]
     },
     "metadata": {},
     "output_type": "display_data"
    }
   ],
   "source": [
    "# Load signatures\n",
    "sig_col_types <- readr::cols(\n",
    "    features = readr::col_character(),\n",
    "    non_specific_exclude = readr::col_logical(),\n",
    "    final_signature = readr::col_logical(),\n",
    "    dataset = readr::col_character()\n",
    ")\n",
    "\n",
    "signature_df <- readr::read_tsv(signature_file, col_types = sig_col_types)\n",
    "\n",
    "print(dim(signature_df))\n",
    "head(signature_df, 4)"
   ]
  },
  {
   "cell_type": "code",
   "execution_count": 6,
   "metadata": {},
   "outputs": [
    {
     "name": "stdout",
     "output_type": "stream",
     "text": [
      "[1] 11684     9\n"
     ]
    },
    {
     "data": {
      "text/html": [
       "<table>\n",
       "<caption>A tibble: 4 × 9</caption>\n",
       "<thead>\n",
       "\t<tr><th scope=col>term</th><th scope=col>comparison</th><th scope=col>estimate</th><th scope=col>conf.low</th><th scope=col>conf.high</th><th scope=col>adj.p.value</th><th scope=col>feature</th><th scope=col>neg_log_adj_p</th><th scope=col>dataset</th></tr>\n",
       "\t<tr><th scope=col>&lt;chr&gt;</th><th scope=col>&lt;chr&gt;</th><th scope=col>&lt;dbl&gt;</th><th scope=col>&lt;dbl&gt;</th><th scope=col>&lt;dbl&gt;</th><th scope=col>&lt;dbl&gt;</th><th scope=col>&lt;chr&gt;</th><th scope=col>&lt;dbl&gt;</th><th scope=col>&lt;chr&gt;</th></tr>\n",
       "</thead>\n",
       "<tbody>\n",
       "\t<tr><td>Metadata_clone_type_indicator</td><td>1-0        </td><td>-0.2513397</td><td>-0.3572613</td><td>-0.145418</td><td>7.715345e-05</td><td>Cytoplasm_AreaShape_MedianRadius</td><td> 4.112645</td><td>bortezomib</td></tr>\n",
       "\t<tr><td>Metadata_clone_number        </td><td>BZ002-BZ001</td><td> 1.8594766</td><td> 1.4574061</td><td> 2.261547</td><td>1.950795e-11</td><td>Cytoplasm_AreaShape_MedianRadius</td><td>10.709788</td><td>bortezomib</td></tr>\n",
       "\t<tr><td>Metadata_clone_number        </td><td>BZ003-BZ001</td><td> 2.0390049</td><td> 1.6369345</td><td> 2.441075</td><td>3.208100e-12</td><td>Cytoplasm_AreaShape_MedianRadius</td><td>11.493752</td><td>bortezomib</td></tr>\n",
       "\t<tr><td>Metadata_clone_number        </td><td>BZ004-BZ001</td><td> 1.8594766</td><td> 1.4574061</td><td> 2.261547</td><td>1.950795e-11</td><td>Cytoplasm_AreaShape_MedianRadius</td><td>10.709788</td><td>bortezomib</td></tr>\n",
       "</tbody>\n",
       "</table>\n"
      ],
      "text/latex": [
       "A tibble: 4 × 9\n",
       "\\begin{tabular}{lllllllll}\n",
       " term & comparison & estimate & conf.low & conf.high & adj.p.value & feature & neg\\_log\\_adj\\_p & dataset\\\\\n",
       " <chr> & <chr> & <dbl> & <dbl> & <dbl> & <dbl> & <chr> & <dbl> & <chr>\\\\\n",
       "\\hline\n",
       "\t Metadata\\_clone\\_type\\_indicator & 1-0         & -0.2513397 & -0.3572613 & -0.145418 & 7.715345e-05 & Cytoplasm\\_AreaShape\\_MedianRadius &  4.112645 & bortezomib\\\\\n",
       "\t Metadata\\_clone\\_number         & BZ002-BZ001 &  1.8594766 &  1.4574061 &  2.261547 & 1.950795e-11 & Cytoplasm\\_AreaShape\\_MedianRadius & 10.709788 & bortezomib\\\\\n",
       "\t Metadata\\_clone\\_number         & BZ003-BZ001 &  2.0390049 &  1.6369345 &  2.441075 & 3.208100e-12 & Cytoplasm\\_AreaShape\\_MedianRadius & 11.493752 & bortezomib\\\\\n",
       "\t Metadata\\_clone\\_number         & BZ004-BZ001 &  1.8594766 &  1.4574061 &  2.261547 & 1.950795e-11 & Cytoplasm\\_AreaShape\\_MedianRadius & 10.709788 & bortezomib\\\\\n",
       "\\end{tabular}\n"
      ],
      "text/markdown": [
       "\n",
       "A tibble: 4 × 9\n",
       "\n",
       "| term &lt;chr&gt; | comparison &lt;chr&gt; | estimate &lt;dbl&gt; | conf.low &lt;dbl&gt; | conf.high &lt;dbl&gt; | adj.p.value &lt;dbl&gt; | feature &lt;chr&gt; | neg_log_adj_p &lt;dbl&gt; | dataset &lt;chr&gt; |\n",
       "|---|---|---|---|---|---|---|---|---|\n",
       "| Metadata_clone_type_indicator | 1-0         | -0.2513397 | -0.3572613 | -0.145418 | 7.715345e-05 | Cytoplasm_AreaShape_MedianRadius |  4.112645 | bortezomib |\n",
       "| Metadata_clone_number         | BZ002-BZ001 |  1.8594766 |  1.4574061 |  2.261547 | 1.950795e-11 | Cytoplasm_AreaShape_MedianRadius | 10.709788 | bortezomib |\n",
       "| Metadata_clone_number         | BZ003-BZ001 |  2.0390049 |  1.6369345 |  2.441075 | 3.208100e-12 | Cytoplasm_AreaShape_MedianRadius | 11.493752 | bortezomib |\n",
       "| Metadata_clone_number         | BZ004-BZ001 |  1.8594766 |  1.4574061 |  2.261547 | 1.950795e-11 | Cytoplasm_AreaShape_MedianRadius | 10.709788 | bortezomib |\n",
       "\n"
      ],
      "text/plain": [
       "  term                          comparison  estimate   conf.low   conf.high\n",
       "1 Metadata_clone_type_indicator 1-0         -0.2513397 -0.3572613 -0.145418\n",
       "2 Metadata_clone_number         BZ002-BZ001  1.8594766  1.4574061  2.261547\n",
       "3 Metadata_clone_number         BZ003-BZ001  2.0390049  1.6369345  2.441075\n",
       "4 Metadata_clone_number         BZ004-BZ001  1.8594766  1.4574061  2.261547\n",
       "  adj.p.value  feature                          neg_log_adj_p dataset   \n",
       "1 7.715345e-05 Cytoplasm_AreaShape_MedianRadius  4.112645     bortezomib\n",
       "2 1.950795e-11 Cytoplasm_AreaShape_MedianRadius 10.709788     bortezomib\n",
       "3 3.208100e-12 Cytoplasm_AreaShape_MedianRadius 11.493752     bortezomib\n",
       "4 1.950795e-11 Cytoplasm_AreaShape_MedianRadius 10.709788     bortezomib"
      ]
     },
     "metadata": {},
     "output_type": "display_data"
    }
   ],
   "source": [
    "# Load Tukey results (to determine if feature is \"up\" or \"down\")\n",
    "tukey_cols <- readr::cols(\n",
    "    term = readr::col_character(),\n",
    "    comparison = readr::col_character(),\n",
    "    estimate = readr::col_double(),\n",
    "    conf.low = readr::col_double(),\n",
    "    conf.high = readr::col_double(),\n",
    "    adj.p.value = readr::col_double(),\n",
    "    feature = readr::col_character(),\n",
    "    neg_log_adj_p = readr::col_double(),\n",
    "    dataset = readr::col_character()\n",
    ")\n",
    "\n",
    "tukey_df <- readr::read_tsv(tukey_file, col_types = tukey_cols)\n",
    "\n",
    "print(dim(tukey_df))\n",
    "head(tukey_df, 4)"
   ]
  },
  {
   "cell_type": "code",
   "execution_count": 7,
   "metadata": {},
   "outputs": [],
   "source": [
    "# Subset data to process dataset-specific signature\n",
    "signature_subset_df <- signature_df %>%\n",
    "    dplyr::filter(dataset == !!dataset, final_signature)\n",
    "\n",
    "tukey_subset_df <- tukey_df %>%\n",
    "    dplyr::filter(\n",
    "        dataset == !!dataset,\n",
    "        term == \"Metadata_clone_type_indicator\",\n",
    "        feature %in% signature_subset_df$features\n",
    "    )\n",
    "\n",
    "# Ensure that the comparison is always resistant vs. senstive\n",
    "# and never the other way around!\n",
    "stopifnot(length(table(tukey_subset_df$comparison)) == 1)\n",
    "\n",
    "# Determine feature direction\n",
    "up_features <- tukey_subset_df %>% dplyr::filter(estimate > 0) %>% dplyr::pull(feature)\n",
    "down_features <- tukey_subset_df %>% dplyr::filter(estimate < 0) %>% dplyr::pull(feature)\n",
    "\n",
    "# Store signature for downstream analyses\n",
    "signature_features <- list(\"up\" = up_features, \"down\" = down_features)"
   ]
  },
  {
   "cell_type": "code",
   "execution_count": 8,
   "metadata": {},
   "outputs": [
    {
     "data": {
      "text/html": [
       "<dl>\n",
       "\t<dt>$up</dt>\n",
       "\t\t<dd><style>\n",
       ".list-inline {list-style: none; margin:0; padding: 0}\n",
       ".list-inline>li {display: inline-block}\n",
       ".list-inline>li:not(:last-child)::after {content: \"\\00b7\"; padding: 0 .5ex}\n",
       "</style>\n",
       "<ol class=list-inline><li>'Cytoplasm_AreaShape_Zernike_5_5'</li><li>'Cells_Correlation_Overlap_DNA_ER'</li><li>'Nuclei_Correlation_Correlation_Mito_ER'</li><li>'Cytoplasm_AreaShape_Zernike_3_3'</li><li>'Cells_AreaShape_Zernike_3_3'</li><li>'Cytoplasm_AreaShape_Zernike_9_9'</li><li>'Cells_Correlation_Overlap_DNA_Mito'</li></ol>\n",
       "</dd>\n",
       "\t<dt>$down</dt>\n",
       "\t\t<dd><style>\n",
       ".list-inline {list-style: none; margin:0; padding: 0}\n",
       ".list-inline>li {display: inline-block}\n",
       ".list-inline>li:not(:last-child)::after {content: \"\\00b7\"; padding: 0 .5ex}\n",
       "</style>\n",
       "<ol class=list-inline><li>'Nuclei_RadialDistribution_FracAtD_ER_4of4'</li><li>'Cytoplasm_RadialDistribution_MeanFrac_DNA_1of4'</li><li>'Cells_AreaShape_Zernike_4_2'</li></ol>\n",
       "</dd>\n",
       "</dl>\n"
      ],
      "text/latex": [
       "\\begin{description}\n",
       "\\item[\\$up] \\begin{enumerate*}\n",
       "\\item 'Cytoplasm\\_AreaShape\\_Zernike\\_5\\_5'\n",
       "\\item 'Cells\\_Correlation\\_Overlap\\_DNA\\_ER'\n",
       "\\item 'Nuclei\\_Correlation\\_Correlation\\_Mito\\_ER'\n",
       "\\item 'Cytoplasm\\_AreaShape\\_Zernike\\_3\\_3'\n",
       "\\item 'Cells\\_AreaShape\\_Zernike\\_3\\_3'\n",
       "\\item 'Cytoplasm\\_AreaShape\\_Zernike\\_9\\_9'\n",
       "\\item 'Cells\\_Correlation\\_Overlap\\_DNA\\_Mito'\n",
       "\\end{enumerate*}\n",
       "\n",
       "\\item[\\$down] \\begin{enumerate*}\n",
       "\\item 'Nuclei\\_RadialDistribution\\_FracAtD\\_ER\\_4of4'\n",
       "\\item 'Cytoplasm\\_RadialDistribution\\_MeanFrac\\_DNA\\_1of4'\n",
       "\\item 'Cells\\_AreaShape\\_Zernike\\_4\\_2'\n",
       "\\end{enumerate*}\n",
       "\n",
       "\\end{description}\n"
      ],
      "text/markdown": [
       "$up\n",
       ":   1. 'Cytoplasm_AreaShape_Zernike_5_5'\n",
       "2. 'Cells_Correlation_Overlap_DNA_ER'\n",
       "3. 'Nuclei_Correlation_Correlation_Mito_ER'\n",
       "4. 'Cytoplasm_AreaShape_Zernike_3_3'\n",
       "5. 'Cells_AreaShape_Zernike_3_3'\n",
       "6. 'Cytoplasm_AreaShape_Zernike_9_9'\n",
       "7. 'Cells_Correlation_Overlap_DNA_Mito'\n",
       "\n",
       "\n",
       "\n",
       "$down\n",
       ":   1. 'Nuclei_RadialDistribution_FracAtD_ER_4of4'\n",
       "2. 'Cytoplasm_RadialDistribution_MeanFrac_DNA_1of4'\n",
       "3. 'Cells_AreaShape_Zernike_4_2'\n",
       "\n",
       "\n",
       "\n",
       "\n",
       "\n"
      ],
      "text/plain": [
       "$up\n",
       "[1] \"Cytoplasm_AreaShape_Zernike_5_5\"       \n",
       "[2] \"Cells_Correlation_Overlap_DNA_ER\"      \n",
       "[3] \"Nuclei_Correlation_Correlation_Mito_ER\"\n",
       "[4] \"Cytoplasm_AreaShape_Zernike_3_3\"       \n",
       "[5] \"Cells_AreaShape_Zernike_3_3\"           \n",
       "[6] \"Cytoplasm_AreaShape_Zernike_9_9\"       \n",
       "[7] \"Cells_Correlation_Overlap_DNA_Mito\"    \n",
       "\n",
       "$down\n",
       "[1] \"Nuclei_RadialDistribution_FracAtD_ER_4of4\"     \n",
       "[2] \"Cytoplasm_RadialDistribution_MeanFrac_DNA_1of4\"\n",
       "[3] \"Cells_AreaShape_Zernike_4_2\"                   \n"
      ]
     },
     "metadata": {},
     "output_type": "display_data"
    }
   ],
   "source": [
    "signature_features"
   ]
  },
  {
   "cell_type": "code",
   "execution_count": 9,
   "metadata": {},
   "outputs": [
    {
     "name": "stderr",
     "output_type": "stream",
     "text": [
      "Warning message:\n",
      "“'tidy.numeric' is deprecated.\n",
      "See help(\"Deprecated\")”Warning message:\n",
      "“`data_frame()` is deprecated as of tibble 1.1.0.\n",
      "Please use `tibble()` instead.\n",
      "\u001b[90mThis warning is displayed once every 8 hours.\u001b[39m\n",
      "\u001b[90mCall `lifecycle::last_warnings()` to see where this warning was generated.\u001b[39m”"
     ]
    }
   ],
   "source": [
    "singscore_output = singscorePipeline(\n",
    "    df = data_df,\n",
    "    sig_feature_list = signature_features,\n",
    "    num_permutations = num_permutations\n",
    ")\n",
    "\n",
    "full_results_df <- singscore_output[[\"results\"]]\n",
    "permuted <- singscore_output[[\"permuted\"]]\n",
    "\n",
    "# Get max and minimum values of permutation results\n",
    "min_val <- quantile(as.vector(as.matrix(permuted)), 0.05)\n",
    "max_val <- quantile(as.vector(as.matrix(permuted)), 0.95)\n",
    "\n",
    "# Annotate some key metadata and store to list\n",
    "sing_score_results_df <- full_results_df %>%\n",
    "    dplyr::mutate(\n",
    "        dataset = dataset,\n",
    "        min_permuted_value = min_val,\n",
    "        max_permuted_value = max_val\n",
    "    )"
   ]
  },
  {
   "cell_type": "code",
   "execution_count": 10,
   "metadata": {},
   "outputs": [
    {
     "name": "stdout",
     "output_type": "stream",
     "text": [
      "[1] 165  28\n"
     ]
    },
    {
     "data": {
      "text/html": [
       "<table>\n",
       "<caption>A tibble: 6 × 28</caption>\n",
       "<thead>\n",
       "\t<tr><th scope=col>Metadata_Plate</th><th scope=col>Metadata_Well</th><th scope=col>Metadata_batch</th><th scope=col>Metadata_cell_count</th><th scope=col>Metadata_cell_density</th><th scope=col>Metadata_celltype_shorthand_from_plate_graph</th><th scope=col>Metadata_clone_number</th><th scope=col>Metadata_date</th><th scope=col>Metadata_plate_map_name</th><th scope=col>Metadata_time_to_adhere</th><th scope=col>⋯</th><th scope=col>TotalScore</th><th scope=col>TotalDispersion</th><th scope=col>UpScore</th><th scope=col>UpDispersion</th><th scope=col>DownScore</th><th scope=col>DownDispersion</th><th scope=col>Metadata_permuted_p_value</th><th scope=col>dataset</th><th scope=col>min_permuted_value</th><th scope=col>max_permuted_value</th></tr>\n",
       "\t<tr><th scope=col>&lt;chr&gt;</th><th scope=col>&lt;chr&gt;</th><th scope=col>&lt;chr&gt;</th><th scope=col>&lt;int&gt;</th><th scope=col>&lt;chr&gt;</th><th scope=col>&lt;dbl&gt;</th><th scope=col>&lt;chr&gt;</th><th scope=col>&lt;dbl&gt;</th><th scope=col>&lt;chr&gt;</th><th scope=col>&lt;chr&gt;</th><th scope=col>⋯</th><th scope=col>&lt;dbl&gt;</th><th scope=col>&lt;dbl&gt;</th><th scope=col>&lt;dbl&gt;</th><th scope=col>&lt;dbl&gt;</th><th scope=col>&lt;dbl&gt;</th><th scope=col>&lt;dbl&gt;</th><th scope=col>&lt;dbl&gt;</th><th scope=col>&lt;chr&gt;</th><th scope=col>&lt;dbl&gt;</th><th scope=col>&lt;dbl&gt;</th></tr>\n",
       "</thead>\n",
       "<tbody>\n",
       "\t<tr><td>219814</td><td>B10</td><td>2021_02_08_Batch11</td><td>12453</td><td>2.5x10^3 cells/well</td><td> 4</td><td>WT clone 01</td><td>20210205</td><td>219814</td><td>48 hr</td><td>⋯</td><td>-0.31530097</td><td>126.0210</td><td>-0.21370735</td><td>60.7866</td><td>-0.101593625</td><td>65.2344</td><td>0.941</td><td>bortezomib</td><td>-0.3411847</td><td>0.3310993</td></tr>\n",
       "\t<tr><td>219814</td><td>B11</td><td>2021_02_08_Batch11</td><td> 2914</td><td>2.5x10^3 cells/well</td><td> 5</td><td>WT clone 02</td><td>20210205</td><td>219814</td><td>48 hr</td><td>⋯</td><td>-0.59142954</td><td> 17.7912</td><td>-0.32648930</td><td>10.3782</td><td>-0.264940239</td><td> 7.4130</td><td>1.000</td><td>bortezomib</td><td>-0.3411847</td><td>0.3310993</td></tr>\n",
       "\t<tr><td>219814</td><td>C02</td><td>2021_02_08_Batch11</td><td> 6314</td><td>2.5x10^3 cells/well</td><td>10</td><td>BZ002      </td><td>20210205</td><td>219814</td><td>48 hr</td><td>⋯</td><td>-0.01963229</td><td> 68.1996</td><td>-0.01764025</td><td>60.7866</td><td>-0.001992032</td><td> 7.4130</td><td>0.536</td><td>bortezomib</td><td>-0.3411847</td><td>0.3310993</td></tr>\n",
       "\t<tr><td>219814</td><td>C03</td><td>2021_02_08_Batch11</td><td> 4275</td><td>2.5x10^3 cells/well</td><td> 9</td><td>BZ001      </td><td>20210205</td><td>219814</td><td>48 hr</td><td>⋯</td><td>-0.10345355</td><td>100.8168</td><td>-0.11075766</td><td>53.3736</td><td> 0.007304117</td><td>47.4432</td><td>0.677</td><td>bortezomib</td><td>-0.3411847</td><td>0.3310993</td></tr>\n",
       "\t<tr><td>219814</td><td>C04</td><td>2021_02_08_Batch11</td><td> 3869</td><td>2.5x10^3 cells/well</td><td> 8</td><td>WT clone 05</td><td>20210205</td><td>219814</td><td>48 hr</td><td>⋯</td><td>-0.45474781</td><td> 29.6520</td><td>-0.28542510</td><td>25.2042</td><td>-0.169322709</td><td> 4.4478</td><td>0.988</td><td>bortezomib</td><td>-0.3411847</td><td>0.3310993</td></tr>\n",
       "\t<tr><td>219814</td><td>C05</td><td>2021_02_08_Batch11</td><td> 7621</td><td>2.5x10^3 cells/well</td><td> 7</td><td>WT clone 04</td><td>20210205</td><td>219814</td><td>48 hr</td><td>⋯</td><td>-0.36497388</td><td> 19.2738</td><td>-0.22353962</td><td>17.7912</td><td>-0.141434263</td><td> 1.4826</td><td>0.962</td><td>bortezomib</td><td>-0.3411847</td><td>0.3310993</td></tr>\n",
       "</tbody>\n",
       "</table>\n"
      ],
      "text/latex": [
       "A tibble: 6 × 28\n",
       "\\begin{tabular}{lllllllllllllllllllll}\n",
       " Metadata\\_Plate & Metadata\\_Well & Metadata\\_batch & Metadata\\_cell\\_count & Metadata\\_cell\\_density & Metadata\\_celltype\\_shorthand\\_from\\_plate\\_graph & Metadata\\_clone\\_number & Metadata\\_date & Metadata\\_plate\\_map\\_name & Metadata\\_time\\_to\\_adhere & ⋯ & TotalScore & TotalDispersion & UpScore & UpDispersion & DownScore & DownDispersion & Metadata\\_permuted\\_p\\_value & dataset & min\\_permuted\\_value & max\\_permuted\\_value\\\\\n",
       " <chr> & <chr> & <chr> & <int> & <chr> & <dbl> & <chr> & <dbl> & <chr> & <chr> & ⋯ & <dbl> & <dbl> & <dbl> & <dbl> & <dbl> & <dbl> & <dbl> & <chr> & <dbl> & <dbl>\\\\\n",
       "\\hline\n",
       "\t 219814 & B10 & 2021\\_02\\_08\\_Batch11 & 12453 & 2.5x10\\textasciicircum{}3 cells/well &  4 & WT clone 01 & 20210205 & 219814 & 48 hr & ⋯ & -0.31530097 & 126.0210 & -0.21370735 & 60.7866 & -0.101593625 & 65.2344 & 0.941 & bortezomib & -0.3411847 & 0.3310993\\\\\n",
       "\t 219814 & B11 & 2021\\_02\\_08\\_Batch11 &  2914 & 2.5x10\\textasciicircum{}3 cells/well &  5 & WT clone 02 & 20210205 & 219814 & 48 hr & ⋯ & -0.59142954 &  17.7912 & -0.32648930 & 10.3782 & -0.264940239 &  7.4130 & 1.000 & bortezomib & -0.3411847 & 0.3310993\\\\\n",
       "\t 219814 & C02 & 2021\\_02\\_08\\_Batch11 &  6314 & 2.5x10\\textasciicircum{}3 cells/well & 10 & BZ002       & 20210205 & 219814 & 48 hr & ⋯ & -0.01963229 &  68.1996 & -0.01764025 & 60.7866 & -0.001992032 &  7.4130 & 0.536 & bortezomib & -0.3411847 & 0.3310993\\\\\n",
       "\t 219814 & C03 & 2021\\_02\\_08\\_Batch11 &  4275 & 2.5x10\\textasciicircum{}3 cells/well &  9 & BZ001       & 20210205 & 219814 & 48 hr & ⋯ & -0.10345355 & 100.8168 & -0.11075766 & 53.3736 &  0.007304117 & 47.4432 & 0.677 & bortezomib & -0.3411847 & 0.3310993\\\\\n",
       "\t 219814 & C04 & 2021\\_02\\_08\\_Batch11 &  3869 & 2.5x10\\textasciicircum{}3 cells/well &  8 & WT clone 05 & 20210205 & 219814 & 48 hr & ⋯ & -0.45474781 &  29.6520 & -0.28542510 & 25.2042 & -0.169322709 &  4.4478 & 0.988 & bortezomib & -0.3411847 & 0.3310993\\\\\n",
       "\t 219814 & C05 & 2021\\_02\\_08\\_Batch11 &  7621 & 2.5x10\\textasciicircum{}3 cells/well &  7 & WT clone 04 & 20210205 & 219814 & 48 hr & ⋯ & -0.36497388 &  19.2738 & -0.22353962 & 17.7912 & -0.141434263 &  1.4826 & 0.962 & bortezomib & -0.3411847 & 0.3310993\\\\\n",
       "\\end{tabular}\n"
      ],
      "text/markdown": [
       "\n",
       "A tibble: 6 × 28\n",
       "\n",
       "| Metadata_Plate &lt;chr&gt; | Metadata_Well &lt;chr&gt; | Metadata_batch &lt;chr&gt; | Metadata_cell_count &lt;int&gt; | Metadata_cell_density &lt;chr&gt; | Metadata_celltype_shorthand_from_plate_graph &lt;dbl&gt; | Metadata_clone_number &lt;chr&gt; | Metadata_date &lt;dbl&gt; | Metadata_plate_map_name &lt;chr&gt; | Metadata_time_to_adhere &lt;chr&gt; | ⋯ ⋯ | TotalScore &lt;dbl&gt; | TotalDispersion &lt;dbl&gt; | UpScore &lt;dbl&gt; | UpDispersion &lt;dbl&gt; | DownScore &lt;dbl&gt; | DownDispersion &lt;dbl&gt; | Metadata_permuted_p_value &lt;dbl&gt; | dataset &lt;chr&gt; | min_permuted_value &lt;dbl&gt; | max_permuted_value &lt;dbl&gt; |\n",
       "|---|---|---|---|---|---|---|---|---|---|---|---|---|---|---|---|---|---|---|---|---|\n",
       "| 219814 | B10 | 2021_02_08_Batch11 | 12453 | 2.5x10^3 cells/well |  4 | WT clone 01 | 20210205 | 219814 | 48 hr | ⋯ | -0.31530097 | 126.0210 | -0.21370735 | 60.7866 | -0.101593625 | 65.2344 | 0.941 | bortezomib | -0.3411847 | 0.3310993 |\n",
       "| 219814 | B11 | 2021_02_08_Batch11 |  2914 | 2.5x10^3 cells/well |  5 | WT clone 02 | 20210205 | 219814 | 48 hr | ⋯ | -0.59142954 |  17.7912 | -0.32648930 | 10.3782 | -0.264940239 |  7.4130 | 1.000 | bortezomib | -0.3411847 | 0.3310993 |\n",
       "| 219814 | C02 | 2021_02_08_Batch11 |  6314 | 2.5x10^3 cells/well | 10 | BZ002       | 20210205 | 219814 | 48 hr | ⋯ | -0.01963229 |  68.1996 | -0.01764025 | 60.7866 | -0.001992032 |  7.4130 | 0.536 | bortezomib | -0.3411847 | 0.3310993 |\n",
       "| 219814 | C03 | 2021_02_08_Batch11 |  4275 | 2.5x10^3 cells/well |  9 | BZ001       | 20210205 | 219814 | 48 hr | ⋯ | -0.10345355 | 100.8168 | -0.11075766 | 53.3736 |  0.007304117 | 47.4432 | 0.677 | bortezomib | -0.3411847 | 0.3310993 |\n",
       "| 219814 | C04 | 2021_02_08_Batch11 |  3869 | 2.5x10^3 cells/well |  8 | WT clone 05 | 20210205 | 219814 | 48 hr | ⋯ | -0.45474781 |  29.6520 | -0.28542510 | 25.2042 | -0.169322709 |  4.4478 | 0.988 | bortezomib | -0.3411847 | 0.3310993 |\n",
       "| 219814 | C05 | 2021_02_08_Batch11 |  7621 | 2.5x10^3 cells/well |  7 | WT clone 04 | 20210205 | 219814 | 48 hr | ⋯ | -0.36497388 |  19.2738 | -0.22353962 | 17.7912 | -0.141434263 |  1.4826 | 0.962 | bortezomib | -0.3411847 | 0.3310993 |\n",
       "\n"
      ],
      "text/plain": [
       "  Metadata_Plate Metadata_Well Metadata_batch     Metadata_cell_count\n",
       "1 219814         B10           2021_02_08_Batch11 12453              \n",
       "2 219814         B11           2021_02_08_Batch11  2914              \n",
       "3 219814         C02           2021_02_08_Batch11  6314              \n",
       "4 219814         C03           2021_02_08_Batch11  4275              \n",
       "5 219814         C04           2021_02_08_Batch11  3869              \n",
       "6 219814         C05           2021_02_08_Batch11  7621              \n",
       "  Metadata_cell_density Metadata_celltype_shorthand_from_plate_graph\n",
       "1 2.5x10^3 cells/well    4                                          \n",
       "2 2.5x10^3 cells/well    5                                          \n",
       "3 2.5x10^3 cells/well   10                                          \n",
       "4 2.5x10^3 cells/well    9                                          \n",
       "5 2.5x10^3 cells/well    8                                          \n",
       "6 2.5x10^3 cells/well    7                                          \n",
       "  Metadata_clone_number Metadata_date Metadata_plate_map_name\n",
       "1 WT clone 01           20210205      219814                 \n",
       "2 WT clone 02           20210205      219814                 \n",
       "3 BZ002                 20210205      219814                 \n",
       "4 BZ001                 20210205      219814                 \n",
       "5 WT clone 05           20210205      219814                 \n",
       "6 WT clone 04           20210205      219814                 \n",
       "  Metadata_time_to_adhere ⋯ TotalScore  TotalDispersion UpScore    \n",
       "1 48 hr                   ⋯ -0.31530097 126.0210        -0.21370735\n",
       "2 48 hr                   ⋯ -0.59142954  17.7912        -0.32648930\n",
       "3 48 hr                   ⋯ -0.01963229  68.1996        -0.01764025\n",
       "4 48 hr                   ⋯ -0.10345355 100.8168        -0.11075766\n",
       "5 48 hr                   ⋯ -0.45474781  29.6520        -0.28542510\n",
       "6 48 hr                   ⋯ -0.36497388  19.2738        -0.22353962\n",
       "  UpDispersion DownScore    DownDispersion Metadata_permuted_p_value dataset   \n",
       "1 60.7866      -0.101593625 65.2344        0.941                     bortezomib\n",
       "2 10.3782      -0.264940239  7.4130        1.000                     bortezomib\n",
       "3 60.7866      -0.001992032  7.4130        0.536                     bortezomib\n",
       "4 53.3736       0.007304117 47.4432        0.677                     bortezomib\n",
       "5 25.2042      -0.169322709  4.4478        0.988                     bortezomib\n",
       "6 17.7912      -0.141434263  1.4826        0.962                     bortezomib\n",
       "  min_permuted_value max_permuted_value\n",
       "1 -0.3411847         0.3310993         \n",
       "2 -0.3411847         0.3310993         \n",
       "3 -0.3411847         0.3310993         \n",
       "4 -0.3411847         0.3310993         \n",
       "5 -0.3411847         0.3310993         \n",
       "6 -0.3411847         0.3310993         "
      ]
     },
     "metadata": {},
     "output_type": "display_data"
    }
   ],
   "source": [
    "sing_score_results_df %>% readr::write_tsv(output_results_file)\n",
    "\n",
    "print(dim(sing_score_results_df))\n",
    "head(sing_score_results_df)"
   ]
  }
 ],
 "metadata": {
  "kernelspec": {
   "display_name": "R",
   "language": "R",
   "name": "ir"
  },
  "language_info": {
   "codemirror_mode": "r",
   "file_extension": ".r",
   "mimetype": "text/x-r-source",
   "name": "R",
   "pygments_lexer": "r",
   "version": "3.5.1"
  }
 },
 "nbformat": 4,
 "nbformat_minor": 4
}
